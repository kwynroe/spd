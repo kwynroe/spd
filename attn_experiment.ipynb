{
 "cells": [
  {
   "cell_type": "code",
   "execution_count": 1,
   "id": "2290a699",
   "metadata": {},
   "outputs": [
    {
     "name": "stderr",
     "output_type": "stream",
     "text": [
      "\u001b[34m\u001b[1mwandb\u001b[0m: \u001b[33mWARNING\u001b[0m `wandb.require('core')` is a no-op as it is now the default behavior.\n",
      "\u001b[34m\u001b[1mwandb\u001b[0m: \u001b[33mWARNING\u001b[0m `wandb.require('core')` is a no-op as it is now the default behavior.\n",
      "\u001b[34m\u001b[1mwandb\u001b[0m: \u001b[33mWARNING\u001b[0m `wandb.require('core')` is a no-op as it is now the default behavior.\n"
     ]
    }
   ],
   "source": [
    "from spd.experiments.attention.train_attn import AttnModelConfig, AttnTrainConfig\n",
    "from spd.utils import set_seed\n",
    "from spd.experiments.attention.train_attn import run_train\n",
    "import torch\n",
    "from spd.data_utils import SkipTrigramDataset, DatasetGeneratedDataLoader\n",
    "import plotly.express as px\n",
    "from datetime import datetime\n",
    "from pathlib import Path\n",
    "from typing import Any\n",
    "\n",
    "import fire\n",
    "import torch\n",
    "import wandb\n",
    "import yaml\n",
    "\n",
    "from spd.configs import Config, TMSTaskConfig\n",
    "from spd.data_utils import DatasetGeneratedDataLoader, SparseFeatureDataset\n",
    "from spd.experiments.attention.models import SingleHeadAttentionModel, AttnModelConfig\n",
    "from spd.log import logger\n",
    "from spd.plotting import create_toy_model_plot_results\n",
    "from spd.run_spd import get_common_run_name_suffix, optimize\n",
    "from spd.utils import get_device, load_config, set_seed\n",
    "from spd.wandb_utils import init_wandb\n",
    "from spd.experiments.attention.attention_decomposition import get_run_name, save_target_model_info, main\n",
    "from spd.utils import calc_kl_divergence_lm\n",
    "wandb.require(\"core\")"
   ]
  },
  {
   "cell_type": "code",
   "execution_count": null,
   "id": "1cc0024c",
   "metadata": {},
   "outputs": [
    {
     "name": "stderr",
     "output_type": "stream",
     "text": [
      "2025-07-07 17:23:22 - INFO - Using device: cuda\n",
      "\u001b[34m\u001b[1mwandb\u001b[0m: Currently logged in as: \u001b[33mkwyn390\u001b[0m to \u001b[32mhttps://api.wandb.ai\u001b[0m. Use \u001b[1m`wandb login --relogin`\u001b[0m to force relogin\n"
     ]
    },
    {
     "data": {
      "text/html": [
       "Tracking run with wandb version 0.21.0"
      ],
      "text/plain": [
       "<IPython.core.display.HTML object>"
      ]
     },
     "metadata": {},
     "output_type": "display_data"
    },
    {
     "data": {
      "text/html": [
       "Run data is saved locally in <code>/root/spd/wandb/run-20250707_172322-9eulsdar</code>"
      ],
      "text/plain": [
       "<IPython.core.display.HTML object>"
      ]
     },
     "metadata": {},
     "output_type": "display_data"
    },
    {
     "data": {
      "text/html": [
       "Syncing run <strong><a href='https://wandb.ai/kwyn390/spd-attn/runs/9eulsdar' target=\"_blank\">usual-microwave-66</a></strong> to <a href='https://wandb.ai/kwyn390/spd-attn' target=\"_blank\">Weights & Biases</a> (<a href='https://wandb.me/developer-guide' target=\"_blank\">docs</a>)<br>"
      ],
      "text/plain": [
       "<IPython.core.display.HTML object>"
      ]
     },
     "metadata": {},
     "output_type": "display_data"
    },
    {
     "data": {
      "text/html": [
       " View project at <a href='https://wandb.ai/kwyn390/spd-attn' target=\"_blank\">https://wandb.ai/kwyn390/spd-attn</a>"
      ],
      "text/plain": [
       "<IPython.core.display.HTML object>"
      ]
     },
     "metadata": {},
     "output_type": "display_data"
    },
    {
     "data": {
      "text/html": [
       " View run at <a href='https://wandb.ai/kwyn390/spd-attn/runs/9eulsdar' target=\"_blank\">https://wandb.ai/kwyn390/spd-attn/runs/9eulsdar</a>"
      ],
      "text/plain": [
       "<IPython.core.display.HTML object>"
      ]
     },
     "metadata": {},
     "output_type": "display_data"
    },
    {
     "name": "stderr",
     "output_type": "stream",
     "text": [
      "2025-07-07 17:23:27 - INFO - wandb_entity='kwyn390' wandb_project='spd-attn' wandb_run_name=None wandb_run_name_prefix='' seed=0 C=32 n_mask_samples=1 n_ci_mlp_neurons=32 target_module_patterns=['attention'] faithfulness_coeff=10.0 recon_coeff=None stochastic_recon_coeff=5.0 recon_layerwise_coeff=None stochastic_recon_layerwise_coeff=5.0 importance_minimality_coeff=0.001 schatten_coeff=None out_recon_coeff=None embedding_recon_coeff=None is_embed_unembed_recon=False pnorm=1.0 output_loss_type='attn' lr=0.003 steps=50000 batch_size=2048 lr_schedule='cosine' lr_exponential_halflife=None lr_warmup_pct=0.0 n_eval_steps=100 image_freq=5000 image_on_first_step=True print_freq=5000 save_freq=None log_ce_losses=False pretrained_model_class='spd.experiments.attention.models.SingleHeadAttentionModel' pretrained_model_path=PosixPath('/root/spd/spd/experiments/attention/toy_out/attention_vocab20_d16_seq8_datarandom_seed0_20250707_170009_662/attention_model.pth') pretrained_model_name_hf=None pretrained_model_output_attr=None tokenizer_name=None task_config=AttentionTaskConfig(task_name='attention', vocab_size=20, seq_len=8, n_trigrams=32)\n"
     ]
    },
    {
     "name": "stdout",
     "output_type": "stream",
     "text": [
      "Trying to load model from: /root/spd/spd/experiments/attention/toy_out/attention_vocab20_d16_seq8_datarandom_seed0_20250707_170009_662/attention_model.pth\n",
      "File exists: True\n",
      "File size: 7277 bytes\n",
      "First 10 bytes: b'PK\\x03\\x04\\x00\\x00\\x08\\x08\\x00\\x00'\n"
     ]
    },
    {
     "name": "stderr",
     "output_type": "stream",
     "text": [
      "2025-07-07 17:23:27 - INFO - Target model parameters frozen.\n"
     ]
    },
    {
     "name": "stdout",
     "output_type": "stream",
     "text": [
      "Generated 32 skip trigrams:\n",
      "  0, 18 -> 11\n",
      "  14, 4 -> 11\n",
      "  4, 5 -> 12\n",
      "  8, 14 -> 3\n",
      "  4, 4 -> 0\n",
      "  7, 8 -> 19\n",
      "  11, 10 -> 12\n",
      "  9, 9 -> 8\n",
      "  3, 16 -> 9\n",
      "  0, 15 -> 13\n",
      "  3, 15 -> 7\n",
      "  3, 0 -> 1\n",
      "  11, 6 -> 8\n",
      "  16, 12 -> 8\n",
      "  6, 1 -> 18\n",
      "  9, 7 -> 2\n",
      "  9, 8 -> 8\n",
      "  10, 5 -> 13\n",
      "  9, 18 -> 4\n",
      "  13, 14 -> 11\n",
      "  15, 9 -> 14\n",
      "  2, 14 -> 6\n",
      "  16, 2 -> 9\n",
      "  2, 18 -> 0\n",
      "  10, 19 -> 6\n",
      "  16, 4 -> 13\n",
      "  19, 5 -> 6\n",
      "  14, 18 -> 1\n",
      "  7, 9 -> 14\n",
      "  16, 7 -> 3\n",
      "  8, 12 -> 2\n",
      "  16, 9 -> 8\n",
      "\n",
      "=== SPD DECOMPOSITION DEBUG ===\n",
      "Target module patterns: ['attention']\n",
      "Components created: ['attention']\n",
      "State Dict Keys: ['model.token_embedding.weight', 'model.attention.weight', 'model.attention.OV', 'model.unembed.weight', 'components.attention.A', 'components.attention.B', 'gates.attention.mlp_in', 'gates.attention.in_bias', 'gates.attention.mlp_out', 'gates.attention.out_bias']\n",
      "\n",
      "Original modules in target model:\n",
      "  token_embedding: Embedding\n",
      "  attention: BaseAttentionModule\n",
      "  unembed: Linear\n",
      "\n",
      "Components replacing modules:\n",
      "  attention: AttentionComponent\n",
      "    A shape: torch.Size([16, 32])\n",
      "    B shape: torch.Size([32, 16])\n",
      "=== END DEBUG ===\n",
      "\n"
     ]
    },
    {
     "name": "stderr",
     "output_type": "stream",
     "text": [
      "2025-07-07 17:23:28 - INFO - Base LR scheduler created: cosine\n",
      "  0% 0/50001 [00:00<?, ?it/s]2025-07-07 17:23:28 - INFO - Step 0: Generating plots...\n"
     ]
    },
    {
     "name": "stdout",
     "output_type": "stream",
     "text": [
      "--- Step 0 ---\n",
      "LR: 0.003000\n",
      "Total Loss: 1.3311056\n",
      "loss/faithfulness: 0.1122860\n",
      "loss/stochastic_recon: 0.0202063\n",
      "loss/stochastic_recon_layerwise: 0.0201925\n",
      "loss/importance_minimality: 6.2515569\n"
     ]
    },
    {
     "name": "stderr",
     "output_type": "stream",
     "text": [
      "  0% 1/50001 [00:37<516:28:48, 37.19s/it]"
     ]
    },
    {
     "name": "stdout",
     "output_type": "stream",
     "text": [
      "Saved plot to /root/spd/spd/experiments/attention/TEST_OUT/nmasks1_stochrecon5.00e+00_stochreconlayer5.00e+00_p1.00e+00_impmin1.00e-03_C32_sd0_lr3.00e-03_bs2048_vocab20_d16_seq8_20250707_172327_316/mask_vals_attention_0.png\n",
      "Saved plot to /root/spd/spd/experiments/attention/TEST_OUT/nmasks1_stochrecon5.00e+00_stochreconlayer5.00e+00_p1.00e+00_impmin1.00e-03_C32_sd0_lr3.00e-03_bs2048_vocab20_d16_seq8_20250707_172327_316/mean_component_activation_counts_0.png\n"
     ]
    },
    {
     "name": "stderr",
     "output_type": "stream",
     "text": [
      "  0% 72/50001 [01:05<5:30:49,  2.52it/s] "
     ]
    }
   ],
   "source": [
    "import os\n",
    "os.environ[\"WANDB_ENTITY\"] = \"kwyn390\"\n",
    "main(\"/root/spd/spd/experiments/attention/attn_config.yaml\")"
   ]
  },
  {
   "cell_type": "code",
   "execution_count": 2,
   "id": "4c7172c1",
   "metadata": {},
   "outputs": [
    {
     "name": "stderr",
     "output_type": "stream",
     "text": [
      "\u001b[34m\u001b[1mwandb\u001b[0m: Currently logged in as: \u001b[33mkwyn390\u001b[0m (\u001b[33msae_head_superposition\u001b[0m) to \u001b[32mhttps://api.wandb.ai\u001b[0m. Use \u001b[1m`wandb login --relogin`\u001b[0m to force relogin\n"
     ]
    },
    {
     "name": "stdout",
     "output_type": "stream",
     "text": [
      "Generated 32 skip trigrams:\n",
      "  0, 18 -> 11\n",
      "  14, 4 -> 11\n",
      "  4, 5 -> 12\n",
      "  8, 14 -> 3\n",
      "  4, 4 -> 0\n",
      "  7, 8 -> 19\n",
      "  11, 10 -> 12\n",
      "  9, 9 -> 8\n",
      "  3, 16 -> 9\n",
      "  0, 15 -> 13\n",
      "  3, 15 -> 7\n",
      "  3, 0 -> 1\n",
      "  11, 6 -> 8\n",
      "  16, 12 -> 8\n",
      "  6, 1 -> 18\n",
      "  9, 7 -> 2\n",
      "  9, 8 -> 8\n",
      "  10, 5 -> 13\n",
      "  9, 18 -> 4\n",
      "  13, 14 -> 11\n",
      "  15, 9 -> 14\n",
      "  2, 14 -> 6\n",
      "  16, 2 -> 9\n",
      "  2, 18 -> 0\n",
      "  10, 19 -> 6\n",
      "  16, 4 -> 13\n",
      "  19, 5 -> 6\n",
      "  14, 18 -> 1\n",
      "  7, 9 -> 14\n",
      "  16, 7 -> 3\n",
      "  8, 12 -> 2\n",
      "  16, 9 -> 8\n"
     ]
    },
    {
     "data": {
      "text/html": [
       "Tracking run with wandb version 0.21.0"
      ],
      "text/plain": [
       "<IPython.core.display.HTML object>"
      ]
     },
     "metadata": {},
     "output_type": "display_data"
    },
    {
     "data": {
      "text/html": [
       "Run data is saved locally in <code>/root/spd/wandb/run-20250707_170009-cmbdx9d0</code>"
      ],
      "text/plain": [
       "<IPython.core.display.HTML object>"
      ]
     },
     "metadata": {},
     "output_type": "display_data"
    },
    {
     "data": {
      "text/html": [
       "Syncing run <strong><a href='https://wandb.ai/kwyn390/attn_toy/runs/cmbdx9d0' target=\"_blank\">attention_vocab20_d16_seq8_datarandom_seed0</a></strong> to <a href='https://wandb.ai/kwyn390/attn_toy' target=\"_blank\">Weights & Biases</a> (<a href='https://wandb.me/developer-guide' target=\"_blank\">docs</a>)<br>"
      ],
      "text/plain": [
       "<IPython.core.display.HTML object>"
      ]
     },
     "metadata": {},
     "output_type": "display_data"
    },
    {
     "data": {
      "text/html": [
       " View project at <a href='https://wandb.ai/kwyn390/attn_toy' target=\"_blank\">https://wandb.ai/kwyn390/attn_toy</a>"
      ],
      "text/plain": [
       "<IPython.core.display.HTML object>"
      ]
     },
     "metadata": {},
     "output_type": "display_data"
    },
    {
     "data": {
      "text/html": [
       " View run at <a href='https://wandb.ai/kwyn390/attn_toy/runs/cmbdx9d0' target=\"_blank\">https://wandb.ai/kwyn390/attn_toy/runs/cmbdx9d0</a>"
      ],
      "text/plain": [
       "<IPython.core.display.HTML object>"
      ]
     },
     "metadata": {},
     "output_type": "display_data"
    },
    {
     "name": "stderr",
     "output_type": "stream",
     "text": [
      "2025-07-07 17:00:10 - INFO - Saved config to /root/spd/spd/experiments/attention/toy_out/attention_vocab20_d16_seq8_datarandom_seed0_20250707_170009_662/attention_train_config.yaml\n",
      "  0% 1/1000 [00:01<17:58,  1.08s/it, loss=3, lr=0.005]"
     ]
    },
    {
     "name": "stdout",
     "output_type": "stream",
     "text": [
      "token_embedding.weight: grad_norm=0.022402\n",
      "attention.weight: grad_norm=0.000000\n",
      "attention.OV: grad_norm=0.000108\n",
      "unembed.weight: grad_norm=0.023069\n",
      "\n",
      "Step 0 debugging:\n",
      "Sequences shape: torch.Size([4096, 8])\n",
      "Targets shape: torch.Size([4096])\n",
      "Sample sequence: [ 1 17 11  4 13  4 14 11]\n",
      "Sample target: 11\n",
      "Last token in sequence: 11\n",
      "Logits shape: torch.Size([4096, 8, 20])\n",
      "Final logits shape: torch.Size([4096, 20])\n",
      "Loss: 2.995866060256958\n",
      "Predicted token: 18, Target: 11\n",
      "Step 0 Loss: 2.995866060256958\n"
     ]
    },
    {
     "name": "stderr",
     "output_type": "stream",
     "text": [
      " 10% 101/1000 [01:20<11:53,  1.26it/s, loss=0.106, lr=0.005]"
     ]
    },
    {
     "name": "stdout",
     "output_type": "stream",
     "text": [
      "token_embedding.weight: grad_norm=0.063541\n",
      "attention.weight: grad_norm=0.012684\n",
      "attention.OV: grad_norm=0.023626\n",
      "unembed.weight: grad_norm=0.058081\n",
      "\n",
      "Step 100 debugging:\n",
      "Sequences shape: torch.Size([4096, 8])\n",
      "Targets shape: torch.Size([4096])\n",
      "Sample sequence: [13 11  9  4 14 16  7 11]\n",
      "Sample target: 11\n",
      "Last token in sequence: 11\n",
      "Logits shape: torch.Size([4096, 8, 20])\n",
      "Final logits shape: torch.Size([4096, 20])\n",
      "Loss: 0.10640837252140045\n",
      "Predicted token: 11, Target: 11\n",
      "Step 100 Loss: 0.10640837252140045\n"
     ]
    },
    {
     "name": "stderr",
     "output_type": "stream",
     "text": [
      " 20% 201/1000 [02:39<10:34,  1.26it/s, loss=0.00886, lr=0.005]"
     ]
    },
    {
     "name": "stdout",
     "output_type": "stream",
     "text": [
      "token_embedding.weight: grad_norm=0.009938\n",
      "attention.weight: grad_norm=0.002997\n",
      "attention.OV: grad_norm=0.004954\n",
      "unembed.weight: grad_norm=0.007734\n",
      "\n",
      "Step 200 debugging:\n",
      "Sequences shape: torch.Size([4096, 8])\n",
      "Targets shape: torch.Size([4096])\n",
      "Sample sequence: [12  8 13  5  6 16 14  3]\n",
      "Sample target: 3\n",
      "Last token in sequence: 3\n",
      "Logits shape: torch.Size([4096, 8, 20])\n",
      "Final logits shape: torch.Size([4096, 20])\n",
      "Loss: 0.008863803930580616\n",
      "Predicted token: 3, Target: 3\n",
      "Step 200 Loss: 0.008863803930580616\n"
     ]
    },
    {
     "name": "stderr",
     "output_type": "stream",
     "text": [
      " 30% 301/1000 [03:58<09:13,  1.26it/s, loss=0.00312, lr=0.005]"
     ]
    },
    {
     "name": "stdout",
     "output_type": "stream",
     "text": [
      "token_embedding.weight: grad_norm=0.004134\n",
      "attention.weight: grad_norm=0.001320\n",
      "attention.OV: grad_norm=0.002216\n",
      "unembed.weight: grad_norm=0.003032\n",
      "\n",
      "Step 300 debugging:\n",
      "Sequences shape: torch.Size([4096, 8])\n",
      "Targets shape: torch.Size([4096])\n",
      "Sample sequence: [10 10  5 11  6  5 14  8]\n",
      "Sample target: 8\n",
      "Last token in sequence: 8\n",
      "Logits shape: torch.Size([4096, 8, 20])\n",
      "Final logits shape: torch.Size([4096, 20])\n",
      "Loss: 0.003122450318187475\n",
      "Predicted token: 8, Target: 8\n",
      "Step 300 Loss: 0.003122450318187475\n"
     ]
    },
    {
     "name": "stderr",
     "output_type": "stream",
     "text": [
      " 40% 401/1000 [05:18<07:57,  1.25it/s, loss=0.00167, lr=0.005]"
     ]
    },
    {
     "name": "stdout",
     "output_type": "stream",
     "text": [
      "token_embedding.weight: grad_norm=0.002451\n",
      "attention.weight: grad_norm=0.000782\n",
      "attention.OV: grad_norm=0.001344\n",
      "unembed.weight: grad_norm=0.001755\n",
      "\n",
      "Step 400 debugging:\n",
      "Sequences shape: torch.Size([4096, 8])\n",
      "Targets shape: torch.Size([4096])\n",
      "Sample sequence: [15  5 14 18  2 16 10 13]\n",
      "Sample target: 13\n",
      "Last token in sequence: 13\n",
      "Logits shape: torch.Size([4096, 8, 20])\n",
      "Final logits shape: torch.Size([4096, 20])\n",
      "Loss: 0.001665532123297453\n",
      "Predicted token: 13, Target: 13\n",
      "Step 400 Loss: 0.001665532123297453\n"
     ]
    },
    {
     "name": "stderr",
     "output_type": "stream",
     "text": [
      " 50% 501/1000 [06:37<06:35,  1.26it/s, loss=0.00106, lr=0.005]"
     ]
    },
    {
     "name": "stdout",
     "output_type": "stream",
     "text": [
      "token_embedding.weight: grad_norm=0.001631\n",
      "attention.weight: grad_norm=0.000517\n",
      "attention.OV: grad_norm=0.000925\n",
      "unembed.weight: grad_norm=0.001163\n",
      "\n",
      "Step 500 debugging:\n",
      "Sequences shape: torch.Size([4096, 8])\n",
      "Targets shape: torch.Size([4096])\n",
      "Sample sequence: [14  3  3 17  0  1 13 11]\n",
      "Sample target: 11\n",
      "Last token in sequence: 11\n",
      "Logits shape: torch.Size([4096, 8, 20])\n",
      "Final logits shape: torch.Size([4096, 20])\n",
      "Loss: 0.0010572578758001328\n",
      "Predicted token: 11, Target: 11\n",
      "Step 500 Loss: 0.0010572578758001328\n"
     ]
    },
    {
     "name": "stderr",
     "output_type": "stream",
     "text": [
      " 60% 601/1000 [07:56<05:16,  1.26it/s, loss=0.000744, lr=0.005]"
     ]
    },
    {
     "name": "stdout",
     "output_type": "stream",
     "text": [
      "token_embedding.weight: grad_norm=0.001190\n",
      "attention.weight: grad_norm=0.000373\n",
      "attention.OV: grad_norm=0.000686\n",
      "unembed.weight: grad_norm=0.000843\n",
      "\n",
      "Step 600 debugging:\n",
      "Sequences shape: torch.Size([4096, 8])\n",
      "Targets shape: torch.Size([4096])\n",
      "Sample sequence: [11  7 16  8 13 19  9 19]\n",
      "Sample target: 19\n",
      "Last token in sequence: 19\n",
      "Logits shape: torch.Size([4096, 8, 20])\n",
      "Final logits shape: torch.Size([4096, 20])\n",
      "Loss: 0.0007440064800903201\n",
      "Predicted token: 19, Target: 19\n",
      "Step 600 Loss: 0.0007440064800903201\n"
     ]
    },
    {
     "name": "stderr",
     "output_type": "stream",
     "text": [
      " 70% 701/1000 [09:15<03:57,  1.26it/s, loss=0.000558, lr=0.005]"
     ]
    },
    {
     "name": "stdout",
     "output_type": "stream",
     "text": [
      "token_embedding.weight: grad_norm=0.000915\n",
      "attention.weight: grad_norm=0.000286\n",
      "attention.OV: grad_norm=0.000541\n",
      "unembed.weight: grad_norm=0.000646\n",
      "\n",
      "Step 700 debugging:\n",
      "Sequences shape: torch.Size([4096, 8])\n",
      "Targets shape: torch.Size([4096])\n",
      "Sample sequence: [ 3  8  0 12  5  7  9  2]\n",
      "Sample target: 2\n",
      "Last token in sequence: 2\n",
      "Logits shape: torch.Size([4096, 8, 20])\n",
      "Final logits shape: torch.Size([4096, 20])\n",
      "Loss: 0.0005578600103035569\n",
      "Predicted token: 2, Target: 2\n",
      "Step 700 Loss: 0.0005578600103035569\n"
     ]
    },
    {
     "name": "stderr",
     "output_type": "stream",
     "text": [
      " 80% 801/1000 [10:34<02:37,  1.26it/s, loss=0.000443, lr=0.005]"
     ]
    },
    {
     "name": "stdout",
     "output_type": "stream",
     "text": [
      "token_embedding.weight: grad_norm=0.000734\n",
      "attention.weight: grad_norm=0.000229\n",
      "attention.OV: grad_norm=0.000444\n",
      "unembed.weight: grad_norm=0.000518\n",
      "\n",
      "Step 800 debugging:\n",
      "Sequences shape: torch.Size([4096, 8])\n",
      "Targets shape: torch.Size([4096])\n",
      "Sample sequence: [ 4 15  5  3 18  7 16 12]\n",
      "Sample target: 12\n",
      "Last token in sequence: 12\n",
      "Logits shape: torch.Size([4096, 8, 20])\n",
      "Final logits shape: torch.Size([4096, 20])\n",
      "Loss: 0.00044313890975899994\n",
      "Predicted token: 12, Target: 12\n",
      "Step 800 Loss: 0.00044313890975899994\n"
     ]
    },
    {
     "name": "stderr",
     "output_type": "stream",
     "text": [
      " 90% 901/1000 [11:54<01:18,  1.26it/s, loss=0.000359, lr=0.005]"
     ]
    },
    {
     "name": "stdout",
     "output_type": "stream",
     "text": [
      "token_embedding.weight: grad_norm=0.000611\n",
      "attention.weight: grad_norm=0.000187\n",
      "attention.OV: grad_norm=0.000373\n",
      "unembed.weight: grad_norm=0.000430\n",
      "\n",
      "Step 900 debugging:\n",
      "Sequences shape: torch.Size([4096, 8])\n",
      "Targets shape: torch.Size([4096])\n",
      "Sample sequence: [ 8  3  6  0 14  5 10 13]\n",
      "Sample target: 13\n",
      "Last token in sequence: 13\n",
      "Logits shape: torch.Size([4096, 8, 20])\n",
      "Final logits shape: torch.Size([4096, 20])\n",
      "Loss: 0.0003592415596358478\n",
      "Predicted token: 13, Target: 13\n",
      "Step 900 Loss: 0.0003592415596358478\n"
     ]
    },
    {
     "name": "stderr",
     "output_type": "stream",
     "text": [
      "100% 1000/1000 [13:12<00:00,  1.26it/s, loss=0.000305, lr=0.005]\n",
      "2025-07-07 17:13:23 - INFO - Saved model to /root/spd/spd/experiments/attention/toy_out/attention_vocab20_d16_seq8_datarandom_seed0_20250707_170009_662/attention_model.pth\n"
     ]
    },
    {
     "name": "stdout",
     "output_type": "stream",
     "text": [
      "Step 999 Loss: 0.0003052981337532401\n"
     ]
    }
   ],
   "source": [
    "device = \"cuda\" if torch.cuda.is_available() else \"cpu\"\n",
    "config = AttnTrainConfig(\n",
    "        wandb_entity=\"kwyn390\",\n",
    "        wandb_project=\"attn_toy\",\n",
    "        attention_model_config=AttnModelConfig(\n",
    "            vocab_size=20,\n",
    "            d_model = 16,\n",
    "            seq_len=8,\n",
    "        \n",
    "        ),\n",
    "\n",
    "        batch_size=4096,\n",
    "        steps=1000,\n",
    "        seed=0,\n",
    "        lr=5e-3,\n",
    "        n_trigrams=32,\n",
    "\n",
    "        lr_schedule=\"constant\",\n",
    "        data_type=\"random\"\n",
    "    )\n",
    "\n",
    "\n",
    "set_seed(config.seed)\n",
    "\n",
    "run_train(config, device)\n",
    "\n",
    "\n"
   ]
  },
  {
   "cell_type": "code",
   "execution_count": null,
   "id": "98417feb",
   "metadata": {},
   "outputs": [],
   "source": [
    "AttnTrainConfig()"
   ]
  },
  {
   "cell_type": "code",
   "execution_count": 2,
   "id": "559dbdff",
   "metadata": {},
   "outputs": [
    {
     "data": {
      "text/plain": [
       "SingleHeadAttentionModel(\n",
       "  (token_embedding): Embedding(20, 16)\n",
       "  (attention): BaseAttentionModule()\n",
       "  (unembed): Linear(in_features=16, out_features=20, bias=False)\n",
       ")"
      ]
     },
     "execution_count": 2,
     "metadata": {},
     "output_type": "execute_result"
    }
   ],
   "source": [
    "import torch\n",
    "from spd.experiments.attention.models import SingleHeadAttentionModel, AttnModelConfig\n",
    "\n",
    "# Recreate the exact same model config used during training\n",
    "model_config = AttnModelConfig(\n",
    "    vocab_size=20,\n",
    "    d_model=16,\n",
    "    seq_len=8,\n",
    ")\n",
    "\n",
    "# Create the model\n",
    "base_model = SingleHeadAttentionModel(model_config)\n",
    "\n",
    "# Load the saved state dict\n",
    "model_path = \"/root/spd/spd/experiments/attention/TEST_OUT/nmasks1_stochrecon1.00e+01_stochreconlayer1.00e+01_p1.00e+00_impmin1.00e-03_C11_sd0_lr1.00e-03_bs2048_vocab20_d16_seq8_20250707_115748_969/attn.pth\"\n",
    "state_dict = torch.load(model_path)  # Use map_location if loading on different device\n",
    "base_model.load_state_dict(state_dict)\n",
    "\n",
    "# Set to evaluation mode for inference\n",
    "\n",
    "# Move to device if needed\n",
    "device = \"cuda\" if torch.cuda.is_available() else \"cpu\"\n",
    "base_model.to(device)"
   ]
  },
  {
   "cell_type": "code",
   "execution_count": 3,
   "id": "43a0310c",
   "metadata": {},
   "outputs": [
    {
     "data": {
      "text/plain": [
       "<All keys matched successfully>"
      ]
     },
     "execution_count": 3,
     "metadata": {},
     "output_type": "execute_result"
    }
   ],
   "source": [
    "from spd.utils import load_config\n",
    "from spd.models.component_model import ComponentModel\n",
    "model_path = \"/root/spd/spd/experiments/attention/TEST_OUT/nmasks1_stochrecon5.00e+00_stochreconlayer5.00e+00_p1.00e+00_impmin1.00e-03_C16_sd0_lr3.00e-03_bs2048_vocab20_d16_seq8_20250707_141040_697/model_50000.pth\"\n",
    "cfg_path = \"/root/spd/spd/experiments/attention/attn_config.yaml\"\n",
    "config = load_config(cfg_path, config_model=Config)\n",
    "state_dict = torch.load(model_path)  # Use map_location if loading on different device\n",
    "state_dict.keys()\n",
    "model = ComponentModel(\n",
    "        base_model=base_model,\n",
    "        target_module_patterns=config.target_module_patterns,\n",
    "        C=config.C,\n",
    "        n_ci_mlp_neurons=config.n_ci_mlp_neurons,\n",
    "        pretrained_model_output_attr=config.pretrained_model_output_attr,\n",
    "    )\n",
    "model.load_state_dict(state_dict)"
   ]
  },
  {
   "cell_type": "code",
   "execution_count": 5,
   "id": "0ffcf3c4",
   "metadata": {},
   "outputs": [],
   "source": [
    "\n",
    "trigrams =  [(10, 0, 1), (11, 0, 5), (12, 0, 5), (13, 0, 6), (14, 0, 9), (15, 0, 6), (16, 0, 8), (17, 0, 9), (18, 0, 3), (19, 0, 8)]\n"
   ]
  },
  {
   "cell_type": "code",
   "execution_count": 10,
   "id": "5adfefc9",
   "metadata": {},
   "outputs": [],
   "source": [
    "import torch\n",
    "import numpy as np\n",
    "import plotly.express as px\n",
    "import plotly.graph_objects as go\n",
    "from plotly.subplots import make_subplots\n",
    "\n",
    "def analyze_trigram_components(model, trigrams, device=\"cuda\"):\n",
    "    \"\"\"Analyze which components activate for each skip trigram.\"\"\"\n",
    "    \n",
    "    # Get token embeddings\n",
    "    token_embeds = model.model.token_embedding.weight  # [vocab_size, d_model]\n",
    "    \n",
    "    # Extract A and B matrices\n",
    "    A = model.components['attention'].A  # [d_model, C]\n",
    "    B = model.components['attention'].B  # [C, d_model]\n",
    "    \n",
    "    results = []\n",
    "    \n",
    "    for i, (first, second, third) in enumerate(trigrams):\n",
    "        # Get embeddings for the positions we care about\n",
    "        pos1_embed = token_embeds[[first]][0].cuda() # Query position\n",
    "        pos2_embed = token_embeds[[second]][0].cuda()# Key position (the skipped one)\n",
    "        \n",
    "        # Compute component activations\n",
    "        # Query activations: pos1_embed @ A\n",
    "        query_acts = torch.einsum('d,dc->c', pos1_embed.cuda(), A.cuda())  # [C]\n",
    "        \n",
    "        # Key activations: pos2_embed @ B.T  \n",
    "        key_acts = torch.einsum('d,cd->c', pos2_embed, B.cuda())    # [C]\n",
    "        \n",
    "        # Component-wise attention scores (before summing)\n",
    "        component_scores = query_acts * key_acts  # [C]\n",
    "        \n",
    "        results.append({\n",
    "            'trigram_idx': i,\n",
    "            'trigram': (first, second, third),\n",
    "            'query_token': first,\n",
    "            'key_token': second,\n",
    "            'target_token': third,\n",
    "            'query_acts': query_acts.cpu().detach().numpy(),\n",
    "            'key_acts': key_acts.cpu().detach().numpy(), \n",
    "            'component_scores': component_scores.cpu().detach().numpy()\n",
    "        })\n",
    "    \n",
    "    return results\n",
    "\n",
    "# Run the analysis\n",
    "results = analyze_trigram_components(model, trigrams, device)"
   ]
  },
  {
   "cell_type": "code",
   "execution_count": 11,
   "id": "a0f1d6a0",
   "metadata": {},
   "outputs": [
    {
     "data": {
      "application/vnd.plotly.v1+json": {
       "config": {
        "plotlyServerURL": "https://plot.ly"
       },
       "data": [
        {
         "colorbar": {
          "title": {
           "text": "Activation Score"
          }
         },
         "colorscale": [
          [
           0,
           "rgb(103,0,31)"
          ],
          [
           0.1,
           "rgb(178,24,43)"
          ],
          [
           0.2,
           "rgb(214,96,77)"
          ],
          [
           0.3,
           "rgb(244,165,130)"
          ],
          [
           0.4,
           "rgb(253,219,199)"
          ],
          [
           0.5,
           "rgb(247,247,247)"
          ],
          [
           0.6,
           "rgb(209,229,240)"
          ],
          [
           0.7,
           "rgb(146,197,222)"
          ],
          [
           0.8,
           "rgb(67,147,195)"
          ],
          [
           0.9,
           "rgb(33,102,172)"
          ],
          [
           1,
           "rgb(5,48,97)"
          ]
         ],
         "hovertemplate": "Trigram: %{y}<br>Component: %{x}<br>Score: %{z:.3f}<extra></extra>",
         "type": "heatmap",
         "x": [
          "C0",
          "C1",
          "C2",
          "C3",
          "C4",
          "C5",
          "C6",
          "C7",
          "C8",
          "C9",
          "C10"
         ],
         "y": [
          "T0: (10, 0, 1)",
          "T1: (11, 0, 5)",
          "T2: (12, 0, 5)",
          "T3: (13, 0, 6)",
          "T4: (14, 0, 9)",
          "T5: (15, 0, 6)",
          "T6: (16, 0, 8)",
          "T7: (17, 0, 9)",
          "T8: (18, 0, 3)",
          "T9: (19, 0, 8)"
         ],
         "z": {
          "bdata": "q0UDwG3pxL5X6i1AW50svgvV0EBRj0fBzP/WP4ry80AAhAK/sfCUQNCXMEAs0ZJANDDsQKxkmkB2oShAqAt5PwAQi8Evgr8/fSrIP7sbkj4/bIRAf7YNQB5uk0BZPO9Aco6YQF73KkDXzl0/fw+LwaZduT/Aksg/XWZ+PoIrhUAKbwhA3LOLvwc3pcALwTTAtD4gv8/uhMACPqVBtA0PwC7AhMBAa/K+j8MJwSxolb905aZAxN2BP05pST/nCQG/OyQTwEXyscCiaDVAq8BHQJF+Kj/FTao/pwPaP4Izjr/G36nAmFY4wKyPH79n44LACsKoQQFQFcA71IjA6XgAv6s3C8F62JC/eUoaQO/mZEBWSjhAXhW/PycDakAwdVrBKJWVQOSyqEA3Bb0/bkLKQAxVlj/R+aVAhuJ4P7uyMj9nHN6+ULUQwEXDsMDa+TZA2TVGQLMHJj+Ln6M/x7DZP0Whob/P6ylAzK/8P19RKUClZ5dA0mjTwImvVD9z+mzAkJ8zQCqozEAqzVm9UVSaQPiFikDHmZlAkvRHQM9L+EB4uIrBkT5yPyUUhL6A8ohAP6duQJOb2L8=",
          "dtype": "f4",
          "shape": "10, 11"
         },
         "zmid": 0
        }
       ],
       "layout": {
        "font": {
         "size": 10
        },
        "height": 800,
        "template": {
         "data": {
          "bar": [
           {
            "error_x": {
             "color": "#2a3f5f"
            },
            "error_y": {
             "color": "#2a3f5f"
            },
            "marker": {
             "line": {
              "color": "#E5ECF6",
              "width": 0.5
             },
             "pattern": {
              "fillmode": "overlay",
              "size": 10,
              "solidity": 0.2
             }
            },
            "type": "bar"
           }
          ],
          "barpolar": [
           {
            "marker": {
             "line": {
              "color": "#E5ECF6",
              "width": 0.5
             },
             "pattern": {
              "fillmode": "overlay",
              "size": 10,
              "solidity": 0.2
             }
            },
            "type": "barpolar"
           }
          ],
          "carpet": [
           {
            "aaxis": {
             "endlinecolor": "#2a3f5f",
             "gridcolor": "white",
             "linecolor": "white",
             "minorgridcolor": "white",
             "startlinecolor": "#2a3f5f"
            },
            "baxis": {
             "endlinecolor": "#2a3f5f",
             "gridcolor": "white",
             "linecolor": "white",
             "minorgridcolor": "white",
             "startlinecolor": "#2a3f5f"
            },
            "type": "carpet"
           }
          ],
          "choropleth": [
           {
            "colorbar": {
             "outlinewidth": 0,
             "ticks": ""
            },
            "type": "choropleth"
           }
          ],
          "contour": [
           {
            "colorbar": {
             "outlinewidth": 0,
             "ticks": ""
            },
            "colorscale": [
             [
              0,
              "#0d0887"
             ],
             [
              0.1111111111111111,
              "#46039f"
             ],
             [
              0.2222222222222222,
              "#7201a8"
             ],
             [
              0.3333333333333333,
              "#9c179e"
             ],
             [
              0.4444444444444444,
              "#bd3786"
             ],
             [
              0.5555555555555556,
              "#d8576b"
             ],
             [
              0.6666666666666666,
              "#ed7953"
             ],
             [
              0.7777777777777778,
              "#fb9f3a"
             ],
             [
              0.8888888888888888,
              "#fdca26"
             ],
             [
              1,
              "#f0f921"
             ]
            ],
            "type": "contour"
           }
          ],
          "contourcarpet": [
           {
            "colorbar": {
             "outlinewidth": 0,
             "ticks": ""
            },
            "type": "contourcarpet"
           }
          ],
          "heatmap": [
           {
            "colorbar": {
             "outlinewidth": 0,
             "ticks": ""
            },
            "colorscale": [
             [
              0,
              "#0d0887"
             ],
             [
              0.1111111111111111,
              "#46039f"
             ],
             [
              0.2222222222222222,
              "#7201a8"
             ],
             [
              0.3333333333333333,
              "#9c179e"
             ],
             [
              0.4444444444444444,
              "#bd3786"
             ],
             [
              0.5555555555555556,
              "#d8576b"
             ],
             [
              0.6666666666666666,
              "#ed7953"
             ],
             [
              0.7777777777777778,
              "#fb9f3a"
             ],
             [
              0.8888888888888888,
              "#fdca26"
             ],
             [
              1,
              "#f0f921"
             ]
            ],
            "type": "heatmap"
           }
          ],
          "histogram": [
           {
            "marker": {
             "pattern": {
              "fillmode": "overlay",
              "size": 10,
              "solidity": 0.2
             }
            },
            "type": "histogram"
           }
          ],
          "histogram2d": [
           {
            "colorbar": {
             "outlinewidth": 0,
             "ticks": ""
            },
            "colorscale": [
             [
              0,
              "#0d0887"
             ],
             [
              0.1111111111111111,
              "#46039f"
             ],
             [
              0.2222222222222222,
              "#7201a8"
             ],
             [
              0.3333333333333333,
              "#9c179e"
             ],
             [
              0.4444444444444444,
              "#bd3786"
             ],
             [
              0.5555555555555556,
              "#d8576b"
             ],
             [
              0.6666666666666666,
              "#ed7953"
             ],
             [
              0.7777777777777778,
              "#fb9f3a"
             ],
             [
              0.8888888888888888,
              "#fdca26"
             ],
             [
              1,
              "#f0f921"
             ]
            ],
            "type": "histogram2d"
           }
          ],
          "histogram2dcontour": [
           {
            "colorbar": {
             "outlinewidth": 0,
             "ticks": ""
            },
            "colorscale": [
             [
              0,
              "#0d0887"
             ],
             [
              0.1111111111111111,
              "#46039f"
             ],
             [
              0.2222222222222222,
              "#7201a8"
             ],
             [
              0.3333333333333333,
              "#9c179e"
             ],
             [
              0.4444444444444444,
              "#bd3786"
             ],
             [
              0.5555555555555556,
              "#d8576b"
             ],
             [
              0.6666666666666666,
              "#ed7953"
             ],
             [
              0.7777777777777778,
              "#fb9f3a"
             ],
             [
              0.8888888888888888,
              "#fdca26"
             ],
             [
              1,
              "#f0f921"
             ]
            ],
            "type": "histogram2dcontour"
           }
          ],
          "mesh3d": [
           {
            "colorbar": {
             "outlinewidth": 0,
             "ticks": ""
            },
            "type": "mesh3d"
           }
          ],
          "parcoords": [
           {
            "line": {
             "colorbar": {
              "outlinewidth": 0,
              "ticks": ""
             }
            },
            "type": "parcoords"
           }
          ],
          "pie": [
           {
            "automargin": true,
            "type": "pie"
           }
          ],
          "scatter": [
           {
            "fillpattern": {
             "fillmode": "overlay",
             "size": 10,
             "solidity": 0.2
            },
            "type": "scatter"
           }
          ],
          "scatter3d": [
           {
            "line": {
             "colorbar": {
              "outlinewidth": 0,
              "ticks": ""
             }
            },
            "marker": {
             "colorbar": {
              "outlinewidth": 0,
              "ticks": ""
             }
            },
            "type": "scatter3d"
           }
          ],
          "scattercarpet": [
           {
            "marker": {
             "colorbar": {
              "outlinewidth": 0,
              "ticks": ""
             }
            },
            "type": "scattercarpet"
           }
          ],
          "scattergeo": [
           {
            "marker": {
             "colorbar": {
              "outlinewidth": 0,
              "ticks": ""
             }
            },
            "type": "scattergeo"
           }
          ],
          "scattergl": [
           {
            "marker": {
             "colorbar": {
              "outlinewidth": 0,
              "ticks": ""
             }
            },
            "type": "scattergl"
           }
          ],
          "scattermap": [
           {
            "marker": {
             "colorbar": {
              "outlinewidth": 0,
              "ticks": ""
             }
            },
            "type": "scattermap"
           }
          ],
          "scattermapbox": [
           {
            "marker": {
             "colorbar": {
              "outlinewidth": 0,
              "ticks": ""
             }
            },
            "type": "scattermapbox"
           }
          ],
          "scatterpolar": [
           {
            "marker": {
             "colorbar": {
              "outlinewidth": 0,
              "ticks": ""
             }
            },
            "type": "scatterpolar"
           }
          ],
          "scatterpolargl": [
           {
            "marker": {
             "colorbar": {
              "outlinewidth": 0,
              "ticks": ""
             }
            },
            "type": "scatterpolargl"
           }
          ],
          "scatterternary": [
           {
            "marker": {
             "colorbar": {
              "outlinewidth": 0,
              "ticks": ""
             }
            },
            "type": "scatterternary"
           }
          ],
          "surface": [
           {
            "colorbar": {
             "outlinewidth": 0,
             "ticks": ""
            },
            "colorscale": [
             [
              0,
              "#0d0887"
             ],
             [
              0.1111111111111111,
              "#46039f"
             ],
             [
              0.2222222222222222,
              "#7201a8"
             ],
             [
              0.3333333333333333,
              "#9c179e"
             ],
             [
              0.4444444444444444,
              "#bd3786"
             ],
             [
              0.5555555555555556,
              "#d8576b"
             ],
             [
              0.6666666666666666,
              "#ed7953"
             ],
             [
              0.7777777777777778,
              "#fb9f3a"
             ],
             [
              0.8888888888888888,
              "#fdca26"
             ],
             [
              1,
              "#f0f921"
             ]
            ],
            "type": "surface"
           }
          ],
          "table": [
           {
            "cells": {
             "fill": {
              "color": "#EBF0F8"
             },
             "line": {
              "color": "white"
             }
            },
            "header": {
             "fill": {
              "color": "#C8D4E3"
             },
             "line": {
              "color": "white"
             }
            },
            "type": "table"
           }
          ]
         },
         "layout": {
          "annotationdefaults": {
           "arrowcolor": "#2a3f5f",
           "arrowhead": 0,
           "arrowwidth": 1
          },
          "autotypenumbers": "strict",
          "coloraxis": {
           "colorbar": {
            "outlinewidth": 0,
            "ticks": ""
           }
          },
          "colorscale": {
           "diverging": [
            [
             0,
             "#8e0152"
            ],
            [
             0.1,
             "#c51b7d"
            ],
            [
             0.2,
             "#de77ae"
            ],
            [
             0.3,
             "#f1b6da"
            ],
            [
             0.4,
             "#fde0ef"
            ],
            [
             0.5,
             "#f7f7f7"
            ],
            [
             0.6,
             "#e6f5d0"
            ],
            [
             0.7,
             "#b8e186"
            ],
            [
             0.8,
             "#7fbc41"
            ],
            [
             0.9,
             "#4d9221"
            ],
            [
             1,
             "#276419"
            ]
           ],
           "sequential": [
            [
             0,
             "#0d0887"
            ],
            [
             0.1111111111111111,
             "#46039f"
            ],
            [
             0.2222222222222222,
             "#7201a8"
            ],
            [
             0.3333333333333333,
             "#9c179e"
            ],
            [
             0.4444444444444444,
             "#bd3786"
            ],
            [
             0.5555555555555556,
             "#d8576b"
            ],
            [
             0.6666666666666666,
             "#ed7953"
            ],
            [
             0.7777777777777778,
             "#fb9f3a"
            ],
            [
             0.8888888888888888,
             "#fdca26"
            ],
            [
             1,
             "#f0f921"
            ]
           ],
           "sequentialminus": [
            [
             0,
             "#0d0887"
            ],
            [
             0.1111111111111111,
             "#46039f"
            ],
            [
             0.2222222222222222,
             "#7201a8"
            ],
            [
             0.3333333333333333,
             "#9c179e"
            ],
            [
             0.4444444444444444,
             "#bd3786"
            ],
            [
             0.5555555555555556,
             "#d8576b"
            ],
            [
             0.6666666666666666,
             "#ed7953"
            ],
            [
             0.7777777777777778,
             "#fb9f3a"
            ],
            [
             0.8888888888888888,
             "#fdca26"
            ],
            [
             1,
             "#f0f921"
            ]
           ]
          },
          "colorway": [
           "#636efa",
           "#EF553B",
           "#00cc96",
           "#ab63fa",
           "#FFA15A",
           "#19d3f3",
           "#FF6692",
           "#B6E880",
           "#FF97FF",
           "#FECB52"
          ],
          "font": {
           "color": "#2a3f5f"
          },
          "geo": {
           "bgcolor": "white",
           "lakecolor": "white",
           "landcolor": "#E5ECF6",
           "showlakes": true,
           "showland": true,
           "subunitcolor": "white"
          },
          "hoverlabel": {
           "align": "left"
          },
          "hovermode": "closest",
          "mapbox": {
           "style": "light"
          },
          "paper_bgcolor": "white",
          "plot_bgcolor": "#E5ECF6",
          "polar": {
           "angularaxis": {
            "gridcolor": "white",
            "linecolor": "white",
            "ticks": ""
           },
           "bgcolor": "#E5ECF6",
           "radialaxis": {
            "gridcolor": "white",
            "linecolor": "white",
            "ticks": ""
           }
          },
          "scene": {
           "xaxis": {
            "backgroundcolor": "#E5ECF6",
            "gridcolor": "white",
            "gridwidth": 2,
            "linecolor": "white",
            "showbackground": true,
            "ticks": "",
            "zerolinecolor": "white"
           },
           "yaxis": {
            "backgroundcolor": "#E5ECF6",
            "gridcolor": "white",
            "gridwidth": 2,
            "linecolor": "white",
            "showbackground": true,
            "ticks": "",
            "zerolinecolor": "white"
           },
           "zaxis": {
            "backgroundcolor": "#E5ECF6",
            "gridcolor": "white",
            "gridwidth": 2,
            "linecolor": "white",
            "showbackground": true,
            "ticks": "",
            "zerolinecolor": "white"
           }
          },
          "shapedefaults": {
           "line": {
            "color": "#2a3f5f"
           }
          },
          "ternary": {
           "aaxis": {
            "gridcolor": "white",
            "linecolor": "white",
            "ticks": ""
           },
           "baxis": {
            "gridcolor": "white",
            "linecolor": "white",
            "ticks": ""
           },
           "bgcolor": "#E5ECF6",
           "caxis": {
            "gridcolor": "white",
            "linecolor": "white",
            "ticks": ""
           }
          },
          "title": {
           "x": 0.05
          },
          "xaxis": {
           "automargin": true,
           "gridcolor": "white",
           "linecolor": "white",
           "ticks": "",
           "title": {
            "standoff": 15
           },
           "zerolinecolor": "white",
           "zerolinewidth": 2
          },
          "yaxis": {
           "automargin": true,
           "gridcolor": "white",
           "linecolor": "white",
           "ticks": "",
           "title": {
            "standoff": 15
           },
           "zerolinecolor": "white",
           "zerolinewidth": 2
          }
         }
        },
        "title": {
         "text": "Component Activations Across All Skip Trigrams"
        },
        "width": 1000,
        "xaxis": {
         "title": {
          "text": "Components"
         }
        },
        "yaxis": {
         "title": {
          "text": "Trigrams"
         }
        }
       }
      }
     },
     "metadata": {},
     "output_type": "display_data"
    },
    {
     "data": {
      "application/vnd.plotly.v1+json": {
       "config": {
        "plotlyServerURL": "https://plot.ly"
       },
       "data": [
        {
         "colorbar": {
          "title": {
           "text": "Activation Score"
          }
         },
         "colorscale": [
          [
           0,
           "rgb(103,0,31)"
          ],
          [
           0.1,
           "rgb(178,24,43)"
          ],
          [
           0.2,
           "rgb(214,96,77)"
          ],
          [
           0.3,
           "rgb(244,165,130)"
          ],
          [
           0.4,
           "rgb(253,219,199)"
          ],
          [
           0.5,
           "rgb(247,247,247)"
          ],
          [
           0.6,
           "rgb(209,229,240)"
          ],
          [
           0.7,
           "rgb(146,197,222)"
          ],
          [
           0.8,
           "rgb(67,147,195)"
          ],
          [
           0.9,
           "rgb(33,102,172)"
          ],
          [
           1,
           "rgb(5,48,97)"
          ]
         ],
         "hovertemplate": "Trigram: %{y}<br>Component: %{x}<br>Score: %{z:.3f}<extra></extra>",
         "type": "heatmap",
         "x": [
          "C0",
          "C1",
          "C2",
          "C3",
          "C4",
          "C5",
          "C6",
          "C7",
          "C8",
          "C9",
          "C10"
         ],
         "y": [
          "T0: (10, 0, 1)",
          "T1: (11, 0, 5)",
          "T2: (12, 0, 5)",
          "T3: (13, 0, 6)",
          "T4: (14, 0, 9)",
          "T5: (15, 0, 6)",
          "T6: (16, 0, 8)",
          "T7: (17, 0, 9)",
          "T8: (18, 0, 3)",
          "T9: (19, 0, 8)"
         ],
         "z": {
          "bdata": "q0UDwG3pxL5X6i1AW50svgvV0EBRj0fBzP/WP4ry80AAhAK/sfCUQNCXMEAs0ZJANDDsQKxkmkB2oShAqAt5PwAQi8Evgr8/fSrIP7sbkj4/bIRAf7YNQB5uk0BZPO9Aco6YQF73KkDXzl0/fw+LwaZduT/Aksg/XWZ+PoIrhUAKbwhA3LOLvwc3pcALwTTAtD4gv8/uhMACPqVBtA0PwC7AhMBAa/K+j8MJwSxolb905aZAxN2BP05pST/nCQG/OyQTwEXyscCiaDVAq8BHQJF+Kj/FTao/pwPaP4Izjr/G36nAmFY4wKyPH79n44LACsKoQQFQFcA71IjA6XgAv6s3C8F62JC/eUoaQO/mZEBWSjhAXhW/PycDakAwdVrBKJWVQOSyqEA3Bb0/bkLKQAxVlj/R+aVAhuJ4P7uyMj9nHN6+ULUQwEXDsMDa+TZA2TVGQLMHJj+Ln6M/x7DZP0Whob/P6ylAzK/8P19RKUClZ5dA0mjTwImvVD9z+mzAkJ8zQCqozEAqzVm9UVSaQPiFikDHmZlAkvRHQM9L+EB4uIrBkT5yPyUUhL6A8ohAP6duQJOb2L8=",
          "dtype": "f4",
          "shape": "10, 11"
         },
         "zmid": 0
        }
       ],
       "layout": {
        "font": {
         "size": 10
        },
        "height": 800,
        "template": {
         "data": {
          "bar": [
           {
            "error_x": {
             "color": "#2a3f5f"
            },
            "error_y": {
             "color": "#2a3f5f"
            },
            "marker": {
             "line": {
              "color": "#E5ECF6",
              "width": 0.5
             },
             "pattern": {
              "fillmode": "overlay",
              "size": 10,
              "solidity": 0.2
             }
            },
            "type": "bar"
           }
          ],
          "barpolar": [
           {
            "marker": {
             "line": {
              "color": "#E5ECF6",
              "width": 0.5
             },
             "pattern": {
              "fillmode": "overlay",
              "size": 10,
              "solidity": 0.2
             }
            },
            "type": "barpolar"
           }
          ],
          "carpet": [
           {
            "aaxis": {
             "endlinecolor": "#2a3f5f",
             "gridcolor": "white",
             "linecolor": "white",
             "minorgridcolor": "white",
             "startlinecolor": "#2a3f5f"
            },
            "baxis": {
             "endlinecolor": "#2a3f5f",
             "gridcolor": "white",
             "linecolor": "white",
             "minorgridcolor": "white",
             "startlinecolor": "#2a3f5f"
            },
            "type": "carpet"
           }
          ],
          "choropleth": [
           {
            "colorbar": {
             "outlinewidth": 0,
             "ticks": ""
            },
            "type": "choropleth"
           }
          ],
          "contour": [
           {
            "colorbar": {
             "outlinewidth": 0,
             "ticks": ""
            },
            "colorscale": [
             [
              0,
              "#0d0887"
             ],
             [
              0.1111111111111111,
              "#46039f"
             ],
             [
              0.2222222222222222,
              "#7201a8"
             ],
             [
              0.3333333333333333,
              "#9c179e"
             ],
             [
              0.4444444444444444,
              "#bd3786"
             ],
             [
              0.5555555555555556,
              "#d8576b"
             ],
             [
              0.6666666666666666,
              "#ed7953"
             ],
             [
              0.7777777777777778,
              "#fb9f3a"
             ],
             [
              0.8888888888888888,
              "#fdca26"
             ],
             [
              1,
              "#f0f921"
             ]
            ],
            "type": "contour"
           }
          ],
          "contourcarpet": [
           {
            "colorbar": {
             "outlinewidth": 0,
             "ticks": ""
            },
            "type": "contourcarpet"
           }
          ],
          "heatmap": [
           {
            "colorbar": {
             "outlinewidth": 0,
             "ticks": ""
            },
            "colorscale": [
             [
              0,
              "#0d0887"
             ],
             [
              0.1111111111111111,
              "#46039f"
             ],
             [
              0.2222222222222222,
              "#7201a8"
             ],
             [
              0.3333333333333333,
              "#9c179e"
             ],
             [
              0.4444444444444444,
              "#bd3786"
             ],
             [
              0.5555555555555556,
              "#d8576b"
             ],
             [
              0.6666666666666666,
              "#ed7953"
             ],
             [
              0.7777777777777778,
              "#fb9f3a"
             ],
             [
              0.8888888888888888,
              "#fdca26"
             ],
             [
              1,
              "#f0f921"
             ]
            ],
            "type": "heatmap"
           }
          ],
          "histogram": [
           {
            "marker": {
             "pattern": {
              "fillmode": "overlay",
              "size": 10,
              "solidity": 0.2
             }
            },
            "type": "histogram"
           }
          ],
          "histogram2d": [
           {
            "colorbar": {
             "outlinewidth": 0,
             "ticks": ""
            },
            "colorscale": [
             [
              0,
              "#0d0887"
             ],
             [
              0.1111111111111111,
              "#46039f"
             ],
             [
              0.2222222222222222,
              "#7201a8"
             ],
             [
              0.3333333333333333,
              "#9c179e"
             ],
             [
              0.4444444444444444,
              "#bd3786"
             ],
             [
              0.5555555555555556,
              "#d8576b"
             ],
             [
              0.6666666666666666,
              "#ed7953"
             ],
             [
              0.7777777777777778,
              "#fb9f3a"
             ],
             [
              0.8888888888888888,
              "#fdca26"
             ],
             [
              1,
              "#f0f921"
             ]
            ],
            "type": "histogram2d"
           }
          ],
          "histogram2dcontour": [
           {
            "colorbar": {
             "outlinewidth": 0,
             "ticks": ""
            },
            "colorscale": [
             [
              0,
              "#0d0887"
             ],
             [
              0.1111111111111111,
              "#46039f"
             ],
             [
              0.2222222222222222,
              "#7201a8"
             ],
             [
              0.3333333333333333,
              "#9c179e"
             ],
             [
              0.4444444444444444,
              "#bd3786"
             ],
             [
              0.5555555555555556,
              "#d8576b"
             ],
             [
              0.6666666666666666,
              "#ed7953"
             ],
             [
              0.7777777777777778,
              "#fb9f3a"
             ],
             [
              0.8888888888888888,
              "#fdca26"
             ],
             [
              1,
              "#f0f921"
             ]
            ],
            "type": "histogram2dcontour"
           }
          ],
          "mesh3d": [
           {
            "colorbar": {
             "outlinewidth": 0,
             "ticks": ""
            },
            "type": "mesh3d"
           }
          ],
          "parcoords": [
           {
            "line": {
             "colorbar": {
              "outlinewidth": 0,
              "ticks": ""
             }
            },
            "type": "parcoords"
           }
          ],
          "pie": [
           {
            "automargin": true,
            "type": "pie"
           }
          ],
          "scatter": [
           {
            "fillpattern": {
             "fillmode": "overlay",
             "size": 10,
             "solidity": 0.2
            },
            "type": "scatter"
           }
          ],
          "scatter3d": [
           {
            "line": {
             "colorbar": {
              "outlinewidth": 0,
              "ticks": ""
             }
            },
            "marker": {
             "colorbar": {
              "outlinewidth": 0,
              "ticks": ""
             }
            },
            "type": "scatter3d"
           }
          ],
          "scattercarpet": [
           {
            "marker": {
             "colorbar": {
              "outlinewidth": 0,
              "ticks": ""
             }
            },
            "type": "scattercarpet"
           }
          ],
          "scattergeo": [
           {
            "marker": {
             "colorbar": {
              "outlinewidth": 0,
              "ticks": ""
             }
            },
            "type": "scattergeo"
           }
          ],
          "scattergl": [
           {
            "marker": {
             "colorbar": {
              "outlinewidth": 0,
              "ticks": ""
             }
            },
            "type": "scattergl"
           }
          ],
          "scattermap": [
           {
            "marker": {
             "colorbar": {
              "outlinewidth": 0,
              "ticks": ""
             }
            },
            "type": "scattermap"
           }
          ],
          "scattermapbox": [
           {
            "marker": {
             "colorbar": {
              "outlinewidth": 0,
              "ticks": ""
             }
            },
            "type": "scattermapbox"
           }
          ],
          "scatterpolar": [
           {
            "marker": {
             "colorbar": {
              "outlinewidth": 0,
              "ticks": ""
             }
            },
            "type": "scatterpolar"
           }
          ],
          "scatterpolargl": [
           {
            "marker": {
             "colorbar": {
              "outlinewidth": 0,
              "ticks": ""
             }
            },
            "type": "scatterpolargl"
           }
          ],
          "scatterternary": [
           {
            "marker": {
             "colorbar": {
              "outlinewidth": 0,
              "ticks": ""
             }
            },
            "type": "scatterternary"
           }
          ],
          "surface": [
           {
            "colorbar": {
             "outlinewidth": 0,
             "ticks": ""
            },
            "colorscale": [
             [
              0,
              "#0d0887"
             ],
             [
              0.1111111111111111,
              "#46039f"
             ],
             [
              0.2222222222222222,
              "#7201a8"
             ],
             [
              0.3333333333333333,
              "#9c179e"
             ],
             [
              0.4444444444444444,
              "#bd3786"
             ],
             [
              0.5555555555555556,
              "#d8576b"
             ],
             [
              0.6666666666666666,
              "#ed7953"
             ],
             [
              0.7777777777777778,
              "#fb9f3a"
             ],
             [
              0.8888888888888888,
              "#fdca26"
             ],
             [
              1,
              "#f0f921"
             ]
            ],
            "type": "surface"
           }
          ],
          "table": [
           {
            "cells": {
             "fill": {
              "color": "#EBF0F8"
             },
             "line": {
              "color": "white"
             }
            },
            "header": {
             "fill": {
              "color": "#C8D4E3"
             },
             "line": {
              "color": "white"
             }
            },
            "type": "table"
           }
          ]
         },
         "layout": {
          "annotationdefaults": {
           "arrowcolor": "#2a3f5f",
           "arrowhead": 0,
           "arrowwidth": 1
          },
          "autotypenumbers": "strict",
          "coloraxis": {
           "colorbar": {
            "outlinewidth": 0,
            "ticks": ""
           }
          },
          "colorscale": {
           "diverging": [
            [
             0,
             "#8e0152"
            ],
            [
             0.1,
             "#c51b7d"
            ],
            [
             0.2,
             "#de77ae"
            ],
            [
             0.3,
             "#f1b6da"
            ],
            [
             0.4,
             "#fde0ef"
            ],
            [
             0.5,
             "#f7f7f7"
            ],
            [
             0.6,
             "#e6f5d0"
            ],
            [
             0.7,
             "#b8e186"
            ],
            [
             0.8,
             "#7fbc41"
            ],
            [
             0.9,
             "#4d9221"
            ],
            [
             1,
             "#276419"
            ]
           ],
           "sequential": [
            [
             0,
             "#0d0887"
            ],
            [
             0.1111111111111111,
             "#46039f"
            ],
            [
             0.2222222222222222,
             "#7201a8"
            ],
            [
             0.3333333333333333,
             "#9c179e"
            ],
            [
             0.4444444444444444,
             "#bd3786"
            ],
            [
             0.5555555555555556,
             "#d8576b"
            ],
            [
             0.6666666666666666,
             "#ed7953"
            ],
            [
             0.7777777777777778,
             "#fb9f3a"
            ],
            [
             0.8888888888888888,
             "#fdca26"
            ],
            [
             1,
             "#f0f921"
            ]
           ],
           "sequentialminus": [
            [
             0,
             "#0d0887"
            ],
            [
             0.1111111111111111,
             "#46039f"
            ],
            [
             0.2222222222222222,
             "#7201a8"
            ],
            [
             0.3333333333333333,
             "#9c179e"
            ],
            [
             0.4444444444444444,
             "#bd3786"
            ],
            [
             0.5555555555555556,
             "#d8576b"
            ],
            [
             0.6666666666666666,
             "#ed7953"
            ],
            [
             0.7777777777777778,
             "#fb9f3a"
            ],
            [
             0.8888888888888888,
             "#fdca26"
            ],
            [
             1,
             "#f0f921"
            ]
           ]
          },
          "colorway": [
           "#636efa",
           "#EF553B",
           "#00cc96",
           "#ab63fa",
           "#FFA15A",
           "#19d3f3",
           "#FF6692",
           "#B6E880",
           "#FF97FF",
           "#FECB52"
          ],
          "font": {
           "color": "#2a3f5f"
          },
          "geo": {
           "bgcolor": "white",
           "lakecolor": "white",
           "landcolor": "#E5ECF6",
           "showlakes": true,
           "showland": true,
           "subunitcolor": "white"
          },
          "hoverlabel": {
           "align": "left"
          },
          "hovermode": "closest",
          "mapbox": {
           "style": "light"
          },
          "paper_bgcolor": "white",
          "plot_bgcolor": "#E5ECF6",
          "polar": {
           "angularaxis": {
            "gridcolor": "white",
            "linecolor": "white",
            "ticks": ""
           },
           "bgcolor": "#E5ECF6",
           "radialaxis": {
            "gridcolor": "white",
            "linecolor": "white",
            "ticks": ""
           }
          },
          "scene": {
           "xaxis": {
            "backgroundcolor": "#E5ECF6",
            "gridcolor": "white",
            "gridwidth": 2,
            "linecolor": "white",
            "showbackground": true,
            "ticks": "",
            "zerolinecolor": "white"
           },
           "yaxis": {
            "backgroundcolor": "#E5ECF6",
            "gridcolor": "white",
            "gridwidth": 2,
            "linecolor": "white",
            "showbackground": true,
            "ticks": "",
            "zerolinecolor": "white"
           },
           "zaxis": {
            "backgroundcolor": "#E5ECF6",
            "gridcolor": "white",
            "gridwidth": 2,
            "linecolor": "white",
            "showbackground": true,
            "ticks": "",
            "zerolinecolor": "white"
           }
          },
          "shapedefaults": {
           "line": {
            "color": "#2a3f5f"
           }
          },
          "ternary": {
           "aaxis": {
            "gridcolor": "white",
            "linecolor": "white",
            "ticks": ""
           },
           "baxis": {
            "gridcolor": "white",
            "linecolor": "white",
            "ticks": ""
           },
           "bgcolor": "#E5ECF6",
           "caxis": {
            "gridcolor": "white",
            "linecolor": "white",
            "ticks": ""
           }
          },
          "title": {
           "x": 0.05
          },
          "xaxis": {
           "automargin": true,
           "gridcolor": "white",
           "linecolor": "white",
           "ticks": "",
           "title": {
            "standoff": 15
           },
           "zerolinecolor": "white",
           "zerolinewidth": 2
          },
          "yaxis": {
           "automargin": true,
           "gridcolor": "white",
           "linecolor": "white",
           "ticks": "",
           "title": {
            "standoff": 15
           },
           "zerolinecolor": "white",
           "zerolinewidth": 2
          }
         }
        },
        "title": {
         "text": "Component Activations Across All Skip Trigrams"
        },
        "width": 1000,
        "xaxis": {
         "title": {
          "text": "Components"
         }
        },
        "yaxis": {
         "title": {
          "text": "Trigrams"
         }
        }
       }
      }
     },
     "metadata": {},
     "output_type": "display_data"
    }
   ],
   "source": [
    "def plot_component_heatmap(results):\n",
    "    \"\"\"Create a heatmap showing component activations for all trigrams.\"\"\"\n",
    "    \n",
    "    # Extract data\n",
    "    component_scores_matrix = np.array([r['component_scores'] for r in results])\n",
    "    trigram_labels = [f\"T{i}: {r['trigram']}\" for i, r in enumerate(results)]\n",
    "    component_labels = [f\"C{i}\" for i in range(len(results[0]['component_scores']))]\n",
    "    \n",
    "    # Create heatmap\n",
    "    fig = go.Figure(data=go.Heatmap(\n",
    "        z=component_scores_matrix,\n",
    "        x=component_labels,\n",
    "        y=trigram_labels,\n",
    "        colorscale='RdBu',\n",
    "        zmid=0,\n",
    "        colorbar=dict(title=\"Activation Score\"),\n",
    "        hovertemplate=\"Trigram: %{y}<br>Component: %{x}<br>Score: %{z:.3f}<extra></extra>\"\n",
    "    ))\n",
    "    \n",
    "    fig.update_layout(\n",
    "        title=\"Component Activations Across All Skip Trigrams\",\n",
    "        xaxis_title=\"Components\",\n",
    "        yaxis_title=\"Trigrams\",\n",
    "        height=800,\n",
    "        width=1000,\n",
    "        font=dict(size=10)\n",
    "    )\n",
    "    \n",
    "    fig.show()\n",
    "    return fig\n",
    "\n",
    "plot_component_heatmap(results)"
   ]
  },
  {
   "cell_type": "code",
   "execution_count": 12,
   "id": "d2e945c7",
   "metadata": {},
   "outputs": [],
   "source": [
    "token_embeds = model.model.token_embedding.weight  # [vocab_size, d_model]\n",
    "ci_gates = model.gates.attention.cuda()\n",
    "A = model.components['attention'].A  # [d_model, C]\n",
    "B = model.components['attention'].B  # [C, d_model]\n",
    "a = []\n",
    "for i, (first, second, third) in enumerate(trigrams):\n",
    "        # Get embeddings for the positions we care about\n",
    "        pos1_embed = token_embeds[[first]][0].cuda() \n",
    "        pos2_embed = token_embeds[[second]][0].cuda()# Key position (the skipped one)\n",
    "        query_acts = torch.einsum('d,dc->c', pos1_embed.cuda(), A.cuda())  # [C]\n",
    " \n",
    "        key_acts = torch.einsum('d,cd->c', pos2_embed, B.cuda())    # [C]\n",
    "        component_scores = query_acts * key_acts  \n",
    "        cis = ci_gates.forward(component_scores.cuda())\n",
    "        a.append(cis)\n",
    "        \n",
    "        \n",
    " "
   ]
  },
  {
   "cell_type": "code",
   "execution_count": 13,
   "id": "41302b0a",
   "metadata": {},
   "outputs": [
    {
     "data": {
      "application/vnd.plotly.v1+json": {
       "config": {
        "plotlyServerURL": "https://plot.ly"
       },
       "data": [
        {
         "coloraxis": "coloraxis",
         "hovertemplate": "x: %{x}<br>y: %{y}<br>color: %{z}<extra></extra>",
         "name": "0",
         "type": "heatmap",
         "xaxis": "x",
         "yaxis": "y",
         "z": {
          "bdata": "O14iQNiOozxlMZQ/hITtvlsH1z9mQiTE5rWxPkuDskCOleM9PPDRP3q7/D7VFl9Bd6cKQESeCUA8QeU+iFZ5vkFuYsSEJVo+NrmNPwwHU75gKMA/cOImPSoMYEH4wQxAhO8HQNRf8D6EWJ++dG1ixBgmNz7TEY4/bgpbvsj1wD9gm9W8vSh/P0cRxD92cYw/QLUuPdmpyUAhVV/E6m6LPxObc0C0v6A9h/dsQFjqUT9xd35BZoGdvZUKKT4w6tm9Xv5KQOt3mcPkEpo/rxcWQMJEIb26QS4/rvS0vso3hD8JFcg/vZ6RP2B4IT1mUsZA0v5jxDSWkD/0GXxASsTUPUB0b0Alv0o/Ci3iQIU3WT9fTp4/+GZLvsfojz/tNjPEP64hQOB6eUBp8PY+MMQFQDWLLr9HB31B8sHCvVg94T0yy0O+YptGQBSImMOUWJw/yvIUQKr5Sb0gcik/PuG1vqpppz84HQY/Z4lKP1SG6D6X/a8/uPSzw6z7V74OzFVA04K2P7wPB0D0zgS/k9RqQfkUjj9z5AhABpg9P5f87T+642HEPE8Uvhgblr736xhAxiGyP8BWlz8=",
          "dtype": "f4",
          "shape": "10, 11"
         }
        }
       ],
       "layout": {
        "coloraxis": {
         "cmid": 0,
         "colorscale": [
          [
           0,
           "rgb(103,0,31)"
          ],
          [
           0.1,
           "rgb(178,24,43)"
          ],
          [
           0.2,
           "rgb(214,96,77)"
          ],
          [
           0.3,
           "rgb(244,165,130)"
          ],
          [
           0.4,
           "rgb(253,219,199)"
          ],
          [
           0.5,
           "rgb(247,247,247)"
          ],
          [
           0.6,
           "rgb(209,229,240)"
          ],
          [
           0.7,
           "rgb(146,197,222)"
          ],
          [
           0.8,
           "rgb(67,147,195)"
          ],
          [
           0.9,
           "rgb(33,102,172)"
          ],
          [
           1,
           "rgb(5,48,97)"
          ]
         ]
        },
        "margin": {
         "t": 60
        },
        "template": {
         "data": {
          "bar": [
           {
            "error_x": {
             "color": "#2a3f5f"
            },
            "error_y": {
             "color": "#2a3f5f"
            },
            "marker": {
             "line": {
              "color": "#E5ECF6",
              "width": 0.5
             },
             "pattern": {
              "fillmode": "overlay",
              "size": 10,
              "solidity": 0.2
             }
            },
            "type": "bar"
           }
          ],
          "barpolar": [
           {
            "marker": {
             "line": {
              "color": "#E5ECF6",
              "width": 0.5
             },
             "pattern": {
              "fillmode": "overlay",
              "size": 10,
              "solidity": 0.2
             }
            },
            "type": "barpolar"
           }
          ],
          "carpet": [
           {
            "aaxis": {
             "endlinecolor": "#2a3f5f",
             "gridcolor": "white",
             "linecolor": "white",
             "minorgridcolor": "white",
             "startlinecolor": "#2a3f5f"
            },
            "baxis": {
             "endlinecolor": "#2a3f5f",
             "gridcolor": "white",
             "linecolor": "white",
             "minorgridcolor": "white",
             "startlinecolor": "#2a3f5f"
            },
            "type": "carpet"
           }
          ],
          "choropleth": [
           {
            "colorbar": {
             "outlinewidth": 0,
             "ticks": ""
            },
            "type": "choropleth"
           }
          ],
          "contour": [
           {
            "colorbar": {
             "outlinewidth": 0,
             "ticks": ""
            },
            "colorscale": [
             [
              0,
              "#0d0887"
             ],
             [
              0.1111111111111111,
              "#46039f"
             ],
             [
              0.2222222222222222,
              "#7201a8"
             ],
             [
              0.3333333333333333,
              "#9c179e"
             ],
             [
              0.4444444444444444,
              "#bd3786"
             ],
             [
              0.5555555555555556,
              "#d8576b"
             ],
             [
              0.6666666666666666,
              "#ed7953"
             ],
             [
              0.7777777777777778,
              "#fb9f3a"
             ],
             [
              0.8888888888888888,
              "#fdca26"
             ],
             [
              1,
              "#f0f921"
             ]
            ],
            "type": "contour"
           }
          ],
          "contourcarpet": [
           {
            "colorbar": {
             "outlinewidth": 0,
             "ticks": ""
            },
            "type": "contourcarpet"
           }
          ],
          "heatmap": [
           {
            "colorbar": {
             "outlinewidth": 0,
             "ticks": ""
            },
            "colorscale": [
             [
              0,
              "#0d0887"
             ],
             [
              0.1111111111111111,
              "#46039f"
             ],
             [
              0.2222222222222222,
              "#7201a8"
             ],
             [
              0.3333333333333333,
              "#9c179e"
             ],
             [
              0.4444444444444444,
              "#bd3786"
             ],
             [
              0.5555555555555556,
              "#d8576b"
             ],
             [
              0.6666666666666666,
              "#ed7953"
             ],
             [
              0.7777777777777778,
              "#fb9f3a"
             ],
             [
              0.8888888888888888,
              "#fdca26"
             ],
             [
              1,
              "#f0f921"
             ]
            ],
            "type": "heatmap"
           }
          ],
          "histogram": [
           {
            "marker": {
             "pattern": {
              "fillmode": "overlay",
              "size": 10,
              "solidity": 0.2
             }
            },
            "type": "histogram"
           }
          ],
          "histogram2d": [
           {
            "colorbar": {
             "outlinewidth": 0,
             "ticks": ""
            },
            "colorscale": [
             [
              0,
              "#0d0887"
             ],
             [
              0.1111111111111111,
              "#46039f"
             ],
             [
              0.2222222222222222,
              "#7201a8"
             ],
             [
              0.3333333333333333,
              "#9c179e"
             ],
             [
              0.4444444444444444,
              "#bd3786"
             ],
             [
              0.5555555555555556,
              "#d8576b"
             ],
             [
              0.6666666666666666,
              "#ed7953"
             ],
             [
              0.7777777777777778,
              "#fb9f3a"
             ],
             [
              0.8888888888888888,
              "#fdca26"
             ],
             [
              1,
              "#f0f921"
             ]
            ],
            "type": "histogram2d"
           }
          ],
          "histogram2dcontour": [
           {
            "colorbar": {
             "outlinewidth": 0,
             "ticks": ""
            },
            "colorscale": [
             [
              0,
              "#0d0887"
             ],
             [
              0.1111111111111111,
              "#46039f"
             ],
             [
              0.2222222222222222,
              "#7201a8"
             ],
             [
              0.3333333333333333,
              "#9c179e"
             ],
             [
              0.4444444444444444,
              "#bd3786"
             ],
             [
              0.5555555555555556,
              "#d8576b"
             ],
             [
              0.6666666666666666,
              "#ed7953"
             ],
             [
              0.7777777777777778,
              "#fb9f3a"
             ],
             [
              0.8888888888888888,
              "#fdca26"
             ],
             [
              1,
              "#f0f921"
             ]
            ],
            "type": "histogram2dcontour"
           }
          ],
          "mesh3d": [
           {
            "colorbar": {
             "outlinewidth": 0,
             "ticks": ""
            },
            "type": "mesh3d"
           }
          ],
          "parcoords": [
           {
            "line": {
             "colorbar": {
              "outlinewidth": 0,
              "ticks": ""
             }
            },
            "type": "parcoords"
           }
          ],
          "pie": [
           {
            "automargin": true,
            "type": "pie"
           }
          ],
          "scatter": [
           {
            "fillpattern": {
             "fillmode": "overlay",
             "size": 10,
             "solidity": 0.2
            },
            "type": "scatter"
           }
          ],
          "scatter3d": [
           {
            "line": {
             "colorbar": {
              "outlinewidth": 0,
              "ticks": ""
             }
            },
            "marker": {
             "colorbar": {
              "outlinewidth": 0,
              "ticks": ""
             }
            },
            "type": "scatter3d"
           }
          ],
          "scattercarpet": [
           {
            "marker": {
             "colorbar": {
              "outlinewidth": 0,
              "ticks": ""
             }
            },
            "type": "scattercarpet"
           }
          ],
          "scattergeo": [
           {
            "marker": {
             "colorbar": {
              "outlinewidth": 0,
              "ticks": ""
             }
            },
            "type": "scattergeo"
           }
          ],
          "scattergl": [
           {
            "marker": {
             "colorbar": {
              "outlinewidth": 0,
              "ticks": ""
             }
            },
            "type": "scattergl"
           }
          ],
          "scattermap": [
           {
            "marker": {
             "colorbar": {
              "outlinewidth": 0,
              "ticks": ""
             }
            },
            "type": "scattermap"
           }
          ],
          "scattermapbox": [
           {
            "marker": {
             "colorbar": {
              "outlinewidth": 0,
              "ticks": ""
             }
            },
            "type": "scattermapbox"
           }
          ],
          "scatterpolar": [
           {
            "marker": {
             "colorbar": {
              "outlinewidth": 0,
              "ticks": ""
             }
            },
            "type": "scatterpolar"
           }
          ],
          "scatterpolargl": [
           {
            "marker": {
             "colorbar": {
              "outlinewidth": 0,
              "ticks": ""
             }
            },
            "type": "scatterpolargl"
           }
          ],
          "scatterternary": [
           {
            "marker": {
             "colorbar": {
              "outlinewidth": 0,
              "ticks": ""
             }
            },
            "type": "scatterternary"
           }
          ],
          "surface": [
           {
            "colorbar": {
             "outlinewidth": 0,
             "ticks": ""
            },
            "colorscale": [
             [
              0,
              "#0d0887"
             ],
             [
              0.1111111111111111,
              "#46039f"
             ],
             [
              0.2222222222222222,
              "#7201a8"
             ],
             [
              0.3333333333333333,
              "#9c179e"
             ],
             [
              0.4444444444444444,
              "#bd3786"
             ],
             [
              0.5555555555555556,
              "#d8576b"
             ],
             [
              0.6666666666666666,
              "#ed7953"
             ],
             [
              0.7777777777777778,
              "#fb9f3a"
             ],
             [
              0.8888888888888888,
              "#fdca26"
             ],
             [
              1,
              "#f0f921"
             ]
            ],
            "type": "surface"
           }
          ],
          "table": [
           {
            "cells": {
             "fill": {
              "color": "#EBF0F8"
             },
             "line": {
              "color": "white"
             }
            },
            "header": {
             "fill": {
              "color": "#C8D4E3"
             },
             "line": {
              "color": "white"
             }
            },
            "type": "table"
           }
          ]
         },
         "layout": {
          "annotationdefaults": {
           "arrowcolor": "#2a3f5f",
           "arrowhead": 0,
           "arrowwidth": 1
          },
          "autotypenumbers": "strict",
          "coloraxis": {
           "colorbar": {
            "outlinewidth": 0,
            "ticks": ""
           }
          },
          "colorscale": {
           "diverging": [
            [
             0,
             "#8e0152"
            ],
            [
             0.1,
             "#c51b7d"
            ],
            [
             0.2,
             "#de77ae"
            ],
            [
             0.3,
             "#f1b6da"
            ],
            [
             0.4,
             "#fde0ef"
            ],
            [
             0.5,
             "#f7f7f7"
            ],
            [
             0.6,
             "#e6f5d0"
            ],
            [
             0.7,
             "#b8e186"
            ],
            [
             0.8,
             "#7fbc41"
            ],
            [
             0.9,
             "#4d9221"
            ],
            [
             1,
             "#276419"
            ]
           ],
           "sequential": [
            [
             0,
             "#0d0887"
            ],
            [
             0.1111111111111111,
             "#46039f"
            ],
            [
             0.2222222222222222,
             "#7201a8"
            ],
            [
             0.3333333333333333,
             "#9c179e"
            ],
            [
             0.4444444444444444,
             "#bd3786"
            ],
            [
             0.5555555555555556,
             "#d8576b"
            ],
            [
             0.6666666666666666,
             "#ed7953"
            ],
            [
             0.7777777777777778,
             "#fb9f3a"
            ],
            [
             0.8888888888888888,
             "#fdca26"
            ],
            [
             1,
             "#f0f921"
            ]
           ],
           "sequentialminus": [
            [
             0,
             "#0d0887"
            ],
            [
             0.1111111111111111,
             "#46039f"
            ],
            [
             0.2222222222222222,
             "#7201a8"
            ],
            [
             0.3333333333333333,
             "#9c179e"
            ],
            [
             0.4444444444444444,
             "#bd3786"
            ],
            [
             0.5555555555555556,
             "#d8576b"
            ],
            [
             0.6666666666666666,
             "#ed7953"
            ],
            [
             0.7777777777777778,
             "#fb9f3a"
            ],
            [
             0.8888888888888888,
             "#fdca26"
            ],
            [
             1,
             "#f0f921"
            ]
           ]
          },
          "colorway": [
           "#636efa",
           "#EF553B",
           "#00cc96",
           "#ab63fa",
           "#FFA15A",
           "#19d3f3",
           "#FF6692",
           "#B6E880",
           "#FF97FF",
           "#FECB52"
          ],
          "font": {
           "color": "#2a3f5f"
          },
          "geo": {
           "bgcolor": "white",
           "lakecolor": "white",
           "landcolor": "#E5ECF6",
           "showlakes": true,
           "showland": true,
           "subunitcolor": "white"
          },
          "hoverlabel": {
           "align": "left"
          },
          "hovermode": "closest",
          "mapbox": {
           "style": "light"
          },
          "paper_bgcolor": "white",
          "plot_bgcolor": "#E5ECF6",
          "polar": {
           "angularaxis": {
            "gridcolor": "white",
            "linecolor": "white",
            "ticks": ""
           },
           "bgcolor": "#E5ECF6",
           "radialaxis": {
            "gridcolor": "white",
            "linecolor": "white",
            "ticks": ""
           }
          },
          "scene": {
           "xaxis": {
            "backgroundcolor": "#E5ECF6",
            "gridcolor": "white",
            "gridwidth": 2,
            "linecolor": "white",
            "showbackground": true,
            "ticks": "",
            "zerolinecolor": "white"
           },
           "yaxis": {
            "backgroundcolor": "#E5ECF6",
            "gridcolor": "white",
            "gridwidth": 2,
            "linecolor": "white",
            "showbackground": true,
            "ticks": "",
            "zerolinecolor": "white"
           },
           "zaxis": {
            "backgroundcolor": "#E5ECF6",
            "gridcolor": "white",
            "gridwidth": 2,
            "linecolor": "white",
            "showbackground": true,
            "ticks": "",
            "zerolinecolor": "white"
           }
          },
          "shapedefaults": {
           "line": {
            "color": "#2a3f5f"
           }
          },
          "ternary": {
           "aaxis": {
            "gridcolor": "white",
            "linecolor": "white",
            "ticks": ""
           },
           "baxis": {
            "gridcolor": "white",
            "linecolor": "white",
            "ticks": ""
           },
           "bgcolor": "#E5ECF6",
           "caxis": {
            "gridcolor": "white",
            "linecolor": "white",
            "ticks": ""
           }
          },
          "title": {
           "x": 0.05
          },
          "xaxis": {
           "automargin": true,
           "gridcolor": "white",
           "linecolor": "white",
           "ticks": "",
           "title": {
            "standoff": 15
           },
           "zerolinecolor": "white",
           "zerolinewidth": 2
          },
          "yaxis": {
           "automargin": true,
           "gridcolor": "white",
           "linecolor": "white",
           "ticks": "",
           "title": {
            "standoff": 15
           },
           "zerolinecolor": "white",
           "zerolinewidth": 2
          }
         }
        },
        "xaxis": {
         "anchor": "y",
         "constrain": "domain",
         "domain": [
          0,
          1
         ],
         "scaleanchor": "y"
        },
        "yaxis": {
         "anchor": "x",
         "autorange": "reversed",
         "constrain": "domain",
         "domain": [
          0,
          1
         ]
        }
       }
      }
     },
     "metadata": {},
     "output_type": "display_data"
    }
   ],
   "source": [
    "px.imshow(torch.stack(a).detach().cpu(), color_continuous_midpoint=0, color_continuous_scale='RdBu')"
   ]
  },
  {
   "cell_type": "code",
   "execution_count": 6,
   "id": "2aa2e981",
   "metadata": {},
   "outputs": [
    {
     "data": {
      "text/plain": [
       "tensor([-7.0818,  3.4290, -6.9955,  2.8887, -7.1337,  4.2033, 14.3580, -2.2763,\n",
       "         0.7044,  5.7110, -7.0152, -6.9950, -7.0617, -7.0288, -6.9360, -6.9916,\n",
       "        -6.9091, -7.0190, -6.9583, -7.0637], device='cuda:0',\n",
       "       grad_fn=<SelectBackward0>)"
      ]
     },
     "execution_count": 6,
     "metadata": {},
     "output_type": "execute_result"
    }
   ],
   "source": [
    "test = torch.tensor([[ 1,  5,  5,  9 , 5, 1,  4,  0]]).cuda()\n",
    "components = {k.removeprefix(\"components.\").replace(\"-\", \".\"): v.cuda() for k, v in model.components.items()}\n",
    "out = model.forward_with_components(test.cuda(), components = components)\n",
    "out[0, -1]\n"
   ]
  },
  {
   "cell_type": "code",
   "execution_count": 5,
   "id": "3e6aa31d",
   "metadata": {},
   "outputs": [
    {
     "name": "stdout",
     "output_type": "stream",
     "text": [
      "Component output: tensor([-7.1031,  3.3072, -6.9840,  2.9586, -7.1021,  4.4650, 14.5908, -2.6494,\n",
      "         0.9504,  5.3159, -7.0043, -6.9843, -7.0695, -7.0363, -6.9101, -6.9713,\n",
      "        -6.8988, -7.0061, -6.9442, -7.0579], device='cuda:0',\n",
      "       grad_fn=<SelectBackward0>)\n",
      "Base model output: tensor([-6.9108,  3.0898, -6.7678,  2.9399, -6.8667,  4.4328, 14.5065, -2.9290,\n",
      "         1.1001,  4.7732, -6.7857, -6.7669, -6.8650, -6.8332, -6.6798, -6.7445,\n",
      "        -6.6867, -6.7851, -6.7233, -6.8461], device='cuda:0',\n",
      "       grad_fn=<SelectBackward0>)\n",
      "Are they close? False\n"
     ]
    }
   ],
   "source": [
    "# Use the components directly without key manipulation\n",
    "test = torch.tensor([[ 1,  5,  5,  13 , 5, 1,  4,  0]]).cuda()\n",
    "out = model.forward_with_components(test, components=model.components.cuda())\n",
    "gt = base_model.forward(test)\n",
    "\n",
    "print(f\"Component output: {out[0, -1]}\")\n",
    "print(f\"Base model output: {gt[0, -1]}\")\n",
    "print(f\"Are they close? {torch.allclose(out, gt, atol=1e-3)}\")"
   ]
  },
  {
   "cell_type": "code",
   "execution_count": null,
   "id": "37f98a0b",
   "metadata": {},
   "outputs": [
    {
     "data": {
      "application/vnd.plotly.v1+json": {
       "config": {
        "plotlyServerURL": "https://plot.ly"
       },
       "data": [
        {
         "coloraxis": "coloraxis",
         "hovertemplate": "x: %{x}<br>y: %{y}<br>color: %{z}<extra></extra>",
         "name": "0",
         "type": "heatmap",
         "xaxis": "x",
         "yaxis": "y",
         "z": {
          "bdata": "oZaZv2E5R0EGqp2/tunhP/EPpL9Byu4+5w/2P1wOHUCBHa3Azd/Wv27RrL+YRpK/OrOPvyWTjr/WB46/fnuYv8DekL/AT6u/xMujvyLQpL/+/+LAbs6RP+uc3cAERopAFhTgwCz1fUGDVbNAw6NYv2DQjT2u+bhA5oLiwGEW3sCja+PAk/HewGCL4cDtCeHAYhfdwNRF4MAd1tzA8rPZwI744sB6KZE/1o7dwMcXjEC6DeDAVeB9QRSUs0BAGmC/FqWzPYQVuECHfOLAt+rdwH5S48Adxt7A24LhwBn74MDICd3ARivgwCm83MDtu9nAFSXdwIC+RUCFkdjADic8QKm728Dm2Y1AqBpoQfJ0O8Dbzow/Qb6YQG8k2cANitjAAq7bwO2p2sARwdXASNPXwDT51cA8H9nAUSXXwIQT28C6qunAcJB8vkxr7sAbqR/A1MPzwI8qvUBqFrFAHmGeQNoUgUDMPYBBhxbxwP2o8MDtCfXAhnXxwDDs88BF/fLAxLnpwItp88A4HPXAIdfuwK3+3MAAHkJAZ2nYwH1vPEBop9vAafGMQPoNaEG1sDvAuneMP9NDmUByAtnAUnHYwCGY28CTlNrA+6TVwBCw18BY4dXAIP3YwGL71sBJ8drABB6nvlYXLkDaMAe/ivIfvv1UGr8n1UDAd6CqwO0STUGQPOo/Ho0xQNhiIL9YAgW/OluEvnD07r5mDQO/gJnZvtqaC79/VRS/IgwlvxyOCb9NKOnAcDuUvtTe7cAuehzAsEnzwCAOu0C1RbFAVXqdQIuLgEDtFYBBxI3wwKMZ8MCelvTAdvXwwHRc88CqgvLAQ0jpwMza8sAQkvTAPVvuwL/Lwr842qc/siCev/vSQ0F/TKC/dSgAQApi6T+oWtE+0zsNwOONh8B6pp+/gByNvzwQjb/2tqO/u3mhv548pr86q5a/V7+Vv/Ngjr+lipi/nkyDvxS7usAxqn6/P2MVwGyzc79WgNK/SLOGPlDk6z/TVkVBIB3aP27cd7/4fYW/2lduv4+feL+EBIO/lp9Sv+m/gL+E+3C/9JN/v0Ucj78=",
          "dtype": "f4",
          "shape": "10, 20"
         }
        }
       ],
       "layout": {
        "coloraxis": {
         "cmid": 0,
         "colorscale": [
          [
           0,
           "rgb(103,0,31)"
          ],
          [
           0.1,
           "rgb(178,24,43)"
          ],
          [
           0.2,
           "rgb(214,96,77)"
          ],
          [
           0.3,
           "rgb(244,165,130)"
          ],
          [
           0.4,
           "rgb(253,219,199)"
          ],
          [
           0.5,
           "rgb(247,247,247)"
          ],
          [
           0.6,
           "rgb(209,229,240)"
          ],
          [
           0.7,
           "rgb(146,197,222)"
          ],
          [
           0.8,
           "rgb(67,147,195)"
          ],
          [
           0.9,
           "rgb(33,102,172)"
          ],
          [
           1,
           "rgb(5,48,97)"
          ]
         ]
        },
        "margin": {
         "t": 60
        },
        "template": {
         "data": {
          "bar": [
           {
            "error_x": {
             "color": "#2a3f5f"
            },
            "error_y": {
             "color": "#2a3f5f"
            },
            "marker": {
             "line": {
              "color": "#E5ECF6",
              "width": 0.5
             },
             "pattern": {
              "fillmode": "overlay",
              "size": 10,
              "solidity": 0.2
             }
            },
            "type": "bar"
           }
          ],
          "barpolar": [
           {
            "marker": {
             "line": {
              "color": "#E5ECF6",
              "width": 0.5
             },
             "pattern": {
              "fillmode": "overlay",
              "size": 10,
              "solidity": 0.2
             }
            },
            "type": "barpolar"
           }
          ],
          "carpet": [
           {
            "aaxis": {
             "endlinecolor": "#2a3f5f",
             "gridcolor": "white",
             "linecolor": "white",
             "minorgridcolor": "white",
             "startlinecolor": "#2a3f5f"
            },
            "baxis": {
             "endlinecolor": "#2a3f5f",
             "gridcolor": "white",
             "linecolor": "white",
             "minorgridcolor": "white",
             "startlinecolor": "#2a3f5f"
            },
            "type": "carpet"
           }
          ],
          "choropleth": [
           {
            "colorbar": {
             "outlinewidth": 0,
             "ticks": ""
            },
            "type": "choropleth"
           }
          ],
          "contour": [
           {
            "colorbar": {
             "outlinewidth": 0,
             "ticks": ""
            },
            "colorscale": [
             [
              0,
              "#0d0887"
             ],
             [
              0.1111111111111111,
              "#46039f"
             ],
             [
              0.2222222222222222,
              "#7201a8"
             ],
             [
              0.3333333333333333,
              "#9c179e"
             ],
             [
              0.4444444444444444,
              "#bd3786"
             ],
             [
              0.5555555555555556,
              "#d8576b"
             ],
             [
              0.6666666666666666,
              "#ed7953"
             ],
             [
              0.7777777777777778,
              "#fb9f3a"
             ],
             [
              0.8888888888888888,
              "#fdca26"
             ],
             [
              1,
              "#f0f921"
             ]
            ],
            "type": "contour"
           }
          ],
          "contourcarpet": [
           {
            "colorbar": {
             "outlinewidth": 0,
             "ticks": ""
            },
            "type": "contourcarpet"
           }
          ],
          "heatmap": [
           {
            "colorbar": {
             "outlinewidth": 0,
             "ticks": ""
            },
            "colorscale": [
             [
              0,
              "#0d0887"
             ],
             [
              0.1111111111111111,
              "#46039f"
             ],
             [
              0.2222222222222222,
              "#7201a8"
             ],
             [
              0.3333333333333333,
              "#9c179e"
             ],
             [
              0.4444444444444444,
              "#bd3786"
             ],
             [
              0.5555555555555556,
              "#d8576b"
             ],
             [
              0.6666666666666666,
              "#ed7953"
             ],
             [
              0.7777777777777778,
              "#fb9f3a"
             ],
             [
              0.8888888888888888,
              "#fdca26"
             ],
             [
              1,
              "#f0f921"
             ]
            ],
            "type": "heatmap"
           }
          ],
          "histogram": [
           {
            "marker": {
             "pattern": {
              "fillmode": "overlay",
              "size": 10,
              "solidity": 0.2
             }
            },
            "type": "histogram"
           }
          ],
          "histogram2d": [
           {
            "colorbar": {
             "outlinewidth": 0,
             "ticks": ""
            },
            "colorscale": [
             [
              0,
              "#0d0887"
             ],
             [
              0.1111111111111111,
              "#46039f"
             ],
             [
              0.2222222222222222,
              "#7201a8"
             ],
             [
              0.3333333333333333,
              "#9c179e"
             ],
             [
              0.4444444444444444,
              "#bd3786"
             ],
             [
              0.5555555555555556,
              "#d8576b"
             ],
             [
              0.6666666666666666,
              "#ed7953"
             ],
             [
              0.7777777777777778,
              "#fb9f3a"
             ],
             [
              0.8888888888888888,
              "#fdca26"
             ],
             [
              1,
              "#f0f921"
             ]
            ],
            "type": "histogram2d"
           }
          ],
          "histogram2dcontour": [
           {
            "colorbar": {
             "outlinewidth": 0,
             "ticks": ""
            },
            "colorscale": [
             [
              0,
              "#0d0887"
             ],
             [
              0.1111111111111111,
              "#46039f"
             ],
             [
              0.2222222222222222,
              "#7201a8"
             ],
             [
              0.3333333333333333,
              "#9c179e"
             ],
             [
              0.4444444444444444,
              "#bd3786"
             ],
             [
              0.5555555555555556,
              "#d8576b"
             ],
             [
              0.6666666666666666,
              "#ed7953"
             ],
             [
              0.7777777777777778,
              "#fb9f3a"
             ],
             [
              0.8888888888888888,
              "#fdca26"
             ],
             [
              1,
              "#f0f921"
             ]
            ],
            "type": "histogram2dcontour"
           }
          ],
          "mesh3d": [
           {
            "colorbar": {
             "outlinewidth": 0,
             "ticks": ""
            },
            "type": "mesh3d"
           }
          ],
          "parcoords": [
           {
            "line": {
             "colorbar": {
              "outlinewidth": 0,
              "ticks": ""
             }
            },
            "type": "parcoords"
           }
          ],
          "pie": [
           {
            "automargin": true,
            "type": "pie"
           }
          ],
          "scatter": [
           {
            "fillpattern": {
             "fillmode": "overlay",
             "size": 10,
             "solidity": 0.2
            },
            "type": "scatter"
           }
          ],
          "scatter3d": [
           {
            "line": {
             "colorbar": {
              "outlinewidth": 0,
              "ticks": ""
             }
            },
            "marker": {
             "colorbar": {
              "outlinewidth": 0,
              "ticks": ""
             }
            },
            "type": "scatter3d"
           }
          ],
          "scattercarpet": [
           {
            "marker": {
             "colorbar": {
              "outlinewidth": 0,
              "ticks": ""
             }
            },
            "type": "scattercarpet"
           }
          ],
          "scattergeo": [
           {
            "marker": {
             "colorbar": {
              "outlinewidth": 0,
              "ticks": ""
             }
            },
            "type": "scattergeo"
           }
          ],
          "scattergl": [
           {
            "marker": {
             "colorbar": {
              "outlinewidth": 0,
              "ticks": ""
             }
            },
            "type": "scattergl"
           }
          ],
          "scattermap": [
           {
            "marker": {
             "colorbar": {
              "outlinewidth": 0,
              "ticks": ""
             }
            },
            "type": "scattermap"
           }
          ],
          "scattermapbox": [
           {
            "marker": {
             "colorbar": {
              "outlinewidth": 0,
              "ticks": ""
             }
            },
            "type": "scattermapbox"
           }
          ],
          "scatterpolar": [
           {
            "marker": {
             "colorbar": {
              "outlinewidth": 0,
              "ticks": ""
             }
            },
            "type": "scatterpolar"
           }
          ],
          "scatterpolargl": [
           {
            "marker": {
             "colorbar": {
              "outlinewidth": 0,
              "ticks": ""
             }
            },
            "type": "scatterpolargl"
           }
          ],
          "scatterternary": [
           {
            "marker": {
             "colorbar": {
              "outlinewidth": 0,
              "ticks": ""
             }
            },
            "type": "scatterternary"
           }
          ],
          "surface": [
           {
            "colorbar": {
             "outlinewidth": 0,
             "ticks": ""
            },
            "colorscale": [
             [
              0,
              "#0d0887"
             ],
             [
              0.1111111111111111,
              "#46039f"
             ],
             [
              0.2222222222222222,
              "#7201a8"
             ],
             [
              0.3333333333333333,
              "#9c179e"
             ],
             [
              0.4444444444444444,
              "#bd3786"
             ],
             [
              0.5555555555555556,
              "#d8576b"
             ],
             [
              0.6666666666666666,
              "#ed7953"
             ],
             [
              0.7777777777777778,
              "#fb9f3a"
             ],
             [
              0.8888888888888888,
              "#fdca26"
             ],
             [
              1,
              "#f0f921"
             ]
            ],
            "type": "surface"
           }
          ],
          "table": [
           {
            "cells": {
             "fill": {
              "color": "#EBF0F8"
             },
             "line": {
              "color": "white"
             }
            },
            "header": {
             "fill": {
              "color": "#C8D4E3"
             },
             "line": {
              "color": "white"
             }
            },
            "type": "table"
           }
          ]
         },
         "layout": {
          "annotationdefaults": {
           "arrowcolor": "#2a3f5f",
           "arrowhead": 0,
           "arrowwidth": 1
          },
          "autotypenumbers": "strict",
          "coloraxis": {
           "colorbar": {
            "outlinewidth": 0,
            "ticks": ""
           }
          },
          "colorscale": {
           "diverging": [
            [
             0,
             "#8e0152"
            ],
            [
             0.1,
             "#c51b7d"
            ],
            [
             0.2,
             "#de77ae"
            ],
            [
             0.3,
             "#f1b6da"
            ],
            [
             0.4,
             "#fde0ef"
            ],
            [
             0.5,
             "#f7f7f7"
            ],
            [
             0.6,
             "#e6f5d0"
            ],
            [
             0.7,
             "#b8e186"
            ],
            [
             0.8,
             "#7fbc41"
            ],
            [
             0.9,
             "#4d9221"
            ],
            [
             1,
             "#276419"
            ]
           ],
           "sequential": [
            [
             0,
             "#0d0887"
            ],
            [
             0.1111111111111111,
             "#46039f"
            ],
            [
             0.2222222222222222,
             "#7201a8"
            ],
            [
             0.3333333333333333,
             "#9c179e"
            ],
            [
             0.4444444444444444,
             "#bd3786"
            ],
            [
             0.5555555555555556,
             "#d8576b"
            ],
            [
             0.6666666666666666,
             "#ed7953"
            ],
            [
             0.7777777777777778,
             "#fb9f3a"
            ],
            [
             0.8888888888888888,
             "#fdca26"
            ],
            [
             1,
             "#f0f921"
            ]
           ],
           "sequentialminus": [
            [
             0,
             "#0d0887"
            ],
            [
             0.1111111111111111,
             "#46039f"
            ],
            [
             0.2222222222222222,
             "#7201a8"
            ],
            [
             0.3333333333333333,
             "#9c179e"
            ],
            [
             0.4444444444444444,
             "#bd3786"
            ],
            [
             0.5555555555555556,
             "#d8576b"
            ],
            [
             0.6666666666666666,
             "#ed7953"
            ],
            [
             0.7777777777777778,
             "#fb9f3a"
            ],
            [
             0.8888888888888888,
             "#fdca26"
            ],
            [
             1,
             "#f0f921"
            ]
           ]
          },
          "colorway": [
           "#636efa",
           "#EF553B",
           "#00cc96",
           "#ab63fa",
           "#FFA15A",
           "#19d3f3",
           "#FF6692",
           "#B6E880",
           "#FF97FF",
           "#FECB52"
          ],
          "font": {
           "color": "#2a3f5f"
          },
          "geo": {
           "bgcolor": "white",
           "lakecolor": "white",
           "landcolor": "#E5ECF6",
           "showlakes": true,
           "showland": true,
           "subunitcolor": "white"
          },
          "hoverlabel": {
           "align": "left"
          },
          "hovermode": "closest",
          "mapbox": {
           "style": "light"
          },
          "paper_bgcolor": "white",
          "plot_bgcolor": "#E5ECF6",
          "polar": {
           "angularaxis": {
            "gridcolor": "white",
            "linecolor": "white",
            "ticks": ""
           },
           "bgcolor": "#E5ECF6",
           "radialaxis": {
            "gridcolor": "white",
            "linecolor": "white",
            "ticks": ""
           }
          },
          "scene": {
           "xaxis": {
            "backgroundcolor": "#E5ECF6",
            "gridcolor": "white",
            "gridwidth": 2,
            "linecolor": "white",
            "showbackground": true,
            "ticks": "",
            "zerolinecolor": "white"
           },
           "yaxis": {
            "backgroundcolor": "#E5ECF6",
            "gridcolor": "white",
            "gridwidth": 2,
            "linecolor": "white",
            "showbackground": true,
            "ticks": "",
            "zerolinecolor": "white"
           },
           "zaxis": {
            "backgroundcolor": "#E5ECF6",
            "gridcolor": "white",
            "gridwidth": 2,
            "linecolor": "white",
            "showbackground": true,
            "ticks": "",
            "zerolinecolor": "white"
           }
          },
          "shapedefaults": {
           "line": {
            "color": "#2a3f5f"
           }
          },
          "ternary": {
           "aaxis": {
            "gridcolor": "white",
            "linecolor": "white",
            "ticks": ""
           },
           "baxis": {
            "gridcolor": "white",
            "linecolor": "white",
            "ticks": ""
           },
           "bgcolor": "#E5ECF6",
           "caxis": {
            "gridcolor": "white",
            "linecolor": "white",
            "ticks": ""
           }
          },
          "title": {
           "x": 0.05
          },
          "xaxis": {
           "automargin": true,
           "gridcolor": "white",
           "linecolor": "white",
           "ticks": "",
           "title": {
            "standoff": 15
           },
           "zerolinecolor": "white",
           "zerolinewidth": 2
          },
          "yaxis": {
           "automargin": true,
           "gridcolor": "white",
           "linecolor": "white",
           "ticks": "",
           "title": {
            "standoff": 15
           },
           "zerolinecolor": "white",
           "zerolinewidth": 2
          }
         }
        },
        "xaxis": {
         "anchor": "y",
         "constrain": "domain",
         "domain": [
          0,
          1
         ],
         "scaleanchor": "y"
        },
        "yaxis": {
         "anchor": "x",
         "autorange": "reversed",
         "constrain": "domain",
         "domain": [
          0,
          1
         ]
        }
       }
      }
     },
     "metadata": {},
     "output_type": "display_data"
    }
   ],
   "source": [
    "test = torch.tensor([[ 1,  5,  5,  1 , 5, 1,  4,  0]]).cuda()\n",
    "ans = []\n",
    "for i in range(10, 20):\n",
    "    test[0, 0] = i\n",
    "    gt = base_model.forward(test)\n",
    "    ans.append(gt[0, -1])\n",
    "ans = torch.stack(ans)\n",
    "px.imshow(ans.detach().cpu(), color_continuous_midpoint=0, color_continuous_scale='RdBu')\n",
    "\n",
    "trigrams =  [(10, 0, 1), (11, 0, 5), (12, 0, 5), (13, 0, 6), (14, 0, 9), (15, 0, 6), (16, 0, 8), (17, 0, 9), (18, 0, 3), (19, 0, 8)]\n"
   ]
  },
  {
   "cell_type": "code",
   "execution_count": 28,
   "id": "46a147db",
   "metadata": {},
   "outputs": [
    {
     "data": {
      "application/vnd.plotly.v1+json": {
       "config": {
        "plotlyServerURL": "https://plot.ly"
       },
       "data": [
        {
         "coloraxis": "coloraxis",
         "hovertemplate": "x: %{x}<br>y: %{y}<br>color: %{z}<extra></extra>",
         "name": "0",
         "type": "heatmap",
         "xaxis": "x",
         "yaxis": "y",
         "z": {
          "bdata": "hAqmwJH94EFZ+Q6/u+RovimPpcHBOZDB9VAYQvSpzMH6VqnB167CQOQ1H78Lt5BB0nhRQMYhuL9Xqwu/5QjmQFuSTUHMKrNBN2GVv4sCJ0A72eLBsAjLwQBMa0IscBjClujUwXVp00C24Q4/L4aPQeyd3cCnS2RAzgMHwCQ9GkGoUkxBgK2uQarUk7/dDyRAmgjgwdU9ysHDz2pCDp8Wwgt01MFvi89AiuMOP7kKjkEAjd7ATe5jQDdGCsCgWhxBoO5jvwDqlMFb6SPA6yeOPwgfiEF0ZsZBvgAMwuQXN0G1FJZBLmRePyKDTL9bgGPBroNNwA5wyT8+v6M/poIIwfwcvEETmjRAR/Ijvwyc5z9Ug5jBCkSGwQUz+kD4s6LBRYq1vzYbLkDcCpY/7tyRQYkl1EB9q5w/u4vRv6OCAsBT7Ii/XgmVwTRpH8BUfYM/eW6GQQxvyUHC+wvCNX85Qe4Jl0EORmk/J0dNvyKSZcFxrk/AzAfIPz0vrD8XagvB5/MpQTyJ5EEqLVNAvhiLv5E3GMK/bQzCAiOJQgLQF8JS+gfC9uv6QN+bCj8FTexBSCe0QCEXfDtwTgDAs2C7QBI+vEErVDNADzMcv0OU3j9V05fBzt2FwUYR+kBOcKPBcb21v2i7K0D8yJQ/CAySQYJt0UD62Zo/4sLJv1CfAcAErNTAFkoOQvSprEDKxNe/66rFwVQKnME3+odC8g3IwWdmD8LABWNAsZelPjZLR0E19fPAMypwP/Yv2b8OEiFA4OZrQe/P50EB+o9AVB8oP3rq9MGrtrfBkn2HQhzW88HZzOvB1xmIwJDz/L7vKTlBMpWRP8U2SkCCAee/xmmGwA==",
          "dtype": "f4",
          "shape": "10, 16"
         }
        }
       ],
       "layout": {
        "coloraxis": {
         "cmid": 0,
         "colorscale": [
          [
           0,
           "rgb(103,0,31)"
          ],
          [
           0.1,
           "rgb(178,24,43)"
          ],
          [
           0.2,
           "rgb(214,96,77)"
          ],
          [
           0.3,
           "rgb(244,165,130)"
          ],
          [
           0.4,
           "rgb(253,219,199)"
          ],
          [
           0.5,
           "rgb(247,247,247)"
          ],
          [
           0.6,
           "rgb(209,229,240)"
          ],
          [
           0.7,
           "rgb(146,197,222)"
          ],
          [
           0.8,
           "rgb(67,147,195)"
          ],
          [
           0.9,
           "rgb(33,102,172)"
          ],
          [
           1,
           "rgb(5,48,97)"
          ]
         ]
        },
        "margin": {
         "t": 60
        },
        "template": {
         "data": {
          "bar": [
           {
            "error_x": {
             "color": "#2a3f5f"
            },
            "error_y": {
             "color": "#2a3f5f"
            },
            "marker": {
             "line": {
              "color": "#E5ECF6",
              "width": 0.5
             },
             "pattern": {
              "fillmode": "overlay",
              "size": 10,
              "solidity": 0.2
             }
            },
            "type": "bar"
           }
          ],
          "barpolar": [
           {
            "marker": {
             "line": {
              "color": "#E5ECF6",
              "width": 0.5
             },
             "pattern": {
              "fillmode": "overlay",
              "size": 10,
              "solidity": 0.2
             }
            },
            "type": "barpolar"
           }
          ],
          "carpet": [
           {
            "aaxis": {
             "endlinecolor": "#2a3f5f",
             "gridcolor": "white",
             "linecolor": "white",
             "minorgridcolor": "white",
             "startlinecolor": "#2a3f5f"
            },
            "baxis": {
             "endlinecolor": "#2a3f5f",
             "gridcolor": "white",
             "linecolor": "white",
             "minorgridcolor": "white",
             "startlinecolor": "#2a3f5f"
            },
            "type": "carpet"
           }
          ],
          "choropleth": [
           {
            "colorbar": {
             "outlinewidth": 0,
             "ticks": ""
            },
            "type": "choropleth"
           }
          ],
          "contour": [
           {
            "colorbar": {
             "outlinewidth": 0,
             "ticks": ""
            },
            "colorscale": [
             [
              0,
              "#0d0887"
             ],
             [
              0.1111111111111111,
              "#46039f"
             ],
             [
              0.2222222222222222,
              "#7201a8"
             ],
             [
              0.3333333333333333,
              "#9c179e"
             ],
             [
              0.4444444444444444,
              "#bd3786"
             ],
             [
              0.5555555555555556,
              "#d8576b"
             ],
             [
              0.6666666666666666,
              "#ed7953"
             ],
             [
              0.7777777777777778,
              "#fb9f3a"
             ],
             [
              0.8888888888888888,
              "#fdca26"
             ],
             [
              1,
              "#f0f921"
             ]
            ],
            "type": "contour"
           }
          ],
          "contourcarpet": [
           {
            "colorbar": {
             "outlinewidth": 0,
             "ticks": ""
            },
            "type": "contourcarpet"
           }
          ],
          "heatmap": [
           {
            "colorbar": {
             "outlinewidth": 0,
             "ticks": ""
            },
            "colorscale": [
             [
              0,
              "#0d0887"
             ],
             [
              0.1111111111111111,
              "#46039f"
             ],
             [
              0.2222222222222222,
              "#7201a8"
             ],
             [
              0.3333333333333333,
              "#9c179e"
             ],
             [
              0.4444444444444444,
              "#bd3786"
             ],
             [
              0.5555555555555556,
              "#d8576b"
             ],
             [
              0.6666666666666666,
              "#ed7953"
             ],
             [
              0.7777777777777778,
              "#fb9f3a"
             ],
             [
              0.8888888888888888,
              "#fdca26"
             ],
             [
              1,
              "#f0f921"
             ]
            ],
            "type": "heatmap"
           }
          ],
          "histogram": [
           {
            "marker": {
             "pattern": {
              "fillmode": "overlay",
              "size": 10,
              "solidity": 0.2
             }
            },
            "type": "histogram"
           }
          ],
          "histogram2d": [
           {
            "colorbar": {
             "outlinewidth": 0,
             "ticks": ""
            },
            "colorscale": [
             [
              0,
              "#0d0887"
             ],
             [
              0.1111111111111111,
              "#46039f"
             ],
             [
              0.2222222222222222,
              "#7201a8"
             ],
             [
              0.3333333333333333,
              "#9c179e"
             ],
             [
              0.4444444444444444,
              "#bd3786"
             ],
             [
              0.5555555555555556,
              "#d8576b"
             ],
             [
              0.6666666666666666,
              "#ed7953"
             ],
             [
              0.7777777777777778,
              "#fb9f3a"
             ],
             [
              0.8888888888888888,
              "#fdca26"
             ],
             [
              1,
              "#f0f921"
             ]
            ],
            "type": "histogram2d"
           }
          ],
          "histogram2dcontour": [
           {
            "colorbar": {
             "outlinewidth": 0,
             "ticks": ""
            },
            "colorscale": [
             [
              0,
              "#0d0887"
             ],
             [
              0.1111111111111111,
              "#46039f"
             ],
             [
              0.2222222222222222,
              "#7201a8"
             ],
             [
              0.3333333333333333,
              "#9c179e"
             ],
             [
              0.4444444444444444,
              "#bd3786"
             ],
             [
              0.5555555555555556,
              "#d8576b"
             ],
             [
              0.6666666666666666,
              "#ed7953"
             ],
             [
              0.7777777777777778,
              "#fb9f3a"
             ],
             [
              0.8888888888888888,
              "#fdca26"
             ],
             [
              1,
              "#f0f921"
             ]
            ],
            "type": "histogram2dcontour"
           }
          ],
          "mesh3d": [
           {
            "colorbar": {
             "outlinewidth": 0,
             "ticks": ""
            },
            "type": "mesh3d"
           }
          ],
          "parcoords": [
           {
            "line": {
             "colorbar": {
              "outlinewidth": 0,
              "ticks": ""
             }
            },
            "type": "parcoords"
           }
          ],
          "pie": [
           {
            "automargin": true,
            "type": "pie"
           }
          ],
          "scatter": [
           {
            "fillpattern": {
             "fillmode": "overlay",
             "size": 10,
             "solidity": 0.2
            },
            "type": "scatter"
           }
          ],
          "scatter3d": [
           {
            "line": {
             "colorbar": {
              "outlinewidth": 0,
              "ticks": ""
             }
            },
            "marker": {
             "colorbar": {
              "outlinewidth": 0,
              "ticks": ""
             }
            },
            "type": "scatter3d"
           }
          ],
          "scattercarpet": [
           {
            "marker": {
             "colorbar": {
              "outlinewidth": 0,
              "ticks": ""
             }
            },
            "type": "scattercarpet"
           }
          ],
          "scattergeo": [
           {
            "marker": {
             "colorbar": {
              "outlinewidth": 0,
              "ticks": ""
             }
            },
            "type": "scattergeo"
           }
          ],
          "scattergl": [
           {
            "marker": {
             "colorbar": {
              "outlinewidth": 0,
              "ticks": ""
             }
            },
            "type": "scattergl"
           }
          ],
          "scattermap": [
           {
            "marker": {
             "colorbar": {
              "outlinewidth": 0,
              "ticks": ""
             }
            },
            "type": "scattermap"
           }
          ],
          "scattermapbox": [
           {
            "marker": {
             "colorbar": {
              "outlinewidth": 0,
              "ticks": ""
             }
            },
            "type": "scattermapbox"
           }
          ],
          "scatterpolar": [
           {
            "marker": {
             "colorbar": {
              "outlinewidth": 0,
              "ticks": ""
             }
            },
            "type": "scatterpolar"
           }
          ],
          "scatterpolargl": [
           {
            "marker": {
             "colorbar": {
              "outlinewidth": 0,
              "ticks": ""
             }
            },
            "type": "scatterpolargl"
           }
          ],
          "scatterternary": [
           {
            "marker": {
             "colorbar": {
              "outlinewidth": 0,
              "ticks": ""
             }
            },
            "type": "scatterternary"
           }
          ],
          "surface": [
           {
            "colorbar": {
             "outlinewidth": 0,
             "ticks": ""
            },
            "colorscale": [
             [
              0,
              "#0d0887"
             ],
             [
              0.1111111111111111,
              "#46039f"
             ],
             [
              0.2222222222222222,
              "#7201a8"
             ],
             [
              0.3333333333333333,
              "#9c179e"
             ],
             [
              0.4444444444444444,
              "#bd3786"
             ],
             [
              0.5555555555555556,
              "#d8576b"
             ],
             [
              0.6666666666666666,
              "#ed7953"
             ],
             [
              0.7777777777777778,
              "#fb9f3a"
             ],
             [
              0.8888888888888888,
              "#fdca26"
             ],
             [
              1,
              "#f0f921"
             ]
            ],
            "type": "surface"
           }
          ],
          "table": [
           {
            "cells": {
             "fill": {
              "color": "#EBF0F8"
             },
             "line": {
              "color": "white"
             }
            },
            "header": {
             "fill": {
              "color": "#C8D4E3"
             },
             "line": {
              "color": "white"
             }
            },
            "type": "table"
           }
          ]
         },
         "layout": {
          "annotationdefaults": {
           "arrowcolor": "#2a3f5f",
           "arrowhead": 0,
           "arrowwidth": 1
          },
          "autotypenumbers": "strict",
          "coloraxis": {
           "colorbar": {
            "outlinewidth": 0,
            "ticks": ""
           }
          },
          "colorscale": {
           "diverging": [
            [
             0,
             "#8e0152"
            ],
            [
             0.1,
             "#c51b7d"
            ],
            [
             0.2,
             "#de77ae"
            ],
            [
             0.3,
             "#f1b6da"
            ],
            [
             0.4,
             "#fde0ef"
            ],
            [
             0.5,
             "#f7f7f7"
            ],
            [
             0.6,
             "#e6f5d0"
            ],
            [
             0.7,
             "#b8e186"
            ],
            [
             0.8,
             "#7fbc41"
            ],
            [
             0.9,
             "#4d9221"
            ],
            [
             1,
             "#276419"
            ]
           ],
           "sequential": [
            [
             0,
             "#0d0887"
            ],
            [
             0.1111111111111111,
             "#46039f"
            ],
            [
             0.2222222222222222,
             "#7201a8"
            ],
            [
             0.3333333333333333,
             "#9c179e"
            ],
            [
             0.4444444444444444,
             "#bd3786"
            ],
            [
             0.5555555555555556,
             "#d8576b"
            ],
            [
             0.6666666666666666,
             "#ed7953"
            ],
            [
             0.7777777777777778,
             "#fb9f3a"
            ],
            [
             0.8888888888888888,
             "#fdca26"
            ],
            [
             1,
             "#f0f921"
            ]
           ],
           "sequentialminus": [
            [
             0,
             "#0d0887"
            ],
            [
             0.1111111111111111,
             "#46039f"
            ],
            [
             0.2222222222222222,
             "#7201a8"
            ],
            [
             0.3333333333333333,
             "#9c179e"
            ],
            [
             0.4444444444444444,
             "#bd3786"
            ],
            [
             0.5555555555555556,
             "#d8576b"
            ],
            [
             0.6666666666666666,
             "#ed7953"
            ],
            [
             0.7777777777777778,
             "#fb9f3a"
            ],
            [
             0.8888888888888888,
             "#fdca26"
            ],
            [
             1,
             "#f0f921"
            ]
           ]
          },
          "colorway": [
           "#636efa",
           "#EF553B",
           "#00cc96",
           "#ab63fa",
           "#FFA15A",
           "#19d3f3",
           "#FF6692",
           "#B6E880",
           "#FF97FF",
           "#FECB52"
          ],
          "font": {
           "color": "#2a3f5f"
          },
          "geo": {
           "bgcolor": "white",
           "lakecolor": "white",
           "landcolor": "#E5ECF6",
           "showlakes": true,
           "showland": true,
           "subunitcolor": "white"
          },
          "hoverlabel": {
           "align": "left"
          },
          "hovermode": "closest",
          "mapbox": {
           "style": "light"
          },
          "paper_bgcolor": "white",
          "plot_bgcolor": "#E5ECF6",
          "polar": {
           "angularaxis": {
            "gridcolor": "white",
            "linecolor": "white",
            "ticks": ""
           },
           "bgcolor": "#E5ECF6",
           "radialaxis": {
            "gridcolor": "white",
            "linecolor": "white",
            "ticks": ""
           }
          },
          "scene": {
           "xaxis": {
            "backgroundcolor": "#E5ECF6",
            "gridcolor": "white",
            "gridwidth": 2,
            "linecolor": "white",
            "showbackground": true,
            "ticks": "",
            "zerolinecolor": "white"
           },
           "yaxis": {
            "backgroundcolor": "#E5ECF6",
            "gridcolor": "white",
            "gridwidth": 2,
            "linecolor": "white",
            "showbackground": true,
            "ticks": "",
            "zerolinecolor": "white"
           },
           "zaxis": {
            "backgroundcolor": "#E5ECF6",
            "gridcolor": "white",
            "gridwidth": 2,
            "linecolor": "white",
            "showbackground": true,
            "ticks": "",
            "zerolinecolor": "white"
           }
          },
          "shapedefaults": {
           "line": {
            "color": "#2a3f5f"
           }
          },
          "ternary": {
           "aaxis": {
            "gridcolor": "white",
            "linecolor": "white",
            "ticks": ""
           },
           "baxis": {
            "gridcolor": "white",
            "linecolor": "white",
            "ticks": ""
           },
           "bgcolor": "#E5ECF6",
           "caxis": {
            "gridcolor": "white",
            "linecolor": "white",
            "ticks": ""
           }
          },
          "title": {
           "x": 0.05
          },
          "xaxis": {
           "automargin": true,
           "gridcolor": "white",
           "linecolor": "white",
           "ticks": "",
           "title": {
            "standoff": 15
           },
           "zerolinecolor": "white",
           "zerolinewidth": 2
          },
          "yaxis": {
           "automargin": true,
           "gridcolor": "white",
           "linecolor": "white",
           "ticks": "",
           "title": {
            "standoff": 15
           },
           "zerolinecolor": "white",
           "zerolinewidth": 2
          }
         }
        },
        "xaxis": {
         "anchor": "y",
         "constrain": "domain",
         "domain": [
          0,
          1
         ],
         "scaleanchor": "y"
        },
        "yaxis": {
         "anchor": "x",
         "autorange": "reversed",
         "constrain": "domain",
         "domain": [
          0,
          1
         ]
        }
       }
      }
     },
     "metadata": {},
     "output_type": "display_data"
    }
   ],
   "source": [
    "import einops\n",
    "test = torch.tensor([[ 1,  5,  5,  1 , 5, 1,  4,  0]]).cuda()\n",
    "ans = []\n",
    "for i in range(10, 20):\n",
    "    test[0, 0] = i\n",
    "    x = base_model.token_embedding(test)\n",
    "    query_acts = einops.einsum(x, model.components.attention.A, \"batch seq d_model, d_model C -> batch seq C\")\n",
    "    key_acts = einops.einsum(x, model.components.attention.B, \"batch seq d_model, C d_model -> batch seq C\")\n",
    "    component_acts = einops.einsum(query_acts, key_acts, \"batch seqQ C, batch seqK C -> batch seqQ seqK C\")\n",
    "    ans.append(component_acts[0, 0, -1])\n",
    "ans = torch.stack(ans)\n",
    "px.imshow(ans.detach().cpu(), color_continuous_midpoint=0, color_continuous_scale='RdBu')\n",
    "\n"
   ]
  },
  {
   "cell_type": "code",
   "execution_count": 38,
   "id": "84397585",
   "metadata": {},
   "outputs": [
    {
     "name": "stdout",
     "output_type": "stream",
     "text": [
      "torch.Size([1, 20, 16])\n"
     ]
    }
   ],
   "source": [
    "seq = [list(range(20))]\n",
    "seq = torch.tensor(seq).cuda()\n",
    "x = model.model.token_embedding(seq)\n",
    "print(x.shape)\n",
    "A = model.components.attention.A \n",
    "B = model.components.attention.B \n",
    "k_acts = torch.einsum('sd,cc->sc', x[0], B.cuda())    # [C]\n",
    "q_acts = torch.einsum('sd,xc->sc', x[0], A.cuda())\n"
   ]
  },
  {
   "cell_type": "code",
   "execution_count": 40,
   "id": "45f2cc71",
   "metadata": {},
   "outputs": [
    {
     "data": {
      "application/vnd.plotly.v1+json": {
       "config": {
        "plotlyServerURL": "https://plot.ly"
       },
       "data": [
        {
         "coloraxis": "coloraxis",
         "hovertemplate": "x: %{x}<br>y: %{y}<br>color: %{z}<extra></extra>",
         "name": "0",
         "type": "heatmap",
         "xaxis": "x",
         "yaxis": "y",
         "z": {
          "bdata": "QzGUvcn0gr6hnJU+rbMvPnUy0j1L+FK/NhrfPrzCAL/+zm4+8OA5PxSHzb5YZA8/BJxvPkYjnj2jHDu/PqXgPpwLVD/lYTtAixNWwHNo+78dYpa/p+8WQb+dn8CrPbhAX9oqwCL8BMHlCpNALi3NwA5tK8ClRmK//90FQV+4oMA2YEs/orgzQORSTcAPIfG/HDyQv93DEEEbF5nASrWwQB/eI8B2GP/A2weNQK3JxMDOaiTATQZZv9xkAEEsJprAAnVZPygqQEA3ilvAg+kAwKU4mr/LyRpBmrCjwGjxvECkNi/A/WAIwZnLlkCzadLAEc0vwAUNaL+eSAlBcNKkwNgZTD+sXDRATA5OwCb98b/Dv5C//0cRQdeimcCUVrFAsHMkwKYAAMGViI1AS33FwOAAJcBkzFm/DdoAQd+ymsBsqFU/sc48QE+0V8DlUf2/4oaXv38VGEF91KDAWqS5QP4mLMAH/wXBKCmUQJ68zsDKuizAKf9jv5ziBkFD8aHA7ytVP69gPEChNlfATL78v5gul7/ivBdByHagwC84uUCwwivA9bAFwdXSk0AqRM7AJVYswFJ6Y78FlAZB6JKhwI7zTz+9wzdAc/FRwNeN9r/UepO/owUUQdSInMAKr7RA6o0nwNdqAsEfNJBAEzfJwMQdKMBB6F2/WEgDQf+dncAGp1Y/rq89QFm1WMDBf/6/cjuYv7nKGEEklKHAkYG6QCL0LMC0ngbBttmUQPmyz8CeiC3A2Q5lv1eDB0E8sqLABiFQP+vrN0BbH1LAwMP2vxObk78AJhRBDqucwIzWtECNsifAW4cCwadTkEASY8nAhUIowMYYXr8MZQNBdcCdwFassj9J5J1AcWK0wEPXU8Bkbv2/61x+QdZ+BsGiPhtBu/aPwGIcYMElzfdApuIswVRykMAGqr6/BJlhQfpsB8FBcrS+aHWfv7Ustj9w8VU/O/L/PpBxgMCF1AdAB8kcwHhkkT+8VWJArkL6v92ZLkBL4ZE/Z47APiXWY8AGxQhAgbuqvuXflr8kXqw/EW1KPwMr8j7wDnPAooQAQFtYFMDNkIk/lyZWQNHJ7L+rMyVA6AaKP8Qwtj5PklfAMWgBQAE3ez4A/10/+559v6HsFL+TKbK+QtEyQNMZvb84Rto/02lKv9iMHcBgNK4/wBPzv5oXS79+CYa+bZgeQKdovr+B48M/3BqtQNPDxcCMQGjAxuwKwIdvi0FQdBPB6TMqQcHVncBTtHXBuNYHQQ6LPcFDXZ7A9gjRv6FVd0FneRTBToJPPqlfNz8ef1G/kQf2voMqk74GtRNAlTOcv6RMtD+qMie/0SMCwJfljz9+yci/NcInv2hvXb7ZAANAKEidv2t2qD9l3pRAfROqwB28R8DM8u6/sdNvQXKe/cB3XxJBmbyHwLxNU8Hpo+lAaAEjwSIxiMCvxLO/nbRUQYNf/8B19sE/KGerQA7Sw8D592XAG48JwJMQikEtARLBhIcoQX1InMDkSXPB0IAGQfutO8GpzpzA1PrOvxjndEGyAxPBmXOAP9MFY0CProHA4ksYwE8ytr/K3TZB92HBwHg330Ai/07AGR4hwSsmskDGlPjA2LBPwHQSib++LyJBYLjCwFn+qr/2GpfAn6GsQFK8SkDSifI/GG5zwfK2AEFvkhTBqcaJQG96VkGFJu3AWXQlQfE8ikAYeLY/tOZXwdqaAUE=",
          "dtype": "f4",
          "shape": "20, 16"
         }
        }
       ],
       "layout": {
        "coloraxis": {
         "cmid": 0,
         "colorscale": [
          [
           0,
           "rgb(103,0,31)"
          ],
          [
           0.1,
           "rgb(178,24,43)"
          ],
          [
           0.2,
           "rgb(214,96,77)"
          ],
          [
           0.3,
           "rgb(244,165,130)"
          ],
          [
           0.4,
           "rgb(253,219,199)"
          ],
          [
           0.5,
           "rgb(247,247,247)"
          ],
          [
           0.6,
           "rgb(209,229,240)"
          ],
          [
           0.7,
           "rgb(146,197,222)"
          ],
          [
           0.8,
           "rgb(67,147,195)"
          ],
          [
           0.9,
           "rgb(33,102,172)"
          ],
          [
           1,
           "rgb(5,48,97)"
          ]
         ]
        },
        "margin": {
         "t": 60
        },
        "template": {
         "data": {
          "bar": [
           {
            "error_x": {
             "color": "#2a3f5f"
            },
            "error_y": {
             "color": "#2a3f5f"
            },
            "marker": {
             "line": {
              "color": "#E5ECF6",
              "width": 0.5
             },
             "pattern": {
              "fillmode": "overlay",
              "size": 10,
              "solidity": 0.2
             }
            },
            "type": "bar"
           }
          ],
          "barpolar": [
           {
            "marker": {
             "line": {
              "color": "#E5ECF6",
              "width": 0.5
             },
             "pattern": {
              "fillmode": "overlay",
              "size": 10,
              "solidity": 0.2
             }
            },
            "type": "barpolar"
           }
          ],
          "carpet": [
           {
            "aaxis": {
             "endlinecolor": "#2a3f5f",
             "gridcolor": "white",
             "linecolor": "white",
             "minorgridcolor": "white",
             "startlinecolor": "#2a3f5f"
            },
            "baxis": {
             "endlinecolor": "#2a3f5f",
             "gridcolor": "white",
             "linecolor": "white",
             "minorgridcolor": "white",
             "startlinecolor": "#2a3f5f"
            },
            "type": "carpet"
           }
          ],
          "choropleth": [
           {
            "colorbar": {
             "outlinewidth": 0,
             "ticks": ""
            },
            "type": "choropleth"
           }
          ],
          "contour": [
           {
            "colorbar": {
             "outlinewidth": 0,
             "ticks": ""
            },
            "colorscale": [
             [
              0,
              "#0d0887"
             ],
             [
              0.1111111111111111,
              "#46039f"
             ],
             [
              0.2222222222222222,
              "#7201a8"
             ],
             [
              0.3333333333333333,
              "#9c179e"
             ],
             [
              0.4444444444444444,
              "#bd3786"
             ],
             [
              0.5555555555555556,
              "#d8576b"
             ],
             [
              0.6666666666666666,
              "#ed7953"
             ],
             [
              0.7777777777777778,
              "#fb9f3a"
             ],
             [
              0.8888888888888888,
              "#fdca26"
             ],
             [
              1,
              "#f0f921"
             ]
            ],
            "type": "contour"
           }
          ],
          "contourcarpet": [
           {
            "colorbar": {
             "outlinewidth": 0,
             "ticks": ""
            },
            "type": "contourcarpet"
           }
          ],
          "heatmap": [
           {
            "colorbar": {
             "outlinewidth": 0,
             "ticks": ""
            },
            "colorscale": [
             [
              0,
              "#0d0887"
             ],
             [
              0.1111111111111111,
              "#46039f"
             ],
             [
              0.2222222222222222,
              "#7201a8"
             ],
             [
              0.3333333333333333,
              "#9c179e"
             ],
             [
              0.4444444444444444,
              "#bd3786"
             ],
             [
              0.5555555555555556,
              "#d8576b"
             ],
             [
              0.6666666666666666,
              "#ed7953"
             ],
             [
              0.7777777777777778,
              "#fb9f3a"
             ],
             [
              0.8888888888888888,
              "#fdca26"
             ],
             [
              1,
              "#f0f921"
             ]
            ],
            "type": "heatmap"
           }
          ],
          "histogram": [
           {
            "marker": {
             "pattern": {
              "fillmode": "overlay",
              "size": 10,
              "solidity": 0.2
             }
            },
            "type": "histogram"
           }
          ],
          "histogram2d": [
           {
            "colorbar": {
             "outlinewidth": 0,
             "ticks": ""
            },
            "colorscale": [
             [
              0,
              "#0d0887"
             ],
             [
              0.1111111111111111,
              "#46039f"
             ],
             [
              0.2222222222222222,
              "#7201a8"
             ],
             [
              0.3333333333333333,
              "#9c179e"
             ],
             [
              0.4444444444444444,
              "#bd3786"
             ],
             [
              0.5555555555555556,
              "#d8576b"
             ],
             [
              0.6666666666666666,
              "#ed7953"
             ],
             [
              0.7777777777777778,
              "#fb9f3a"
             ],
             [
              0.8888888888888888,
              "#fdca26"
             ],
             [
              1,
              "#f0f921"
             ]
            ],
            "type": "histogram2d"
           }
          ],
          "histogram2dcontour": [
           {
            "colorbar": {
             "outlinewidth": 0,
             "ticks": ""
            },
            "colorscale": [
             [
              0,
              "#0d0887"
             ],
             [
              0.1111111111111111,
              "#46039f"
             ],
             [
              0.2222222222222222,
              "#7201a8"
             ],
             [
              0.3333333333333333,
              "#9c179e"
             ],
             [
              0.4444444444444444,
              "#bd3786"
             ],
             [
              0.5555555555555556,
              "#d8576b"
             ],
             [
              0.6666666666666666,
              "#ed7953"
             ],
             [
              0.7777777777777778,
              "#fb9f3a"
             ],
             [
              0.8888888888888888,
              "#fdca26"
             ],
             [
              1,
              "#f0f921"
             ]
            ],
            "type": "histogram2dcontour"
           }
          ],
          "mesh3d": [
           {
            "colorbar": {
             "outlinewidth": 0,
             "ticks": ""
            },
            "type": "mesh3d"
           }
          ],
          "parcoords": [
           {
            "line": {
             "colorbar": {
              "outlinewidth": 0,
              "ticks": ""
             }
            },
            "type": "parcoords"
           }
          ],
          "pie": [
           {
            "automargin": true,
            "type": "pie"
           }
          ],
          "scatter": [
           {
            "fillpattern": {
             "fillmode": "overlay",
             "size": 10,
             "solidity": 0.2
            },
            "type": "scatter"
           }
          ],
          "scatter3d": [
           {
            "line": {
             "colorbar": {
              "outlinewidth": 0,
              "ticks": ""
             }
            },
            "marker": {
             "colorbar": {
              "outlinewidth": 0,
              "ticks": ""
             }
            },
            "type": "scatter3d"
           }
          ],
          "scattercarpet": [
           {
            "marker": {
             "colorbar": {
              "outlinewidth": 0,
              "ticks": ""
             }
            },
            "type": "scattercarpet"
           }
          ],
          "scattergeo": [
           {
            "marker": {
             "colorbar": {
              "outlinewidth": 0,
              "ticks": ""
             }
            },
            "type": "scattergeo"
           }
          ],
          "scattergl": [
           {
            "marker": {
             "colorbar": {
              "outlinewidth": 0,
              "ticks": ""
             }
            },
            "type": "scattergl"
           }
          ],
          "scattermap": [
           {
            "marker": {
             "colorbar": {
              "outlinewidth": 0,
              "ticks": ""
             }
            },
            "type": "scattermap"
           }
          ],
          "scattermapbox": [
           {
            "marker": {
             "colorbar": {
              "outlinewidth": 0,
              "ticks": ""
             }
            },
            "type": "scattermapbox"
           }
          ],
          "scatterpolar": [
           {
            "marker": {
             "colorbar": {
              "outlinewidth": 0,
              "ticks": ""
             }
            },
            "type": "scatterpolar"
           }
          ],
          "scatterpolargl": [
           {
            "marker": {
             "colorbar": {
              "outlinewidth": 0,
              "ticks": ""
             }
            },
            "type": "scatterpolargl"
           }
          ],
          "scatterternary": [
           {
            "marker": {
             "colorbar": {
              "outlinewidth": 0,
              "ticks": ""
             }
            },
            "type": "scatterternary"
           }
          ],
          "surface": [
           {
            "colorbar": {
             "outlinewidth": 0,
             "ticks": ""
            },
            "colorscale": [
             [
              0,
              "#0d0887"
             ],
             [
              0.1111111111111111,
              "#46039f"
             ],
             [
              0.2222222222222222,
              "#7201a8"
             ],
             [
              0.3333333333333333,
              "#9c179e"
             ],
             [
              0.4444444444444444,
              "#bd3786"
             ],
             [
              0.5555555555555556,
              "#d8576b"
             ],
             [
              0.6666666666666666,
              "#ed7953"
             ],
             [
              0.7777777777777778,
              "#fb9f3a"
             ],
             [
              0.8888888888888888,
              "#fdca26"
             ],
             [
              1,
              "#f0f921"
             ]
            ],
            "type": "surface"
           }
          ],
          "table": [
           {
            "cells": {
             "fill": {
              "color": "#EBF0F8"
             },
             "line": {
              "color": "white"
             }
            },
            "header": {
             "fill": {
              "color": "#C8D4E3"
             },
             "line": {
              "color": "white"
             }
            },
            "type": "table"
           }
          ]
         },
         "layout": {
          "annotationdefaults": {
           "arrowcolor": "#2a3f5f",
           "arrowhead": 0,
           "arrowwidth": 1
          },
          "autotypenumbers": "strict",
          "coloraxis": {
           "colorbar": {
            "outlinewidth": 0,
            "ticks": ""
           }
          },
          "colorscale": {
           "diverging": [
            [
             0,
             "#8e0152"
            ],
            [
             0.1,
             "#c51b7d"
            ],
            [
             0.2,
             "#de77ae"
            ],
            [
             0.3,
             "#f1b6da"
            ],
            [
             0.4,
             "#fde0ef"
            ],
            [
             0.5,
             "#f7f7f7"
            ],
            [
             0.6,
             "#e6f5d0"
            ],
            [
             0.7,
             "#b8e186"
            ],
            [
             0.8,
             "#7fbc41"
            ],
            [
             0.9,
             "#4d9221"
            ],
            [
             1,
             "#276419"
            ]
           ],
           "sequential": [
            [
             0,
             "#0d0887"
            ],
            [
             0.1111111111111111,
             "#46039f"
            ],
            [
             0.2222222222222222,
             "#7201a8"
            ],
            [
             0.3333333333333333,
             "#9c179e"
            ],
            [
             0.4444444444444444,
             "#bd3786"
            ],
            [
             0.5555555555555556,
             "#d8576b"
            ],
            [
             0.6666666666666666,
             "#ed7953"
            ],
            [
             0.7777777777777778,
             "#fb9f3a"
            ],
            [
             0.8888888888888888,
             "#fdca26"
            ],
            [
             1,
             "#f0f921"
            ]
           ],
           "sequentialminus": [
            [
             0,
             "#0d0887"
            ],
            [
             0.1111111111111111,
             "#46039f"
            ],
            [
             0.2222222222222222,
             "#7201a8"
            ],
            [
             0.3333333333333333,
             "#9c179e"
            ],
            [
             0.4444444444444444,
             "#bd3786"
            ],
            [
             0.5555555555555556,
             "#d8576b"
            ],
            [
             0.6666666666666666,
             "#ed7953"
            ],
            [
             0.7777777777777778,
             "#fb9f3a"
            ],
            [
             0.8888888888888888,
             "#fdca26"
            ],
            [
             1,
             "#f0f921"
            ]
           ]
          },
          "colorway": [
           "#636efa",
           "#EF553B",
           "#00cc96",
           "#ab63fa",
           "#FFA15A",
           "#19d3f3",
           "#FF6692",
           "#B6E880",
           "#FF97FF",
           "#FECB52"
          ],
          "font": {
           "color": "#2a3f5f"
          },
          "geo": {
           "bgcolor": "white",
           "lakecolor": "white",
           "landcolor": "#E5ECF6",
           "showlakes": true,
           "showland": true,
           "subunitcolor": "white"
          },
          "hoverlabel": {
           "align": "left"
          },
          "hovermode": "closest",
          "mapbox": {
           "style": "light"
          },
          "paper_bgcolor": "white",
          "plot_bgcolor": "#E5ECF6",
          "polar": {
           "angularaxis": {
            "gridcolor": "white",
            "linecolor": "white",
            "ticks": ""
           },
           "bgcolor": "#E5ECF6",
           "radialaxis": {
            "gridcolor": "white",
            "linecolor": "white",
            "ticks": ""
           }
          },
          "scene": {
           "xaxis": {
            "backgroundcolor": "#E5ECF6",
            "gridcolor": "white",
            "gridwidth": 2,
            "linecolor": "white",
            "showbackground": true,
            "ticks": "",
            "zerolinecolor": "white"
           },
           "yaxis": {
            "backgroundcolor": "#E5ECF6",
            "gridcolor": "white",
            "gridwidth": 2,
            "linecolor": "white",
            "showbackground": true,
            "ticks": "",
            "zerolinecolor": "white"
           },
           "zaxis": {
            "backgroundcolor": "#E5ECF6",
            "gridcolor": "white",
            "gridwidth": 2,
            "linecolor": "white",
            "showbackground": true,
            "ticks": "",
            "zerolinecolor": "white"
           }
          },
          "shapedefaults": {
           "line": {
            "color": "#2a3f5f"
           }
          },
          "ternary": {
           "aaxis": {
            "gridcolor": "white",
            "linecolor": "white",
            "ticks": ""
           },
           "baxis": {
            "gridcolor": "white",
            "linecolor": "white",
            "ticks": ""
           },
           "bgcolor": "#E5ECF6",
           "caxis": {
            "gridcolor": "white",
            "linecolor": "white",
            "ticks": ""
           }
          },
          "title": {
           "x": 0.05
          },
          "xaxis": {
           "automargin": true,
           "gridcolor": "white",
           "linecolor": "white",
           "ticks": "",
           "title": {
            "standoff": 15
           },
           "zerolinecolor": "white",
           "zerolinewidth": 2
          },
          "yaxis": {
           "automargin": true,
           "gridcolor": "white",
           "linecolor": "white",
           "ticks": "",
           "title": {
            "standoff": 15
           },
           "zerolinecolor": "white",
           "zerolinewidth": 2
          }
         }
        },
        "xaxis": {
         "anchor": "y",
         "constrain": "domain",
         "domain": [
          0,
          1
         ],
         "scaleanchor": "y"
        },
        "yaxis": {
         "anchor": "x",
         "autorange": "reversed",
         "constrain": "domain",
         "domain": [
          0,
          1
         ]
        }
       }
      }
     },
     "metadata": {},
     "output_type": "display_data"
    }
   ],
   "source": [
    "px.imshow(q_acts.detach().cpu(), color_continuous_midpoint=0, color_continuous_scale='RdBu')"
   ]
  },
  {
   "cell_type": "code",
   "execution_count": 22,
   "id": "5b690f84",
   "metadata": {},
   "outputs": [
    {
     "data": {
      "text/plain": [
       "tensor([-0.7388, -6.3002, -0.7098, -2.5913, -0.6578, -1.9118, -0.4276,  2.0457,\n",
       "        12.9395,  1.5181, -0.6812, -0.7607, -0.6401, -0.6838, -0.7433, -0.5294,\n",
       "        -0.7255, -0.6528, -0.7157, -0.8360], device='cuda:0',\n",
       "       grad_fn=<SelectBackward0>)"
      ]
     },
     "execution_count": 22,
     "metadata": {},
     "output_type": "execute_result"
    }
   ],
   "source": [
    "import einops\n",
    "x = base_model.token_embedding(test)\n",
    "query_acts = einops.einsum(x, model.components.attention.A, \"batch seq d_model, d_model C -> batch seq C\")\n",
    "key_acts = einops.einsum(x, model.components.attention.B, \"batch seq d_model, C d_model -> batch seq C\")\n",
    "component_acts = einops.einsum(query_acts, key_acts, \"batch seqQ C, batch seqK C -> batch seqQ seqK C\")\n",
    "\n",
    "\n",
    "scores = component_acts.sum(dim=-1) \n",
    "\n",
    "        # Apply causal mask if needed\n",
    "scores = model.components.attention.causal_mask(scores)\n",
    "\n",
    "        \n",
    "patt = scores.softmax(dim=-1)\n",
    "z = einops.einsum(patt, x, \"batch seq1 seq2, batch seq2 d_model -> batch seq1 d_model\")\n",
    "out = einops.einsum(z, model.components.attention.ov, \"batch seq d_model, d_model d_model -> batch seq d_model\")\n",
    "out = out + x\n",
    "model.model.unembed(out)[0, -1]"
   ]
  },
  {
   "cell_type": "code",
   "execution_count": 59,
   "id": "e62fceee",
   "metadata": {},
   "outputs": [
    {
     "data": {
      "application/vnd.plotly.v1+json": {
       "config": {
        "plotlyServerURL": "https://plot.ly"
       },
       "data": [
        {
         "coloraxis": "coloraxis",
         "hovertemplate": "x: %{x}<br>y: %{y}<br>color: %{z}<extra></extra>",
         "name": "0",
         "type": "heatmap",
         "xaxis": "x",
         "yaxis": "y",
         "z": {
          "bdata": "YS3fu7hfgrseLdK68rkMvGuxeMKqSQPCIkRAukO4FMJXnD/BJngkvATgib0K/xO4uD/LuTgpirpgdT6/RlSjvDv8xLtHf8G6N7+1vG60X7zCHC7Cy7aVweQUv7r3Lt7Cbx7zwuKP9rq45QC9j6nLu97Ber7UlWi7LQsTv52Yobw7/MS7R3/Buje/tbxutF+8whwuwsu2lcHkFL+69y7ewm8e88Lij/a6uOUAvY+py7vewXq+1JVouy0LE7+dmKG8AhvGu/WAwLq5ubO8h7xuvH0fL8IsFpfB2bG0uvJb4MIXjfTC1Rsaux3nAb07IMy7GZJlvvDuZbu8DBC/0nmhvDv8xLtHf8G6N7+1vG60X7zCHC7Cy7aVweQUv7r3Lt7Cbx7zwuKP9rq45QC9j6nLu97Ber7UlWi7LQsTv52YobwCG8a79YDAurm5s7yHvG68fR8vwiwWl8HZsbS68lvgwheN9MLVGxq7HecBvTsgzLsZkmW+8O5lu7wMEL/SeaG8MFfCu+t9wLrTyrO8ONttvD1PMMJ7J5fB7oOyuh1X4MLSLfXCytQmuyYO9ry1y8y7V8x8vhXVZru0ExK/T6KhvEEEWbsq4nS65qSBvETuv71jKQrCsypvwXw8TbtyCdLC0PuzwqupobtAexW9dZa/u0cQc7rzqFi7JklQvk1Bo7w=",
          "dtype": "f4",
          "shape": "8, 16"
         }
        }
       ],
       "layout": {
        "coloraxis": {
         "cmid": 0,
         "colorscale": [
          [
           0,
           "rgb(103,0,31)"
          ],
          [
           0.1,
           "rgb(178,24,43)"
          ],
          [
           0.2,
           "rgb(214,96,77)"
          ],
          [
           0.3,
           "rgb(244,165,130)"
          ],
          [
           0.4,
           "rgb(253,219,199)"
          ],
          [
           0.5,
           "rgb(247,247,247)"
          ],
          [
           0.6,
           "rgb(209,229,240)"
          ],
          [
           0.7,
           "rgb(146,197,222)"
          ],
          [
           0.8,
           "rgb(67,147,195)"
          ],
          [
           0.9,
           "rgb(33,102,172)"
          ],
          [
           1,
           "rgb(5,48,97)"
          ]
         ]
        },
        "margin": {
         "t": 60
        },
        "template": {
         "data": {
          "bar": [
           {
            "error_x": {
             "color": "#2a3f5f"
            },
            "error_y": {
             "color": "#2a3f5f"
            },
            "marker": {
             "line": {
              "color": "#E5ECF6",
              "width": 0.5
             },
             "pattern": {
              "fillmode": "overlay",
              "size": 10,
              "solidity": 0.2
             }
            },
            "type": "bar"
           }
          ],
          "barpolar": [
           {
            "marker": {
             "line": {
              "color": "#E5ECF6",
              "width": 0.5
             },
             "pattern": {
              "fillmode": "overlay",
              "size": 10,
              "solidity": 0.2
             }
            },
            "type": "barpolar"
           }
          ],
          "carpet": [
           {
            "aaxis": {
             "endlinecolor": "#2a3f5f",
             "gridcolor": "white",
             "linecolor": "white",
             "minorgridcolor": "white",
             "startlinecolor": "#2a3f5f"
            },
            "baxis": {
             "endlinecolor": "#2a3f5f",
             "gridcolor": "white",
             "linecolor": "white",
             "minorgridcolor": "white",
             "startlinecolor": "#2a3f5f"
            },
            "type": "carpet"
           }
          ],
          "choropleth": [
           {
            "colorbar": {
             "outlinewidth": 0,
             "ticks": ""
            },
            "type": "choropleth"
           }
          ],
          "contour": [
           {
            "colorbar": {
             "outlinewidth": 0,
             "ticks": ""
            },
            "colorscale": [
             [
              0,
              "#0d0887"
             ],
             [
              0.1111111111111111,
              "#46039f"
             ],
             [
              0.2222222222222222,
              "#7201a8"
             ],
             [
              0.3333333333333333,
              "#9c179e"
             ],
             [
              0.4444444444444444,
              "#bd3786"
             ],
             [
              0.5555555555555556,
              "#d8576b"
             ],
             [
              0.6666666666666666,
              "#ed7953"
             ],
             [
              0.7777777777777778,
              "#fb9f3a"
             ],
             [
              0.8888888888888888,
              "#fdca26"
             ],
             [
              1,
              "#f0f921"
             ]
            ],
            "type": "contour"
           }
          ],
          "contourcarpet": [
           {
            "colorbar": {
             "outlinewidth": 0,
             "ticks": ""
            },
            "type": "contourcarpet"
           }
          ],
          "heatmap": [
           {
            "colorbar": {
             "outlinewidth": 0,
             "ticks": ""
            },
            "colorscale": [
             [
              0,
              "#0d0887"
             ],
             [
              0.1111111111111111,
              "#46039f"
             ],
             [
              0.2222222222222222,
              "#7201a8"
             ],
             [
              0.3333333333333333,
              "#9c179e"
             ],
             [
              0.4444444444444444,
              "#bd3786"
             ],
             [
              0.5555555555555556,
              "#d8576b"
             ],
             [
              0.6666666666666666,
              "#ed7953"
             ],
             [
              0.7777777777777778,
              "#fb9f3a"
             ],
             [
              0.8888888888888888,
              "#fdca26"
             ],
             [
              1,
              "#f0f921"
             ]
            ],
            "type": "heatmap"
           }
          ],
          "histogram": [
           {
            "marker": {
             "pattern": {
              "fillmode": "overlay",
              "size": 10,
              "solidity": 0.2
             }
            },
            "type": "histogram"
           }
          ],
          "histogram2d": [
           {
            "colorbar": {
             "outlinewidth": 0,
             "ticks": ""
            },
            "colorscale": [
             [
              0,
              "#0d0887"
             ],
             [
              0.1111111111111111,
              "#46039f"
             ],
             [
              0.2222222222222222,
              "#7201a8"
             ],
             [
              0.3333333333333333,
              "#9c179e"
             ],
             [
              0.4444444444444444,
              "#bd3786"
             ],
             [
              0.5555555555555556,
              "#d8576b"
             ],
             [
              0.6666666666666666,
              "#ed7953"
             ],
             [
              0.7777777777777778,
              "#fb9f3a"
             ],
             [
              0.8888888888888888,
              "#fdca26"
             ],
             [
              1,
              "#f0f921"
             ]
            ],
            "type": "histogram2d"
           }
          ],
          "histogram2dcontour": [
           {
            "colorbar": {
             "outlinewidth": 0,
             "ticks": ""
            },
            "colorscale": [
             [
              0,
              "#0d0887"
             ],
             [
              0.1111111111111111,
              "#46039f"
             ],
             [
              0.2222222222222222,
              "#7201a8"
             ],
             [
              0.3333333333333333,
              "#9c179e"
             ],
             [
              0.4444444444444444,
              "#bd3786"
             ],
             [
              0.5555555555555556,
              "#d8576b"
             ],
             [
              0.6666666666666666,
              "#ed7953"
             ],
             [
              0.7777777777777778,
              "#fb9f3a"
             ],
             [
              0.8888888888888888,
              "#fdca26"
             ],
             [
              1,
              "#f0f921"
             ]
            ],
            "type": "histogram2dcontour"
           }
          ],
          "mesh3d": [
           {
            "colorbar": {
             "outlinewidth": 0,
             "ticks": ""
            },
            "type": "mesh3d"
           }
          ],
          "parcoords": [
           {
            "line": {
             "colorbar": {
              "outlinewidth": 0,
              "ticks": ""
             }
            },
            "type": "parcoords"
           }
          ],
          "pie": [
           {
            "automargin": true,
            "type": "pie"
           }
          ],
          "scatter": [
           {
            "fillpattern": {
             "fillmode": "overlay",
             "size": 10,
             "solidity": 0.2
            },
            "type": "scatter"
           }
          ],
          "scatter3d": [
           {
            "line": {
             "colorbar": {
              "outlinewidth": 0,
              "ticks": ""
             }
            },
            "marker": {
             "colorbar": {
              "outlinewidth": 0,
              "ticks": ""
             }
            },
            "type": "scatter3d"
           }
          ],
          "scattercarpet": [
           {
            "marker": {
             "colorbar": {
              "outlinewidth": 0,
              "ticks": ""
             }
            },
            "type": "scattercarpet"
           }
          ],
          "scattergeo": [
           {
            "marker": {
             "colorbar": {
              "outlinewidth": 0,
              "ticks": ""
             }
            },
            "type": "scattergeo"
           }
          ],
          "scattergl": [
           {
            "marker": {
             "colorbar": {
              "outlinewidth": 0,
              "ticks": ""
             }
            },
            "type": "scattergl"
           }
          ],
          "scattermap": [
           {
            "marker": {
             "colorbar": {
              "outlinewidth": 0,
              "ticks": ""
             }
            },
            "type": "scattermap"
           }
          ],
          "scattermapbox": [
           {
            "marker": {
             "colorbar": {
              "outlinewidth": 0,
              "ticks": ""
             }
            },
            "type": "scattermapbox"
           }
          ],
          "scatterpolar": [
           {
            "marker": {
             "colorbar": {
              "outlinewidth": 0,
              "ticks": ""
             }
            },
            "type": "scatterpolar"
           }
          ],
          "scatterpolargl": [
           {
            "marker": {
             "colorbar": {
              "outlinewidth": 0,
              "ticks": ""
             }
            },
            "type": "scatterpolargl"
           }
          ],
          "scatterternary": [
           {
            "marker": {
             "colorbar": {
              "outlinewidth": 0,
              "ticks": ""
             }
            },
            "type": "scatterternary"
           }
          ],
          "surface": [
           {
            "colorbar": {
             "outlinewidth": 0,
             "ticks": ""
            },
            "colorscale": [
             [
              0,
              "#0d0887"
             ],
             [
              0.1111111111111111,
              "#46039f"
             ],
             [
              0.2222222222222222,
              "#7201a8"
             ],
             [
              0.3333333333333333,
              "#9c179e"
             ],
             [
              0.4444444444444444,
              "#bd3786"
             ],
             [
              0.5555555555555556,
              "#d8576b"
             ],
             [
              0.6666666666666666,
              "#ed7953"
             ],
             [
              0.7777777777777778,
              "#fb9f3a"
             ],
             [
              0.8888888888888888,
              "#fdca26"
             ],
             [
              1,
              "#f0f921"
             ]
            ],
            "type": "surface"
           }
          ],
          "table": [
           {
            "cells": {
             "fill": {
              "color": "#EBF0F8"
             },
             "line": {
              "color": "white"
             }
            },
            "header": {
             "fill": {
              "color": "#C8D4E3"
             },
             "line": {
              "color": "white"
             }
            },
            "type": "table"
           }
          ]
         },
         "layout": {
          "annotationdefaults": {
           "arrowcolor": "#2a3f5f",
           "arrowhead": 0,
           "arrowwidth": 1
          },
          "autotypenumbers": "strict",
          "coloraxis": {
           "colorbar": {
            "outlinewidth": 0,
            "ticks": ""
           }
          },
          "colorscale": {
           "diverging": [
            [
             0,
             "#8e0152"
            ],
            [
             0.1,
             "#c51b7d"
            ],
            [
             0.2,
             "#de77ae"
            ],
            [
             0.3,
             "#f1b6da"
            ],
            [
             0.4,
             "#fde0ef"
            ],
            [
             0.5,
             "#f7f7f7"
            ],
            [
             0.6,
             "#e6f5d0"
            ],
            [
             0.7,
             "#b8e186"
            ],
            [
             0.8,
             "#7fbc41"
            ],
            [
             0.9,
             "#4d9221"
            ],
            [
             1,
             "#276419"
            ]
           ],
           "sequential": [
            [
             0,
             "#0d0887"
            ],
            [
             0.1111111111111111,
             "#46039f"
            ],
            [
             0.2222222222222222,
             "#7201a8"
            ],
            [
             0.3333333333333333,
             "#9c179e"
            ],
            [
             0.4444444444444444,
             "#bd3786"
            ],
            [
             0.5555555555555556,
             "#d8576b"
            ],
            [
             0.6666666666666666,
             "#ed7953"
            ],
            [
             0.7777777777777778,
             "#fb9f3a"
            ],
            [
             0.8888888888888888,
             "#fdca26"
            ],
            [
             1,
             "#f0f921"
            ]
           ],
           "sequentialminus": [
            [
             0,
             "#0d0887"
            ],
            [
             0.1111111111111111,
             "#46039f"
            ],
            [
             0.2222222222222222,
             "#7201a8"
            ],
            [
             0.3333333333333333,
             "#9c179e"
            ],
            [
             0.4444444444444444,
             "#bd3786"
            ],
            [
             0.5555555555555556,
             "#d8576b"
            ],
            [
             0.6666666666666666,
             "#ed7953"
            ],
            [
             0.7777777777777778,
             "#fb9f3a"
            ],
            [
             0.8888888888888888,
             "#fdca26"
            ],
            [
             1,
             "#f0f921"
            ]
           ]
          },
          "colorway": [
           "#636efa",
           "#EF553B",
           "#00cc96",
           "#ab63fa",
           "#FFA15A",
           "#19d3f3",
           "#FF6692",
           "#B6E880",
           "#FF97FF",
           "#FECB52"
          ],
          "font": {
           "color": "#2a3f5f"
          },
          "geo": {
           "bgcolor": "white",
           "lakecolor": "white",
           "landcolor": "#E5ECF6",
           "showlakes": true,
           "showland": true,
           "subunitcolor": "white"
          },
          "hoverlabel": {
           "align": "left"
          },
          "hovermode": "closest",
          "mapbox": {
           "style": "light"
          },
          "paper_bgcolor": "white",
          "plot_bgcolor": "#E5ECF6",
          "polar": {
           "angularaxis": {
            "gridcolor": "white",
            "linecolor": "white",
            "ticks": ""
           },
           "bgcolor": "#E5ECF6",
           "radialaxis": {
            "gridcolor": "white",
            "linecolor": "white",
            "ticks": ""
           }
          },
          "scene": {
           "xaxis": {
            "backgroundcolor": "#E5ECF6",
            "gridcolor": "white",
            "gridwidth": 2,
            "linecolor": "white",
            "showbackground": true,
            "ticks": "",
            "zerolinecolor": "white"
           },
           "yaxis": {
            "backgroundcolor": "#E5ECF6",
            "gridcolor": "white",
            "gridwidth": 2,
            "linecolor": "white",
            "showbackground": true,
            "ticks": "",
            "zerolinecolor": "white"
           },
           "zaxis": {
            "backgroundcolor": "#E5ECF6",
            "gridcolor": "white",
            "gridwidth": 2,
            "linecolor": "white",
            "showbackground": true,
            "ticks": "",
            "zerolinecolor": "white"
           }
          },
          "shapedefaults": {
           "line": {
            "color": "#2a3f5f"
           }
          },
          "ternary": {
           "aaxis": {
            "gridcolor": "white",
            "linecolor": "white",
            "ticks": ""
           },
           "baxis": {
            "gridcolor": "white",
            "linecolor": "white",
            "ticks": ""
           },
           "bgcolor": "#E5ECF6",
           "caxis": {
            "gridcolor": "white",
            "linecolor": "white",
            "ticks": ""
           }
          },
          "title": {
           "x": 0.05
          },
          "xaxis": {
           "automargin": true,
           "gridcolor": "white",
           "linecolor": "white",
           "ticks": "",
           "title": {
            "standoff": 15
           },
           "zerolinecolor": "white",
           "zerolinewidth": 2
          },
          "yaxis": {
           "automargin": true,
           "gridcolor": "white",
           "linecolor": "white",
           "ticks": "",
           "title": {
            "standoff": 15
           },
           "zerolinecolor": "white",
           "zerolinewidth": 2
          }
         }
        },
        "xaxis": {
         "anchor": "y",
         "constrain": "domain",
         "domain": [
          0,
          1
         ],
         "scaleanchor": "y"
        },
        "yaxis": {
         "anchor": "x",
         "autorange": "reversed",
         "constrain": "domain",
         "domain": [
          0,
          1
         ]
        }
       }
      }
     },
     "metadata": {},
     "output_type": "display_data"
    }
   ],
   "source": [
    "from spd.models.component_utils import (\n",
    "    calc_causal_importances,\n",
    "    calc_ci_l_zero,\n",
    "    component_activation_statistics,\n",
    ")\n",
    "\n",
    "target_out, pre_weight_acts = model.forward_with_pre_forward_cache_hooks(\n",
    "            test, module_names=list(components.keys())\n",
    "        )\n",
    "gates = {\n",
    "        k.removeprefix(\"gates.\").replace(\"-\", \".\"): v for k, v in model.gates.items()\n",
    "    }  # type: ignore\n",
    "As = {module_name: components[module_name].A for module_name in components}\n",
    "cis = calc_causal_importances(pre_weight_acts, As, gates)\n",
    "px.imshow(cis[0][\"attention\"][0].detach().cpu(), color_continuous_midpoint=0, color_continuous_scale='RdBu')"
   ]
  },
  {
   "cell_type": "code",
   "execution_count": 14,
   "id": "9ed5c10a",
   "metadata": {},
   "outputs": [
    {
     "data": {
      "text/plain": [
       "tensor([ 2.0760, -2.0230, -1.2374, -1.2469, -1.0780, -0.9396,  1.4126, -1.4422,\n",
       "         1.3203, -1.5197,  1.5964, -1.3095,  0.8329, -0.6197,  1.7893, -1.2619],\n",
       "       device='cuda:0', grad_fn=<SelectBackward0>)"
      ]
     },
     "execution_count": 14,
     "metadata": {},
     "output_type": "execute_result"
    }
   ],
   "source": [
    "out[0, -1]"
   ]
  },
  {
   "cell_type": "code",
   "execution_count": 19,
   "id": "44eba098",
   "metadata": {},
   "outputs": [
    {
     "data": {
      "text/plain": [
       "tensor([-1.0258, -5.8353, -0.9948, -2.3342, -0.9520, -1.6445,  0.2631,  1.8429,\n",
       "        12.3337,  1.7040, -0.9682, -1.0429, -0.9310, -0.9712, -1.0236, -0.8227,\n",
       "        -1.0059, -0.9413, -0.9984, -1.1181], device='cuda:0',\n",
       "       grad_fn=<SelectBackward0>)"
      ]
     },
     "execution_count": 19,
     "metadata": {},
     "output_type": "execute_result"
    }
   ],
   "source": [
    "base_model.forward(test)[0, -1]"
   ]
  },
  {
   "cell_type": "code",
   "execution_count": 24,
   "id": "6abc4cd1",
   "metadata": {},
   "outputs": [
    {
     "data": {
      "text/plain": [
       "tensor([-1.0258, -5.8353, -0.9948, -2.3342, -0.9520, -1.6445,  0.2631,  1.8429,\n",
       "        12.3337,  1.7040, -0.9682, -1.0429, -0.9310, -0.9712, -1.0236, -0.8227,\n",
       "        -1.0059, -0.9413, -0.9984, -1.1181], device='cuda:0',\n",
       "       grad_fn=<SelectBackward0>)"
      ]
     },
     "execution_count": 24,
     "metadata": {},
     "output_type": "execute_result"
    }
   ],
   "source": [
    "base_attn_out = base_model.attention(x)\n",
    "base_attn_out = base_attn_out + x\n",
    "base_model.unembed(base_attn_out)[0, -1]"
   ]
  },
  {
   "cell_type": "code",
   "execution_count": 7,
   "id": "5f3d1728",
   "metadata": {},
   "outputs": [
    {
     "name": "stdout",
     "output_type": "stream",
     "text": [
      "Weight reconstruction error: 2.92e-04\n"
     ]
    }
   ],
   "source": [
    "# Verify the actual reconstruction quality\n",
    "original_weight = model.model.attention.weight.cuda()  # From the SPD model\n",
    "reconstructed_weight = model.components['attention'].weight.cuda()  # A @ B\n",
    "\n",
    "reconstruction_error = torch.norm(original_weight - reconstructed_weight)\n",
    "print(f\"Weight reconstruction error: {reconstruction_error.item():.2e}\")\n",
    "\n",
    "# If this is large (> 1e-3), then the decomposition didn't work well"
   ]
  },
  {
   "cell_type": "code",
   "execution_count": 15,
   "id": "e8e57852",
   "metadata": {},
   "outputs": [
    {
     "name": "stdout",
     "output_type": "stream",
     "text": [
      "SPD regular: tensor([-1.1999, 12.4515, -1.2318,  1.7649, -1.2817,  0.4664,  1.9224,  2.4540,\n",
      "        -5.4099, -1.6787, -1.3501, -1.1428, -1.1227, -1.1139, -1.1096, -1.1913,\n",
      "        -1.1318, -1.3384, -1.2797, -1.2876], device='cuda:0',\n",
      "       grad_fn=<SelectBackward0>)\n",
      "Base model: tensor([-1.1999, 12.4515, -1.2318,  1.7649, -1.2817,  0.4664,  1.9224,  2.4540,\n",
      "        -5.4099, -1.6787, -1.3501, -1.1428, -1.1227, -1.1139, -1.1096, -1.1913,\n",
      "        -1.1318, -1.3384, -1.2797, -1.2876], device='cuda:0',\n",
      "       grad_fn=<SelectBackward0>)\n",
      "Are SPD and base identical? True\n",
      "Component reconstruction: tensor([-5.1186,  6.3521, -5.0726,  2.4931, -5.1816,  2.9199, 10.2352, -0.7094,\n",
      "        -1.2903,  3.2643, -5.1240, -5.0428, -5.0802, -5.0557, -4.9922, -5.0560,\n",
      "        -4.9824, -5.1224, -5.0628, -5.1367], device='cuda:0',\n",
      "       grad_fn=<SelectBackward0>)\n",
      "Are component and SPD regular close? False\n"
     ]
    }
   ],
   "source": [
    "# The SPD model should be identical to base model when using regular forward\n",
    "spd_regular = model(test)  # Uses original weights\n",
    "base_out = base_model(test)  # Original model\n",
    "\n",
    "print(f\"SPD regular: {spd_regular[0, -1]}\")\n",
    "print(f\"Base model: {base_out[0, -1]}\")\n",
    "print(f\"Are SPD and base identical? {torch.allclose(spd_regular, base_out, atol=1e-9)}\")\n",
    "\n",
    "# Then compare component reconstruction to SPD regular (not base_model)\n",
    "component_out = model.forward_with_components(test, components=model.components)\n",
    "print(f\"Component reconstruction: {component_out[0, -1]}\")\n",
    "print(f\"Are component and SPD regular close? {torch.allclose(component_out, spd_regular, atol=1e-3)}\")"
   ]
  },
  {
   "cell_type": "code",
   "execution_count": null,
   "id": "c7189e93",
   "metadata": {},
   "outputs": [
    {
     "name": "stdout",
     "output_type": "stream",
     "text": [
      "Are SPD and base identical? False\n"
     ]
    }
   ],
   "source": [
    "import einops\n",
    "component_reconstructed_weights = einops.einsum(model.components['attention'].A, model.components['attention'].B, 'dq c, c d -> dq d')\n",
    "model_weight = model.components.attention.weight\n",
    "\n",
    "print(f\"Are SPD and base identical? {torch.allclose(component_reconstructed_weights, model_weight, atol=1e-9)}\")"
   ]
  },
  {
   "cell_type": "code",
   "execution_count": 26,
   "id": "a3877de2",
   "metadata": {},
   "outputs": [
    {
     "name": "stdout",
     "output_type": "stream",
     "text": [
      "Attention scores identical: True\n",
      "Max difference: 3.15e-05\n"
     ]
    }
   ],
   "source": [
    "test = torch.tensor([[ 1,  5,  5,  15 , 5, 1,  4,  0]]).cuda()\n",
    "\n",
    "# Get embeddings\n",
    "embed = model.model.token_embedding(test)\n",
    "\n",
    "# Method 1: Using stored model.components.attention.weight (A @ B)\n",
    "scores1 = einops.einsum(embed, model.components.attention.weight, embed, \n",
    "                       \"batch seq1 d_model, d_model d_model, batch seq2 d_model -> batch seq1 seq2\")\n",
    "\n",
    "# Method 2: Using original model weight\n",
    "scores2 = einops.einsum(embed, model.model.attention.weight, embed, \n",
    "                       \"batch seq1 d_model, d_model d_model, batch seq2 d_model -> batch seq1 seq2\")\n",
    "\n",
    "print(f\"Attention scores identical: {torch.allclose(scores1, scores2, atol=1e-6)}\")\n",
    "print(f\"Max difference: {(scores1 - scores2).abs().max().item():.2e}\")"
   ]
  },
  {
   "cell_type": "code",
   "execution_count": 29,
   "id": "ef521b24",
   "metadata": {},
   "outputs": [
    {
     "name": "stdout",
     "output_type": "stream",
     "text": [
      "=== WEIGHT MATRIX COMPARISON ===\n",
      "Original vs stored component: False\n",
      "Original vs reconstructed A@B: False\n",
      "Stored component vs A@B: True\n",
      "\n",
      "Max differences:\n",
      "Original vs stored component: 1.35e-04\n",
      "Original vs reconstructed A@B: 1.35e-04\n"
     ]
    }
   ],
   "source": [
    "import einops\n",
    "original_weight = base_model.attention.weight\n",
    "stored_component_weight = model.components.attention.weight\n",
    "reconstructed_weight = einops.einsum(model.components['attention'].A, model.components['attention'].B, 'dq c, c d -> dq d')\n",
    "\n",
    "print(\"=== WEIGHT MATRIX COMPARISON ===\")\n",
    "print(f\"Original vs stored component: {torch.allclose(original_weight, stored_component_weight, atol=1e-4)}\")\n",
    "print(f\"Original vs reconstructed A@B: {torch.allclose(original_weight, reconstructed_weight, atol=1e-6)}\")\n",
    "print(f\"Stored component vs A@B: {torch.allclose(stored_component_weight, reconstructed_weight, atol=1e-9)}\")\n",
    "\n",
    "print(f\"\\nMax differences:\")\n",
    "print(f\"Original vs stored component: {(original_weight - stored_component_weight).abs().max().item():.2e}\")\n",
    "print(f\"Original vs reconstructed A@B: {(original_weight - reconstructed_weight).abs().max().item():.2e}\")"
   ]
  },
  {
   "cell_type": "code",
   "execution_count": 1,
   "id": "a5f53086",
   "metadata": {},
   "outputs": [
    {
     "ename": "NameError",
     "evalue": "name 'original_weight' is not defined",
     "output_type": "error",
     "traceback": [
      "\u001b[0;31m---------------------------------------------------------------------------\u001b[0m",
      "\u001b[0;31mNameError\u001b[0m                                 Traceback (most recent call last)",
      "Cell \u001b[0;32mIn[1], line 1\u001b[0m\n\u001b[0;32m----> 1\u001b[0m \u001b[43moriginal_weight\u001b[49m\u001b[38;5;241m.\u001b[39mshape\n",
      "\u001b[0;31mNameError\u001b[0m: name 'original_weight' is not defined"
     ]
    }
   ],
   "source": [
    "original_weight.shape"
   ]
  },
  {
   "cell_type": "code",
   "execution_count": 21,
   "id": "4cec14db",
   "metadata": {},
   "outputs": [
    {
     "data": {
      "application/vnd.plotly.v1+json": {
       "config": {
        "plotlyServerURL": "https://plot.ly"
       },
       "data": [
        {
         "coloraxis": "coloraxis",
         "hovertemplate": "Trigram: %{x}<br>Component: %{y}<br>color: %{z}<extra></extra>",
         "name": "0",
         "type": "heatmap",
         "xaxis": "x",
         "yaxis": "y",
         "z": {
          "bdata": "dXJJQN0iBkELC0lAUkpWPr5HRkAwzBXAuZUbwQBpuEByzXvA04ImwC3IPEBuwjtAKNFMQCoSRkAWI0FAEHM/QK3LRkCa2DVAAB05QGZORkDufig/68AlwAWoIT/w1wrAvJtIP1o0y0Bk5GfATgEIwDB/H7/cdfY+9IgxP2s5Mj+4ABg/ID4xP4i2DD/IYCc/VlsyP4NEMj8KvSw/RC1DP+1qIz/MfijAPfkcP645CsAWzUM/FVPMQCsCZcAexAjAeqwJv45i6j6qZCw/mOAtP6uKEz/kNS0/GOEHP+9hIj+MPSw/5vMtP4KZJz/yKj0/ss6OwMzn+b+GCIfAr8s1QBHZiMDE5+o/qxlTQXHxqMDSsqU/0Cf9PjPEhsArf4XAAwaOwNTNi8DOlIHAFNWBwDp3hsAmdYTA4uB+wBTqisDGSJa/aGthP+vxsb/vb5vAlPu7v/I7GkDr+qm/SkQ2QG1Dgr+uquNAdju0vz+bw79XqLO/gBavv9bcyb/8vbO/GWGpv/rZwr9EDcG/FkGvv5Rsj8C2PATAa3GHwBSBOUALgInAeVvePxl5VEEqkqjAwKanP06D/D6BUYfAIiqGwFW5jsBGm4zAUQiCwJomgsBPFofAwQCFwE2pf8DYeIvAorWRQIBJG0AwLJFAIV+bv6V+j0CGd3PAJvZhwSdHEUEcBlW/UTwTwGYKikDVX4hAYNGSQHj+i0A02IpAUJSNQIp8i0BYbIhATsGHQKNEj0Btn5W/MAdQP8musL/OG5jAvSW7v7nXFUBIt6S/kn4yQBqAdL/aTuFAEfOyv25Mwr/+27K/TQiuv0NdyL9DpLK/SOyov+53wb9K3b+/zW2uv3zvZkCe6by/NMt6QEZW/0BSqn1ARnYxwM2Q+cCGLto/orjWv1PsAMFJdnpAlYN6QMKqekDpXWpAzBp7QDLKdUDO93RA0x17QFg2eUCKyIBAslyiQFMB4sCSqaVA0W6RwNwnqkD7awbAPV0mwQwmC79QlN1AvEmfwEAdoEB7I6JAmzCfQEREo0BIAqRAK/umQPMJnkAhaKRADkSkQMSgn0A=",
          "dtype": "f4",
          "shape": "10, 20"
         }
        }
       ],
       "layout": {
        "coloraxis": {
         "cmid": 0,
         "colorscale": [
          [
           0,
           "rgb(103,0,31)"
          ],
          [
           0.1,
           "rgb(178,24,43)"
          ],
          [
           0.2,
           "rgb(214,96,77)"
          ],
          [
           0.3,
           "rgb(244,165,130)"
          ],
          [
           0.4,
           "rgb(253,219,199)"
          ],
          [
           0.5,
           "rgb(247,247,247)"
          ],
          [
           0.6,
           "rgb(209,229,240)"
          ],
          [
           0.7,
           "rgb(146,197,222)"
          ],
          [
           0.8,
           "rgb(67,147,195)"
          ],
          [
           0.9,
           "rgb(33,102,172)"
          ],
          [
           1,
           "rgb(5,48,97)"
          ]
         ]
        },
        "template": {
         "data": {
          "bar": [
           {
            "error_x": {
             "color": "#2a3f5f"
            },
            "error_y": {
             "color": "#2a3f5f"
            },
            "marker": {
             "line": {
              "color": "#E5ECF6",
              "width": 0.5
             },
             "pattern": {
              "fillmode": "overlay",
              "size": 10,
              "solidity": 0.2
             }
            },
            "type": "bar"
           }
          ],
          "barpolar": [
           {
            "marker": {
             "line": {
              "color": "#E5ECF6",
              "width": 0.5
             },
             "pattern": {
              "fillmode": "overlay",
              "size": 10,
              "solidity": 0.2
             }
            },
            "type": "barpolar"
           }
          ],
          "carpet": [
           {
            "aaxis": {
             "endlinecolor": "#2a3f5f",
             "gridcolor": "white",
             "linecolor": "white",
             "minorgridcolor": "white",
             "startlinecolor": "#2a3f5f"
            },
            "baxis": {
             "endlinecolor": "#2a3f5f",
             "gridcolor": "white",
             "linecolor": "white",
             "minorgridcolor": "white",
             "startlinecolor": "#2a3f5f"
            },
            "type": "carpet"
           }
          ],
          "choropleth": [
           {
            "colorbar": {
             "outlinewidth": 0,
             "ticks": ""
            },
            "type": "choropleth"
           }
          ],
          "contour": [
           {
            "colorbar": {
             "outlinewidth": 0,
             "ticks": ""
            },
            "colorscale": [
             [
              0,
              "#0d0887"
             ],
             [
              0.1111111111111111,
              "#46039f"
             ],
             [
              0.2222222222222222,
              "#7201a8"
             ],
             [
              0.3333333333333333,
              "#9c179e"
             ],
             [
              0.4444444444444444,
              "#bd3786"
             ],
             [
              0.5555555555555556,
              "#d8576b"
             ],
             [
              0.6666666666666666,
              "#ed7953"
             ],
             [
              0.7777777777777778,
              "#fb9f3a"
             ],
             [
              0.8888888888888888,
              "#fdca26"
             ],
             [
              1,
              "#f0f921"
             ]
            ],
            "type": "contour"
           }
          ],
          "contourcarpet": [
           {
            "colorbar": {
             "outlinewidth": 0,
             "ticks": ""
            },
            "type": "contourcarpet"
           }
          ],
          "heatmap": [
           {
            "colorbar": {
             "outlinewidth": 0,
             "ticks": ""
            },
            "colorscale": [
             [
              0,
              "#0d0887"
             ],
             [
              0.1111111111111111,
              "#46039f"
             ],
             [
              0.2222222222222222,
              "#7201a8"
             ],
             [
              0.3333333333333333,
              "#9c179e"
             ],
             [
              0.4444444444444444,
              "#bd3786"
             ],
             [
              0.5555555555555556,
              "#d8576b"
             ],
             [
              0.6666666666666666,
              "#ed7953"
             ],
             [
              0.7777777777777778,
              "#fb9f3a"
             ],
             [
              0.8888888888888888,
              "#fdca26"
             ],
             [
              1,
              "#f0f921"
             ]
            ],
            "type": "heatmap"
           }
          ],
          "histogram": [
           {
            "marker": {
             "pattern": {
              "fillmode": "overlay",
              "size": 10,
              "solidity": 0.2
             }
            },
            "type": "histogram"
           }
          ],
          "histogram2d": [
           {
            "colorbar": {
             "outlinewidth": 0,
             "ticks": ""
            },
            "colorscale": [
             [
              0,
              "#0d0887"
             ],
             [
              0.1111111111111111,
              "#46039f"
             ],
             [
              0.2222222222222222,
              "#7201a8"
             ],
             [
              0.3333333333333333,
              "#9c179e"
             ],
             [
              0.4444444444444444,
              "#bd3786"
             ],
             [
              0.5555555555555556,
              "#d8576b"
             ],
             [
              0.6666666666666666,
              "#ed7953"
             ],
             [
              0.7777777777777778,
              "#fb9f3a"
             ],
             [
              0.8888888888888888,
              "#fdca26"
             ],
             [
              1,
              "#f0f921"
             ]
            ],
            "type": "histogram2d"
           }
          ],
          "histogram2dcontour": [
           {
            "colorbar": {
             "outlinewidth": 0,
             "ticks": ""
            },
            "colorscale": [
             [
              0,
              "#0d0887"
             ],
             [
              0.1111111111111111,
              "#46039f"
             ],
             [
              0.2222222222222222,
              "#7201a8"
             ],
             [
              0.3333333333333333,
              "#9c179e"
             ],
             [
              0.4444444444444444,
              "#bd3786"
             ],
             [
              0.5555555555555556,
              "#d8576b"
             ],
             [
              0.6666666666666666,
              "#ed7953"
             ],
             [
              0.7777777777777778,
              "#fb9f3a"
             ],
             [
              0.8888888888888888,
              "#fdca26"
             ],
             [
              1,
              "#f0f921"
             ]
            ],
            "type": "histogram2dcontour"
           }
          ],
          "mesh3d": [
           {
            "colorbar": {
             "outlinewidth": 0,
             "ticks": ""
            },
            "type": "mesh3d"
           }
          ],
          "parcoords": [
           {
            "line": {
             "colorbar": {
              "outlinewidth": 0,
              "ticks": ""
             }
            },
            "type": "parcoords"
           }
          ],
          "pie": [
           {
            "automargin": true,
            "type": "pie"
           }
          ],
          "scatter": [
           {
            "fillpattern": {
             "fillmode": "overlay",
             "size": 10,
             "solidity": 0.2
            },
            "type": "scatter"
           }
          ],
          "scatter3d": [
           {
            "line": {
             "colorbar": {
              "outlinewidth": 0,
              "ticks": ""
             }
            },
            "marker": {
             "colorbar": {
              "outlinewidth": 0,
              "ticks": ""
             }
            },
            "type": "scatter3d"
           }
          ],
          "scattercarpet": [
           {
            "marker": {
             "colorbar": {
              "outlinewidth": 0,
              "ticks": ""
             }
            },
            "type": "scattercarpet"
           }
          ],
          "scattergeo": [
           {
            "marker": {
             "colorbar": {
              "outlinewidth": 0,
              "ticks": ""
             }
            },
            "type": "scattergeo"
           }
          ],
          "scattergl": [
           {
            "marker": {
             "colorbar": {
              "outlinewidth": 0,
              "ticks": ""
             }
            },
            "type": "scattergl"
           }
          ],
          "scattermap": [
           {
            "marker": {
             "colorbar": {
              "outlinewidth": 0,
              "ticks": ""
             }
            },
            "type": "scattermap"
           }
          ],
          "scattermapbox": [
           {
            "marker": {
             "colorbar": {
              "outlinewidth": 0,
              "ticks": ""
             }
            },
            "type": "scattermapbox"
           }
          ],
          "scatterpolar": [
           {
            "marker": {
             "colorbar": {
              "outlinewidth": 0,
              "ticks": ""
             }
            },
            "type": "scatterpolar"
           }
          ],
          "scatterpolargl": [
           {
            "marker": {
             "colorbar": {
              "outlinewidth": 0,
              "ticks": ""
             }
            },
            "type": "scatterpolargl"
           }
          ],
          "scatterternary": [
           {
            "marker": {
             "colorbar": {
              "outlinewidth": 0,
              "ticks": ""
             }
            },
            "type": "scatterternary"
           }
          ],
          "surface": [
           {
            "colorbar": {
             "outlinewidth": 0,
             "ticks": ""
            },
            "colorscale": [
             [
              0,
              "#0d0887"
             ],
             [
              0.1111111111111111,
              "#46039f"
             ],
             [
              0.2222222222222222,
              "#7201a8"
             ],
             [
              0.3333333333333333,
              "#9c179e"
             ],
             [
              0.4444444444444444,
              "#bd3786"
             ],
             [
              0.5555555555555556,
              "#d8576b"
             ],
             [
              0.6666666666666666,
              "#ed7953"
             ],
             [
              0.7777777777777778,
              "#fb9f3a"
             ],
             [
              0.8888888888888888,
              "#fdca26"
             ],
             [
              1,
              "#f0f921"
             ]
            ],
            "type": "surface"
           }
          ],
          "table": [
           {
            "cells": {
             "fill": {
              "color": "#EBF0F8"
             },
             "line": {
              "color": "white"
             }
            },
            "header": {
             "fill": {
              "color": "#C8D4E3"
             },
             "line": {
              "color": "white"
             }
            },
            "type": "table"
           }
          ]
         },
         "layout": {
          "annotationdefaults": {
           "arrowcolor": "#2a3f5f",
           "arrowhead": 0,
           "arrowwidth": 1
          },
          "autotypenumbers": "strict",
          "coloraxis": {
           "colorbar": {
            "outlinewidth": 0,
            "ticks": ""
           }
          },
          "colorscale": {
           "diverging": [
            [
             0,
             "#8e0152"
            ],
            [
             0.1,
             "#c51b7d"
            ],
            [
             0.2,
             "#de77ae"
            ],
            [
             0.3,
             "#f1b6da"
            ],
            [
             0.4,
             "#fde0ef"
            ],
            [
             0.5,
             "#f7f7f7"
            ],
            [
             0.6,
             "#e6f5d0"
            ],
            [
             0.7,
             "#b8e186"
            ],
            [
             0.8,
             "#7fbc41"
            ],
            [
             0.9,
             "#4d9221"
            ],
            [
             1,
             "#276419"
            ]
           ],
           "sequential": [
            [
             0,
             "#0d0887"
            ],
            [
             0.1111111111111111,
             "#46039f"
            ],
            [
             0.2222222222222222,
             "#7201a8"
            ],
            [
             0.3333333333333333,
             "#9c179e"
            ],
            [
             0.4444444444444444,
             "#bd3786"
            ],
            [
             0.5555555555555556,
             "#d8576b"
            ],
            [
             0.6666666666666666,
             "#ed7953"
            ],
            [
             0.7777777777777778,
             "#fb9f3a"
            ],
            [
             0.8888888888888888,
             "#fdca26"
            ],
            [
             1,
             "#f0f921"
            ]
           ],
           "sequentialminus": [
            [
             0,
             "#0d0887"
            ],
            [
             0.1111111111111111,
             "#46039f"
            ],
            [
             0.2222222222222222,
             "#7201a8"
            ],
            [
             0.3333333333333333,
             "#9c179e"
            ],
            [
             0.4444444444444444,
             "#bd3786"
            ],
            [
             0.5555555555555556,
             "#d8576b"
            ],
            [
             0.6666666666666666,
             "#ed7953"
            ],
            [
             0.7777777777777778,
             "#fb9f3a"
            ],
            [
             0.8888888888888888,
             "#fdca26"
            ],
            [
             1,
             "#f0f921"
            ]
           ]
          },
          "colorway": [
           "#636efa",
           "#EF553B",
           "#00cc96",
           "#ab63fa",
           "#FFA15A",
           "#19d3f3",
           "#FF6692",
           "#B6E880",
           "#FF97FF",
           "#FECB52"
          ],
          "font": {
           "color": "#2a3f5f"
          },
          "geo": {
           "bgcolor": "white",
           "lakecolor": "white",
           "landcolor": "#E5ECF6",
           "showlakes": true,
           "showland": true,
           "subunitcolor": "white"
          },
          "hoverlabel": {
           "align": "left"
          },
          "hovermode": "closest",
          "mapbox": {
           "style": "light"
          },
          "paper_bgcolor": "white",
          "plot_bgcolor": "#E5ECF6",
          "polar": {
           "angularaxis": {
            "gridcolor": "white",
            "linecolor": "white",
            "ticks": ""
           },
           "bgcolor": "#E5ECF6",
           "radialaxis": {
            "gridcolor": "white",
            "linecolor": "white",
            "ticks": ""
           }
          },
          "scene": {
           "xaxis": {
            "backgroundcolor": "#E5ECF6",
            "gridcolor": "white",
            "gridwidth": 2,
            "linecolor": "white",
            "showbackground": true,
            "ticks": "",
            "zerolinecolor": "white"
           },
           "yaxis": {
            "backgroundcolor": "#E5ECF6",
            "gridcolor": "white",
            "gridwidth": 2,
            "linecolor": "white",
            "showbackground": true,
            "ticks": "",
            "zerolinecolor": "white"
           },
           "zaxis": {
            "backgroundcolor": "#E5ECF6",
            "gridcolor": "white",
            "gridwidth": 2,
            "linecolor": "white",
            "showbackground": true,
            "ticks": "",
            "zerolinecolor": "white"
           }
          },
          "shapedefaults": {
           "line": {
            "color": "#2a3f5f"
           }
          },
          "ternary": {
           "aaxis": {
            "gridcolor": "white",
            "linecolor": "white",
            "ticks": ""
           },
           "baxis": {
            "gridcolor": "white",
            "linecolor": "white",
            "ticks": ""
           },
           "bgcolor": "#E5ECF6",
           "caxis": {
            "gridcolor": "white",
            "linecolor": "white",
            "ticks": ""
           }
          },
          "title": {
           "x": 0.05
          },
          "xaxis": {
           "automargin": true,
           "gridcolor": "white",
           "linecolor": "white",
           "ticks": "",
           "title": {
            "standoff": 15
           },
           "zerolinecolor": "white",
           "zerolinewidth": 2
          },
          "yaxis": {
           "automargin": true,
           "gridcolor": "white",
           "linecolor": "white",
           "ticks": "",
           "title": {
            "standoff": 15
           },
           "zerolinecolor": "white",
           "zerolinewidth": 2
          }
         }
        },
        "title": {
         "text": "Activation Scores for Each Trigram"
        },
        "xaxis": {
         "anchor": "y",
         "constrain": "domain",
         "domain": [
          0,
          1
         ],
         "scaleanchor": "y",
         "title": {
          "text": "Trigram"
         }
        },
        "yaxis": {
         "anchor": "x",
         "autorange": "reversed",
         "constrain": "domain",
         "domain": [
          0,
          1
         ],
         "title": {
          "text": "Component"
         }
        }
       }
      }
     },
     "metadata": {},
     "output_type": "display_data"
    }
   ],
   "source": [
    "px.imshow(a.detach().cpu(), color_continuous_midpoint=0, color_continuous_scale='RdBu', labels={'x': 'Trigram', 'y': 'Component'}, title=\"Activation Scores for Each Trigram\")"
   ]
  },
  {
   "cell_type": "code",
   "execution_count": 11,
   "id": "7f2009c3",
   "metadata": {},
   "outputs": [
    {
     "data": {
      "text/plain": [
       "tensor([-6.9113,  3.0630, -6.7675,  2.9549, -6.8664,  4.4071, 14.5177, -2.9244,\n",
       "         1.1120,  4.7802, -6.7846, -6.7666, -6.8647, -6.8338, -6.6794, -6.7444,\n",
       "        -6.6864, -6.7845, -6.7234, -6.8459], device='cuda:0',\n",
       "       grad_fn=<SelectBackward0>)"
      ]
     },
     "execution_count": 11,
     "metadata": {},
     "output_type": "execute_result"
    }
   ],
   "source": [
    "gt = base_model.forward(test)\n",
    "gt[0, -1]"
   ]
  },
  {
   "cell_type": "code",
   "execution_count": 30,
   "id": "a11a4204",
   "metadata": {},
   "outputs": [],
   "source": [
    "import einops\n",
    "toks = base_model.token_embedding(test).cuda()\n",
    "scores = einops.einsum(toks, model.model.attention.weight, toks, \n",
    "                                \"batch seq1 d_model, d_model d_model, batch seq2 d_model -> batch seq1 seq2\")\n",
    "            \n",
    "            # Apply normalization\n",
    "            \n",
    "            # Apply causal mask if enabled\n",
    "\n",
    "seq_len = toks.shape[1]\n",
    "causal_mask = torch.triu(torch.ones(seq_len, seq_len, device=toks.device), diagonal=1).bool()\n",
    "scores = scores.masked_fill(causal_mask, float('-inf'))\n",
    "            \n",
    "            # Apply softmax to get attention patterns\n",
    "patterns = scores.softmax(dim=-1)\n",
    "z = einops.einsum(patterns, toks, \"batch seq1 seq2, batch seq2 d_model -> batch seq1 d_model\")"
   ]
  },
  {
   "cell_type": "code",
   "execution_count": 31,
   "id": "f4db7c23",
   "metadata": {},
   "outputs": [
    {
     "data": {
      "application/vnd.plotly.v1+json": {
       "config": {
        "plotlyServerURL": "https://plot.ly"
       },
       "data": [
        {
         "coloraxis": "coloraxis",
         "hovertemplate": "x: %{x}<br>y: %{y}<br>color: %{z}<extra></extra>",
         "name": "0",
         "type": "heatmap",
         "xaxis": "x",
         "yaxis": "y",
         "z": {
          "bdata": "AACAPwAAAAAAAAAAAAAAAAAAAAAAAAAAAAAAAAAAAADkevU+jkIFPwAAAAAAAAAAAAAAAAAAAAAAAAAAAAAAACRxoT5uR68+bkevPgAAAAAAAAAAAAAAAAAAAAAAAAAAxx6bPo84sj6POLI+lDdgOgAAAAAAAAAAAAAAAAAAAABivuw5dIQAOnSEADoGgn8/dIQAOgAAAAAAAAAAAAAAAHqF+TmS6wc6kusHOq5bfz+S6wc6eoX5OQAAAAAAAAAAKh3OOa6r4Dmuq+A5J19/P66r4DkqHc45mYDIOQAAAADhcJw7WXemO1l3pjuEZlY/WXemO+FwnDs6mZk75TYIPg==",
          "dtype": "f4",
          "shape": "8, 8"
         }
        }
       ],
       "layout": {
        "coloraxis": {
         "cmid": 0,
         "colorscale": [
          [
           0,
           "rgb(103,0,31)"
          ],
          [
           0.1,
           "rgb(178,24,43)"
          ],
          [
           0.2,
           "rgb(214,96,77)"
          ],
          [
           0.3,
           "rgb(244,165,130)"
          ],
          [
           0.4,
           "rgb(253,219,199)"
          ],
          [
           0.5,
           "rgb(247,247,247)"
          ],
          [
           0.6,
           "rgb(209,229,240)"
          ],
          [
           0.7,
           "rgb(146,197,222)"
          ],
          [
           0.8,
           "rgb(67,147,195)"
          ],
          [
           0.9,
           "rgb(33,102,172)"
          ],
          [
           1,
           "rgb(5,48,97)"
          ]
         ]
        },
        "margin": {
         "t": 60
        },
        "template": {
         "data": {
          "bar": [
           {
            "error_x": {
             "color": "#2a3f5f"
            },
            "error_y": {
             "color": "#2a3f5f"
            },
            "marker": {
             "line": {
              "color": "#E5ECF6",
              "width": 0.5
             },
             "pattern": {
              "fillmode": "overlay",
              "size": 10,
              "solidity": 0.2
             }
            },
            "type": "bar"
           }
          ],
          "barpolar": [
           {
            "marker": {
             "line": {
              "color": "#E5ECF6",
              "width": 0.5
             },
             "pattern": {
              "fillmode": "overlay",
              "size": 10,
              "solidity": 0.2
             }
            },
            "type": "barpolar"
           }
          ],
          "carpet": [
           {
            "aaxis": {
             "endlinecolor": "#2a3f5f",
             "gridcolor": "white",
             "linecolor": "white",
             "minorgridcolor": "white",
             "startlinecolor": "#2a3f5f"
            },
            "baxis": {
             "endlinecolor": "#2a3f5f",
             "gridcolor": "white",
             "linecolor": "white",
             "minorgridcolor": "white",
             "startlinecolor": "#2a3f5f"
            },
            "type": "carpet"
           }
          ],
          "choropleth": [
           {
            "colorbar": {
             "outlinewidth": 0,
             "ticks": ""
            },
            "type": "choropleth"
           }
          ],
          "contour": [
           {
            "colorbar": {
             "outlinewidth": 0,
             "ticks": ""
            },
            "colorscale": [
             [
              0,
              "#0d0887"
             ],
             [
              0.1111111111111111,
              "#46039f"
             ],
             [
              0.2222222222222222,
              "#7201a8"
             ],
             [
              0.3333333333333333,
              "#9c179e"
             ],
             [
              0.4444444444444444,
              "#bd3786"
             ],
             [
              0.5555555555555556,
              "#d8576b"
             ],
             [
              0.6666666666666666,
              "#ed7953"
             ],
             [
              0.7777777777777778,
              "#fb9f3a"
             ],
             [
              0.8888888888888888,
              "#fdca26"
             ],
             [
              1,
              "#f0f921"
             ]
            ],
            "type": "contour"
           }
          ],
          "contourcarpet": [
           {
            "colorbar": {
             "outlinewidth": 0,
             "ticks": ""
            },
            "type": "contourcarpet"
           }
          ],
          "heatmap": [
           {
            "colorbar": {
             "outlinewidth": 0,
             "ticks": ""
            },
            "colorscale": [
             [
              0,
              "#0d0887"
             ],
             [
              0.1111111111111111,
              "#46039f"
             ],
             [
              0.2222222222222222,
              "#7201a8"
             ],
             [
              0.3333333333333333,
              "#9c179e"
             ],
             [
              0.4444444444444444,
              "#bd3786"
             ],
             [
              0.5555555555555556,
              "#d8576b"
             ],
             [
              0.6666666666666666,
              "#ed7953"
             ],
             [
              0.7777777777777778,
              "#fb9f3a"
             ],
             [
              0.8888888888888888,
              "#fdca26"
             ],
             [
              1,
              "#f0f921"
             ]
            ],
            "type": "heatmap"
           }
          ],
          "histogram": [
           {
            "marker": {
             "pattern": {
              "fillmode": "overlay",
              "size": 10,
              "solidity": 0.2
             }
            },
            "type": "histogram"
           }
          ],
          "histogram2d": [
           {
            "colorbar": {
             "outlinewidth": 0,
             "ticks": ""
            },
            "colorscale": [
             [
              0,
              "#0d0887"
             ],
             [
              0.1111111111111111,
              "#46039f"
             ],
             [
              0.2222222222222222,
              "#7201a8"
             ],
             [
              0.3333333333333333,
              "#9c179e"
             ],
             [
              0.4444444444444444,
              "#bd3786"
             ],
             [
              0.5555555555555556,
              "#d8576b"
             ],
             [
              0.6666666666666666,
              "#ed7953"
             ],
             [
              0.7777777777777778,
              "#fb9f3a"
             ],
             [
              0.8888888888888888,
              "#fdca26"
             ],
             [
              1,
              "#f0f921"
             ]
            ],
            "type": "histogram2d"
           }
          ],
          "histogram2dcontour": [
           {
            "colorbar": {
             "outlinewidth": 0,
             "ticks": ""
            },
            "colorscale": [
             [
              0,
              "#0d0887"
             ],
             [
              0.1111111111111111,
              "#46039f"
             ],
             [
              0.2222222222222222,
              "#7201a8"
             ],
             [
              0.3333333333333333,
              "#9c179e"
             ],
             [
              0.4444444444444444,
              "#bd3786"
             ],
             [
              0.5555555555555556,
              "#d8576b"
             ],
             [
              0.6666666666666666,
              "#ed7953"
             ],
             [
              0.7777777777777778,
              "#fb9f3a"
             ],
             [
              0.8888888888888888,
              "#fdca26"
             ],
             [
              1,
              "#f0f921"
             ]
            ],
            "type": "histogram2dcontour"
           }
          ],
          "mesh3d": [
           {
            "colorbar": {
             "outlinewidth": 0,
             "ticks": ""
            },
            "type": "mesh3d"
           }
          ],
          "parcoords": [
           {
            "line": {
             "colorbar": {
              "outlinewidth": 0,
              "ticks": ""
             }
            },
            "type": "parcoords"
           }
          ],
          "pie": [
           {
            "automargin": true,
            "type": "pie"
           }
          ],
          "scatter": [
           {
            "fillpattern": {
             "fillmode": "overlay",
             "size": 10,
             "solidity": 0.2
            },
            "type": "scatter"
           }
          ],
          "scatter3d": [
           {
            "line": {
             "colorbar": {
              "outlinewidth": 0,
              "ticks": ""
             }
            },
            "marker": {
             "colorbar": {
              "outlinewidth": 0,
              "ticks": ""
             }
            },
            "type": "scatter3d"
           }
          ],
          "scattercarpet": [
           {
            "marker": {
             "colorbar": {
              "outlinewidth": 0,
              "ticks": ""
             }
            },
            "type": "scattercarpet"
           }
          ],
          "scattergeo": [
           {
            "marker": {
             "colorbar": {
              "outlinewidth": 0,
              "ticks": ""
             }
            },
            "type": "scattergeo"
           }
          ],
          "scattergl": [
           {
            "marker": {
             "colorbar": {
              "outlinewidth": 0,
              "ticks": ""
             }
            },
            "type": "scattergl"
           }
          ],
          "scattermap": [
           {
            "marker": {
             "colorbar": {
              "outlinewidth": 0,
              "ticks": ""
             }
            },
            "type": "scattermap"
           }
          ],
          "scattermapbox": [
           {
            "marker": {
             "colorbar": {
              "outlinewidth": 0,
              "ticks": ""
             }
            },
            "type": "scattermapbox"
           }
          ],
          "scatterpolar": [
           {
            "marker": {
             "colorbar": {
              "outlinewidth": 0,
              "ticks": ""
             }
            },
            "type": "scatterpolar"
           }
          ],
          "scatterpolargl": [
           {
            "marker": {
             "colorbar": {
              "outlinewidth": 0,
              "ticks": ""
             }
            },
            "type": "scatterpolargl"
           }
          ],
          "scatterternary": [
           {
            "marker": {
             "colorbar": {
              "outlinewidth": 0,
              "ticks": ""
             }
            },
            "type": "scatterternary"
           }
          ],
          "surface": [
           {
            "colorbar": {
             "outlinewidth": 0,
             "ticks": ""
            },
            "colorscale": [
             [
              0,
              "#0d0887"
             ],
             [
              0.1111111111111111,
              "#46039f"
             ],
             [
              0.2222222222222222,
              "#7201a8"
             ],
             [
              0.3333333333333333,
              "#9c179e"
             ],
             [
              0.4444444444444444,
              "#bd3786"
             ],
             [
              0.5555555555555556,
              "#d8576b"
             ],
             [
              0.6666666666666666,
              "#ed7953"
             ],
             [
              0.7777777777777778,
              "#fb9f3a"
             ],
             [
              0.8888888888888888,
              "#fdca26"
             ],
             [
              1,
              "#f0f921"
             ]
            ],
            "type": "surface"
           }
          ],
          "table": [
           {
            "cells": {
             "fill": {
              "color": "#EBF0F8"
             },
             "line": {
              "color": "white"
             }
            },
            "header": {
             "fill": {
              "color": "#C8D4E3"
             },
             "line": {
              "color": "white"
             }
            },
            "type": "table"
           }
          ]
         },
         "layout": {
          "annotationdefaults": {
           "arrowcolor": "#2a3f5f",
           "arrowhead": 0,
           "arrowwidth": 1
          },
          "autotypenumbers": "strict",
          "coloraxis": {
           "colorbar": {
            "outlinewidth": 0,
            "ticks": ""
           }
          },
          "colorscale": {
           "diverging": [
            [
             0,
             "#8e0152"
            ],
            [
             0.1,
             "#c51b7d"
            ],
            [
             0.2,
             "#de77ae"
            ],
            [
             0.3,
             "#f1b6da"
            ],
            [
             0.4,
             "#fde0ef"
            ],
            [
             0.5,
             "#f7f7f7"
            ],
            [
             0.6,
             "#e6f5d0"
            ],
            [
             0.7,
             "#b8e186"
            ],
            [
             0.8,
             "#7fbc41"
            ],
            [
             0.9,
             "#4d9221"
            ],
            [
             1,
             "#276419"
            ]
           ],
           "sequential": [
            [
             0,
             "#0d0887"
            ],
            [
             0.1111111111111111,
             "#46039f"
            ],
            [
             0.2222222222222222,
             "#7201a8"
            ],
            [
             0.3333333333333333,
             "#9c179e"
            ],
            [
             0.4444444444444444,
             "#bd3786"
            ],
            [
             0.5555555555555556,
             "#d8576b"
            ],
            [
             0.6666666666666666,
             "#ed7953"
            ],
            [
             0.7777777777777778,
             "#fb9f3a"
            ],
            [
             0.8888888888888888,
             "#fdca26"
            ],
            [
             1,
             "#f0f921"
            ]
           ],
           "sequentialminus": [
            [
             0,
             "#0d0887"
            ],
            [
             0.1111111111111111,
             "#46039f"
            ],
            [
             0.2222222222222222,
             "#7201a8"
            ],
            [
             0.3333333333333333,
             "#9c179e"
            ],
            [
             0.4444444444444444,
             "#bd3786"
            ],
            [
             0.5555555555555556,
             "#d8576b"
            ],
            [
             0.6666666666666666,
             "#ed7953"
            ],
            [
             0.7777777777777778,
             "#fb9f3a"
            ],
            [
             0.8888888888888888,
             "#fdca26"
            ],
            [
             1,
             "#f0f921"
            ]
           ]
          },
          "colorway": [
           "#636efa",
           "#EF553B",
           "#00cc96",
           "#ab63fa",
           "#FFA15A",
           "#19d3f3",
           "#FF6692",
           "#B6E880",
           "#FF97FF",
           "#FECB52"
          ],
          "font": {
           "color": "#2a3f5f"
          },
          "geo": {
           "bgcolor": "white",
           "lakecolor": "white",
           "landcolor": "#E5ECF6",
           "showlakes": true,
           "showland": true,
           "subunitcolor": "white"
          },
          "hoverlabel": {
           "align": "left"
          },
          "hovermode": "closest",
          "mapbox": {
           "style": "light"
          },
          "paper_bgcolor": "white",
          "plot_bgcolor": "#E5ECF6",
          "polar": {
           "angularaxis": {
            "gridcolor": "white",
            "linecolor": "white",
            "ticks": ""
           },
           "bgcolor": "#E5ECF6",
           "radialaxis": {
            "gridcolor": "white",
            "linecolor": "white",
            "ticks": ""
           }
          },
          "scene": {
           "xaxis": {
            "backgroundcolor": "#E5ECF6",
            "gridcolor": "white",
            "gridwidth": 2,
            "linecolor": "white",
            "showbackground": true,
            "ticks": "",
            "zerolinecolor": "white"
           },
           "yaxis": {
            "backgroundcolor": "#E5ECF6",
            "gridcolor": "white",
            "gridwidth": 2,
            "linecolor": "white",
            "showbackground": true,
            "ticks": "",
            "zerolinecolor": "white"
           },
           "zaxis": {
            "backgroundcolor": "#E5ECF6",
            "gridcolor": "white",
            "gridwidth": 2,
            "linecolor": "white",
            "showbackground": true,
            "ticks": "",
            "zerolinecolor": "white"
           }
          },
          "shapedefaults": {
           "line": {
            "color": "#2a3f5f"
           }
          },
          "ternary": {
           "aaxis": {
            "gridcolor": "white",
            "linecolor": "white",
            "ticks": ""
           },
           "baxis": {
            "gridcolor": "white",
            "linecolor": "white",
            "ticks": ""
           },
           "bgcolor": "#E5ECF6",
           "caxis": {
            "gridcolor": "white",
            "linecolor": "white",
            "ticks": ""
           }
          },
          "title": {
           "x": 0.05
          },
          "xaxis": {
           "automargin": true,
           "gridcolor": "white",
           "linecolor": "white",
           "ticks": "",
           "title": {
            "standoff": 15
           },
           "zerolinecolor": "white",
           "zerolinewidth": 2
          },
          "yaxis": {
           "automargin": true,
           "gridcolor": "white",
           "linecolor": "white",
           "ticks": "",
           "title": {
            "standoff": 15
           },
           "zerolinecolor": "white",
           "zerolinewidth": 2
          }
         }
        },
        "xaxis": {
         "anchor": "y",
         "constrain": "domain",
         "domain": [
          0,
          1
         ],
         "scaleanchor": "y"
        },
        "yaxis": {
         "anchor": "x",
         "autorange": "reversed",
         "constrain": "domain",
         "domain": [
          0,
          1
         ]
        }
       }
      }
     },
     "metadata": {},
     "output_type": "display_data"
    }
   ],
   "source": [
    "px.imshow(patterns[0].detach().cpu(), color_continuous_midpoint=0, color_continuous_scale='RdBu')"
   ]
  },
  {
   "cell_type": "code",
   "execution_count": 32,
   "id": "05f99e31",
   "metadata": {},
   "outputs": [
    {
     "name": "stdout",
     "output_type": "stream",
     "text": [
      "tensor([-1.5468e+01, -4.7089e+01, -8.4184e-01, -1.2774e+00,  3.9521e+01,\n",
      "         4.2989e+01, -8.2040e+01,  4.9644e+01,  3.8868e+01, -3.0488e+00,\n",
      "         4.2796e-02, -2.9017e+01,  1.3020e+00, -8.9676e-01,  9.1920e-01,\n",
      "        -5.4216e+00], device='cuda:0', grad_fn=<SliceBackward0>)\n"
     ]
    }
   ],
   "source": [
    "query_acts = einops.einsum(toks, model.components.attention.A, \"batch seq d_model, d_model C -> batch seq C\")\n",
    "key_acts = einops.einsum(toks, model.components.attention.B, \"batch seq d_model, C d_model -> batch seq C\")\n",
    "component_acts = einops.einsum(query_acts, key_acts, \"batch seqQ C, batch seqK C -> batch seqQ seqK C\")\n",
    "print(component_acts[0, -1, 0, :])\n",
    "\n",
    "  \n",
    "masked_component_acts = component_acts\n",
    "        \n",
    "        # Sum over components to get final attention scores\n",
    "scores = masked_component_acts.sum(dim=-1)\n",
    "     \n",
    "\n",
    "scores = model.components.attention.causal_mask(scores)\n",
    "  \n",
    "recon_patt = scores.softmax(dim=-1)\n",
    "\n",
    "recon_z = einops.einsum(recon_patt, toks, \"batch seq1 seq2, batch seq2 d_model -> batch seq1 d_model\")"
   ]
  },
  {
   "cell_type": "code",
   "execution_count": 11,
   "id": "f497d741",
   "metadata": {},
   "outputs": [],
   "source": [
    "import einops"
   ]
  },
  {
   "cell_type": "code",
   "execution_count": 67,
   "id": "5882711c",
   "metadata": {},
   "outputs": [
    {
     "data": {
      "text/plain": [
       "tensor([-7.1350,  0.9719, -6.9586,  4.4579, -7.0308, 16.8835,  4.9442, -0.7443,\n",
       "         0.0268,  5.8192, -7.1231, -6.9750, -7.1507, -7.0017, -7.0966, -7.0753,\n",
       "        -6.9474, -7.0473, -6.9358, -6.8209], device='cuda:0',\n",
       "       grad_fn=<SelectBackward0>)"
      ]
     },
     "execution_count": 67,
     "metadata": {},
     "output_type": "execute_result"
    }
   ],
   "source": [
    "attn_out = einops.einsum(recon_z, base_model.attention.OV, \"batch seq d_model, d_model d_model -> batch seq d_model\") + toks\n",
    "unembed = model.model.unembed(attn_out)\n",
    "unembed[0, -1]"
   ]
  },
  {
   "cell_type": "code",
   "execution_count": 69,
   "id": "048df62b",
   "metadata": {},
   "outputs": [
    {
     "data": {
      "text/plain": [
       "tensor([-7.0484,  2.6364, -6.9360,  3.3455, -7.0532,  8.0820, 11.3513, -1.7737,\n",
       "         0.4933,  5.7049, -7.0002, -6.9403, -7.0398, -6.9713, -6.9375, -6.9688,\n",
       "        -6.8738, -6.9789, -6.9028, -6.9399], device='cuda:0',\n",
       "       grad_fn=<SelectBackward0>)"
      ]
     },
     "execution_count": 69,
     "metadata": {},
     "output_type": "execute_result"
    }
   ],
   "source": [
    "model.forward_with_components(test.cuda(), components = components)[0, -1]"
   ]
  },
  {
   "cell_type": "code",
   "execution_count": 33,
   "id": "ba4da464",
   "metadata": {},
   "outputs": [
    {
     "data": {
      "application/vnd.plotly.v1+json": {
       "config": {
        "plotlyServerURL": "https://plot.ly"
       },
       "data": [
        {
         "coloraxis": "coloraxis",
         "hovertemplate": "x: %{x}<br>y: %{y}<br>color: %{z}<extra></extra>",
         "name": "0",
         "type": "heatmap",
         "xaxis": "x",
         "yaxis": "y",
         "z": {
          "bdata": "AACAPwAAAAAAAAAAAAAAAAAAAAAAAAAAAAAAAAAAAAAvmfQ+abMFPwAAAAAAAAAAAAAAAAAAAAAAAAAAAAAAAB2uoD7xqK8+8aivPgAAAAAAAAAAAAAAAAAAAAAAAAAATByaPhGesj4RnrI+RpSnOgAAAAAAAAAAAAAAAAAAAADUKMo5nAHdOZwB3Tnak38/nAHdOQAAAAAAAAAAAAAAAPml1DkMTek5DE3pOVlzfz8MTek5+aXUOQAAAAAAAAAA7PCwOT81wjk/NcI5Y3V/Pz81wjns8LA5j2usOQAAAACp0r07rw3KO68NyjskBEo/rw3KO6nSvTubW7s7JEYzPg==",
          "dtype": "f4",
          "shape": "8, 8"
         }
        }
       ],
       "layout": {
        "coloraxis": {
         "cmid": 0,
         "colorscale": [
          [
           0,
           "rgb(103,0,31)"
          ],
          [
           0.1,
           "rgb(178,24,43)"
          ],
          [
           0.2,
           "rgb(214,96,77)"
          ],
          [
           0.3,
           "rgb(244,165,130)"
          ],
          [
           0.4,
           "rgb(253,219,199)"
          ],
          [
           0.5,
           "rgb(247,247,247)"
          ],
          [
           0.6,
           "rgb(209,229,240)"
          ],
          [
           0.7,
           "rgb(146,197,222)"
          ],
          [
           0.8,
           "rgb(67,147,195)"
          ],
          [
           0.9,
           "rgb(33,102,172)"
          ],
          [
           1,
           "rgb(5,48,97)"
          ]
         ]
        },
        "margin": {
         "t": 60
        },
        "template": {
         "data": {
          "bar": [
           {
            "error_x": {
             "color": "#2a3f5f"
            },
            "error_y": {
             "color": "#2a3f5f"
            },
            "marker": {
             "line": {
              "color": "#E5ECF6",
              "width": 0.5
             },
             "pattern": {
              "fillmode": "overlay",
              "size": 10,
              "solidity": 0.2
             }
            },
            "type": "bar"
           }
          ],
          "barpolar": [
           {
            "marker": {
             "line": {
              "color": "#E5ECF6",
              "width": 0.5
             },
             "pattern": {
              "fillmode": "overlay",
              "size": 10,
              "solidity": 0.2
             }
            },
            "type": "barpolar"
           }
          ],
          "carpet": [
           {
            "aaxis": {
             "endlinecolor": "#2a3f5f",
             "gridcolor": "white",
             "linecolor": "white",
             "minorgridcolor": "white",
             "startlinecolor": "#2a3f5f"
            },
            "baxis": {
             "endlinecolor": "#2a3f5f",
             "gridcolor": "white",
             "linecolor": "white",
             "minorgridcolor": "white",
             "startlinecolor": "#2a3f5f"
            },
            "type": "carpet"
           }
          ],
          "choropleth": [
           {
            "colorbar": {
             "outlinewidth": 0,
             "ticks": ""
            },
            "type": "choropleth"
           }
          ],
          "contour": [
           {
            "colorbar": {
             "outlinewidth": 0,
             "ticks": ""
            },
            "colorscale": [
             [
              0,
              "#0d0887"
             ],
             [
              0.1111111111111111,
              "#46039f"
             ],
             [
              0.2222222222222222,
              "#7201a8"
             ],
             [
              0.3333333333333333,
              "#9c179e"
             ],
             [
              0.4444444444444444,
              "#bd3786"
             ],
             [
              0.5555555555555556,
              "#d8576b"
             ],
             [
              0.6666666666666666,
              "#ed7953"
             ],
             [
              0.7777777777777778,
              "#fb9f3a"
             ],
             [
              0.8888888888888888,
              "#fdca26"
             ],
             [
              1,
              "#f0f921"
             ]
            ],
            "type": "contour"
           }
          ],
          "contourcarpet": [
           {
            "colorbar": {
             "outlinewidth": 0,
             "ticks": ""
            },
            "type": "contourcarpet"
           }
          ],
          "heatmap": [
           {
            "colorbar": {
             "outlinewidth": 0,
             "ticks": ""
            },
            "colorscale": [
             [
              0,
              "#0d0887"
             ],
             [
              0.1111111111111111,
              "#46039f"
             ],
             [
              0.2222222222222222,
              "#7201a8"
             ],
             [
              0.3333333333333333,
              "#9c179e"
             ],
             [
              0.4444444444444444,
              "#bd3786"
             ],
             [
              0.5555555555555556,
              "#d8576b"
             ],
             [
              0.6666666666666666,
              "#ed7953"
             ],
             [
              0.7777777777777778,
              "#fb9f3a"
             ],
             [
              0.8888888888888888,
              "#fdca26"
             ],
             [
              1,
              "#f0f921"
             ]
            ],
            "type": "heatmap"
           }
          ],
          "histogram": [
           {
            "marker": {
             "pattern": {
              "fillmode": "overlay",
              "size": 10,
              "solidity": 0.2
             }
            },
            "type": "histogram"
           }
          ],
          "histogram2d": [
           {
            "colorbar": {
             "outlinewidth": 0,
             "ticks": ""
            },
            "colorscale": [
             [
              0,
              "#0d0887"
             ],
             [
              0.1111111111111111,
              "#46039f"
             ],
             [
              0.2222222222222222,
              "#7201a8"
             ],
             [
              0.3333333333333333,
              "#9c179e"
             ],
             [
              0.4444444444444444,
              "#bd3786"
             ],
             [
              0.5555555555555556,
              "#d8576b"
             ],
             [
              0.6666666666666666,
              "#ed7953"
             ],
             [
              0.7777777777777778,
              "#fb9f3a"
             ],
             [
              0.8888888888888888,
              "#fdca26"
             ],
             [
              1,
              "#f0f921"
             ]
            ],
            "type": "histogram2d"
           }
          ],
          "histogram2dcontour": [
           {
            "colorbar": {
             "outlinewidth": 0,
             "ticks": ""
            },
            "colorscale": [
             [
              0,
              "#0d0887"
             ],
             [
              0.1111111111111111,
              "#46039f"
             ],
             [
              0.2222222222222222,
              "#7201a8"
             ],
             [
              0.3333333333333333,
              "#9c179e"
             ],
             [
              0.4444444444444444,
              "#bd3786"
             ],
             [
              0.5555555555555556,
              "#d8576b"
             ],
             [
              0.6666666666666666,
              "#ed7953"
             ],
             [
              0.7777777777777778,
              "#fb9f3a"
             ],
             [
              0.8888888888888888,
              "#fdca26"
             ],
             [
              1,
              "#f0f921"
             ]
            ],
            "type": "histogram2dcontour"
           }
          ],
          "mesh3d": [
           {
            "colorbar": {
             "outlinewidth": 0,
             "ticks": ""
            },
            "type": "mesh3d"
           }
          ],
          "parcoords": [
           {
            "line": {
             "colorbar": {
              "outlinewidth": 0,
              "ticks": ""
             }
            },
            "type": "parcoords"
           }
          ],
          "pie": [
           {
            "automargin": true,
            "type": "pie"
           }
          ],
          "scatter": [
           {
            "fillpattern": {
             "fillmode": "overlay",
             "size": 10,
             "solidity": 0.2
            },
            "type": "scatter"
           }
          ],
          "scatter3d": [
           {
            "line": {
             "colorbar": {
              "outlinewidth": 0,
              "ticks": ""
             }
            },
            "marker": {
             "colorbar": {
              "outlinewidth": 0,
              "ticks": ""
             }
            },
            "type": "scatter3d"
           }
          ],
          "scattercarpet": [
           {
            "marker": {
             "colorbar": {
              "outlinewidth": 0,
              "ticks": ""
             }
            },
            "type": "scattercarpet"
           }
          ],
          "scattergeo": [
           {
            "marker": {
             "colorbar": {
              "outlinewidth": 0,
              "ticks": ""
             }
            },
            "type": "scattergeo"
           }
          ],
          "scattergl": [
           {
            "marker": {
             "colorbar": {
              "outlinewidth": 0,
              "ticks": ""
             }
            },
            "type": "scattergl"
           }
          ],
          "scattermap": [
           {
            "marker": {
             "colorbar": {
              "outlinewidth": 0,
              "ticks": ""
             }
            },
            "type": "scattermap"
           }
          ],
          "scattermapbox": [
           {
            "marker": {
             "colorbar": {
              "outlinewidth": 0,
              "ticks": ""
             }
            },
            "type": "scattermapbox"
           }
          ],
          "scatterpolar": [
           {
            "marker": {
             "colorbar": {
              "outlinewidth": 0,
              "ticks": ""
             }
            },
            "type": "scatterpolar"
           }
          ],
          "scatterpolargl": [
           {
            "marker": {
             "colorbar": {
              "outlinewidth": 0,
              "ticks": ""
             }
            },
            "type": "scatterpolargl"
           }
          ],
          "scatterternary": [
           {
            "marker": {
             "colorbar": {
              "outlinewidth": 0,
              "ticks": ""
             }
            },
            "type": "scatterternary"
           }
          ],
          "surface": [
           {
            "colorbar": {
             "outlinewidth": 0,
             "ticks": ""
            },
            "colorscale": [
             [
              0,
              "#0d0887"
             ],
             [
              0.1111111111111111,
              "#46039f"
             ],
             [
              0.2222222222222222,
              "#7201a8"
             ],
             [
              0.3333333333333333,
              "#9c179e"
             ],
             [
              0.4444444444444444,
              "#bd3786"
             ],
             [
              0.5555555555555556,
              "#d8576b"
             ],
             [
              0.6666666666666666,
              "#ed7953"
             ],
             [
              0.7777777777777778,
              "#fb9f3a"
             ],
             [
              0.8888888888888888,
              "#fdca26"
             ],
             [
              1,
              "#f0f921"
             ]
            ],
            "type": "surface"
           }
          ],
          "table": [
           {
            "cells": {
             "fill": {
              "color": "#EBF0F8"
             },
             "line": {
              "color": "white"
             }
            },
            "header": {
             "fill": {
              "color": "#C8D4E3"
             },
             "line": {
              "color": "white"
             }
            },
            "type": "table"
           }
          ]
         },
         "layout": {
          "annotationdefaults": {
           "arrowcolor": "#2a3f5f",
           "arrowhead": 0,
           "arrowwidth": 1
          },
          "autotypenumbers": "strict",
          "coloraxis": {
           "colorbar": {
            "outlinewidth": 0,
            "ticks": ""
           }
          },
          "colorscale": {
           "diverging": [
            [
             0,
             "#8e0152"
            ],
            [
             0.1,
             "#c51b7d"
            ],
            [
             0.2,
             "#de77ae"
            ],
            [
             0.3,
             "#f1b6da"
            ],
            [
             0.4,
             "#fde0ef"
            ],
            [
             0.5,
             "#f7f7f7"
            ],
            [
             0.6,
             "#e6f5d0"
            ],
            [
             0.7,
             "#b8e186"
            ],
            [
             0.8,
             "#7fbc41"
            ],
            [
             0.9,
             "#4d9221"
            ],
            [
             1,
             "#276419"
            ]
           ],
           "sequential": [
            [
             0,
             "#0d0887"
            ],
            [
             0.1111111111111111,
             "#46039f"
            ],
            [
             0.2222222222222222,
             "#7201a8"
            ],
            [
             0.3333333333333333,
             "#9c179e"
            ],
            [
             0.4444444444444444,
             "#bd3786"
            ],
            [
             0.5555555555555556,
             "#d8576b"
            ],
            [
             0.6666666666666666,
             "#ed7953"
            ],
            [
             0.7777777777777778,
             "#fb9f3a"
            ],
            [
             0.8888888888888888,
             "#fdca26"
            ],
            [
             1,
             "#f0f921"
            ]
           ],
           "sequentialminus": [
            [
             0,
             "#0d0887"
            ],
            [
             0.1111111111111111,
             "#46039f"
            ],
            [
             0.2222222222222222,
             "#7201a8"
            ],
            [
             0.3333333333333333,
             "#9c179e"
            ],
            [
             0.4444444444444444,
             "#bd3786"
            ],
            [
             0.5555555555555556,
             "#d8576b"
            ],
            [
             0.6666666666666666,
             "#ed7953"
            ],
            [
             0.7777777777777778,
             "#fb9f3a"
            ],
            [
             0.8888888888888888,
             "#fdca26"
            ],
            [
             1,
             "#f0f921"
            ]
           ]
          },
          "colorway": [
           "#636efa",
           "#EF553B",
           "#00cc96",
           "#ab63fa",
           "#FFA15A",
           "#19d3f3",
           "#FF6692",
           "#B6E880",
           "#FF97FF",
           "#FECB52"
          ],
          "font": {
           "color": "#2a3f5f"
          },
          "geo": {
           "bgcolor": "white",
           "lakecolor": "white",
           "landcolor": "#E5ECF6",
           "showlakes": true,
           "showland": true,
           "subunitcolor": "white"
          },
          "hoverlabel": {
           "align": "left"
          },
          "hovermode": "closest",
          "mapbox": {
           "style": "light"
          },
          "paper_bgcolor": "white",
          "plot_bgcolor": "#E5ECF6",
          "polar": {
           "angularaxis": {
            "gridcolor": "white",
            "linecolor": "white",
            "ticks": ""
           },
           "bgcolor": "#E5ECF6",
           "radialaxis": {
            "gridcolor": "white",
            "linecolor": "white",
            "ticks": ""
           }
          },
          "scene": {
           "xaxis": {
            "backgroundcolor": "#E5ECF6",
            "gridcolor": "white",
            "gridwidth": 2,
            "linecolor": "white",
            "showbackground": true,
            "ticks": "",
            "zerolinecolor": "white"
           },
           "yaxis": {
            "backgroundcolor": "#E5ECF6",
            "gridcolor": "white",
            "gridwidth": 2,
            "linecolor": "white",
            "showbackground": true,
            "ticks": "",
            "zerolinecolor": "white"
           },
           "zaxis": {
            "backgroundcolor": "#E5ECF6",
            "gridcolor": "white",
            "gridwidth": 2,
            "linecolor": "white",
            "showbackground": true,
            "ticks": "",
            "zerolinecolor": "white"
           }
          },
          "shapedefaults": {
           "line": {
            "color": "#2a3f5f"
           }
          },
          "ternary": {
           "aaxis": {
            "gridcolor": "white",
            "linecolor": "white",
            "ticks": ""
           },
           "baxis": {
            "gridcolor": "white",
            "linecolor": "white",
            "ticks": ""
           },
           "bgcolor": "#E5ECF6",
           "caxis": {
            "gridcolor": "white",
            "linecolor": "white",
            "ticks": ""
           }
          },
          "title": {
           "x": 0.05
          },
          "xaxis": {
           "automargin": true,
           "gridcolor": "white",
           "linecolor": "white",
           "ticks": "",
           "title": {
            "standoff": 15
           },
           "zerolinecolor": "white",
           "zerolinewidth": 2
          },
          "yaxis": {
           "automargin": true,
           "gridcolor": "white",
           "linecolor": "white",
           "ticks": "",
           "title": {
            "standoff": 15
           },
           "zerolinecolor": "white",
           "zerolinewidth": 2
          }
         }
        },
        "xaxis": {
         "anchor": "y",
         "constrain": "domain",
         "domain": [
          0,
          1
         ],
         "scaleanchor": "y"
        },
        "yaxis": {
         "anchor": "x",
         "autorange": "reversed",
         "constrain": "domain",
         "domain": [
          0,
          1
         ]
        }
       }
      }
     },
     "metadata": {},
     "output_type": "display_data"
    }
   ],
   "source": [
    "px.imshow(recon_patt[0].detach().cpu(), color_continuous_midpoint=0, color_continuous_scale='RdBu')"
   ]
  },
  {
   "cell_type": "code",
   "execution_count": 13,
   "id": "370bda9a",
   "metadata": {},
   "outputs": [
    {
     "name": "stdout",
     "output_type": "stream",
     "text": [
      "=== STEP BY STEP COMPARISON ===\n",
      "Token embeddings identical: True\n",
      "Attention outputs identical: True\n",
      "Final logits identical: True\n",
      "Component logits identical: False\n",
      "Unembed weights identical: True\n"
     ]
    }
   ],
   "source": [
    "# Compare intermediate outputs step by step\n",
    "test_input = torch.tensor([[ 1,  5,  5,  17 , 5, 1,  4,  0]]).cuda()\n",
    "\n",
    "print(\"=== STEP BY STEP COMPARISON ===\")\n",
    "\n",
    "# Step 1: Token embeddings\n",
    "base_embeds = base_model.token_embedding(test_input)\n",
    "spd_embeds = model.model.token_embedding(test_input)\n",
    "print(f\"Token embeddings identical: {torch.allclose(base_embeds, spd_embeds, atol=1e-9)}\")\n",
    "\n",
    "# Step 2: Attention patterns (you already verified these are identical)\n",
    "# Step 3: Attention output \n",
    "base_attn_out = base_model.attention(base_embeds)\n",
    "spd_attn_out = model.model.attention(spd_embeds)\n",
    "print(f\"Attention outputs identical: {torch.allclose(base_attn_out, spd_attn_out, atol=1e-9)}\")\n",
    "\n",
    "# Step 4: Final logits\n",
    "base_logits = base_model.unembed(base_attn_out)\n",
    "spd_logits = model.model.unembed(spd_attn_out)\n",
    "component_logits = model.forward_with_components(test_input.cuda(), components=model.components)[0, -1]\n",
    "print(f\"Final logits identical: {torch.allclose(base_logits, spd_logits, atol=1e-9)}\")\n",
    "print(f\"Component logits identical: {torch.allclose(component_logits, spd_logits, atol=1e-9)}\")\n",
    "# Check if unembed weights are the same\n",
    "print(f\"Unembed weights identical: {torch.allclose(base_model.unembed.weight, model.model.unembed.weight, atol=1e-6)}\")"
   ]
  },
  {
   "cell_type": "code",
   "execution_count": 31,
   "id": "6398bff6",
   "metadata": {},
   "outputs": [
    {
     "data": {
      "text/plain": [
       "tensor([-7.2862, -0.2895, -7.4335, -2.4450, -7.6027,  5.8455,  5.5398,  4.9212,\n",
       "         4.0170, 16.0107, -7.5173, -7.5031, -7.6434, -7.5300, -7.6050, -7.5784,\n",
       "        -7.2901, -7.5892, -7.6428, -7.4486], device='cuda:0',\n",
       "       grad_fn=<SelectBackward0>)"
      ]
     },
     "execution_count": 31,
     "metadata": {},
     "output_type": "execute_result"
    }
   ],
   "source": [
    "base_logits[0, -1]"
   ]
  },
  {
   "cell_type": "code",
   "execution_count": 32,
   "id": "ba609930",
   "metadata": {},
   "outputs": [
    {
     "data": {
      "text/plain": [
       "tensor([-7.2862, -0.2895, -7.4335, -2.4450, -7.6027,  5.8455,  5.5398,  4.9212,\n",
       "         4.0170, 16.0107, -7.5173, -7.5031, -7.6434, -7.5300, -7.6050, -7.5784,\n",
       "        -7.2901, -7.5892, -7.6428, -7.4486], device='cuda:0',\n",
       "       grad_fn=<SelectBackward0>)"
      ]
     },
     "execution_count": 32,
     "metadata": {},
     "output_type": "execute_result"
    }
   ],
   "source": [
    "spd_logits[0, -1]"
   ]
  },
  {
   "cell_type": "code",
   "execution_count": 42,
   "id": "912585b2",
   "metadata": {},
   "outputs": [
    {
     "data": {
      "text/plain": [
       "tensor(nan, device='cuda:0', grad_fn=<MeanBackward0>)"
      ]
     },
     "execution_count": 42,
     "metadata": {},
     "output_type": "execute_result"
    }
   ],
   "source": [
    "from spd.utils import calc_kl_divergence_lm\n",
    "calc_kl_divergence_lm(base_logits, spd_logits)"
   ]
  },
  {
   "cell_type": "code",
   "execution_count": null,
   "id": "db69ebb6",
   "metadata": {},
   "outputs": [],
   "source": []
  },
  {
   "cell_type": "code",
   "execution_count": 45,
   "id": "be6b9ef2",
   "metadata": {},
   "outputs": [],
   "source": [
    "log_q = torch.log_softmax(spd_logits, dim=-1)\n",
    "p = torch.softmax(base_logits, dim=-1)"
   ]
  },
  {
   "cell_type": "code",
   "execution_count": 53,
   "id": "05375d4d",
   "metadata": {},
   "outputs": [
    {
     "data": {
      "text/plain": [
       "tensor(14.7413, device='cuda:0', grad_fn=<MeanBackward0>)"
      ]
     },
     "execution_count": 53,
     "metadata": {},
     "output_type": "execute_result"
    }
   ],
   "source": [
    "calc_kl_divergence_lm(log_q[0, -1], p[0, -1], pre_softmax=False)"
   ]
  },
  {
   "cell_type": "code",
   "execution_count": 56,
   "id": "46937f59",
   "metadata": {},
   "outputs": [],
   "source": [
    "import torch.nn.functional as F\n",
    "attn = True\n",
    "pred = base_logits\n",
    "target = spd_logits\n",
    "if attn:\n",
    "        pred = pred.view(-1, pred.size(-1))\n",
    "        target = target.view(-1, target.size(-1))\n",
    "    \n",
    "log_q = torch.log_softmax(pred, dim=-1)  # log Q\n",
    "p = torch.softmax(target, dim=-1)  # P\n",
    "kl = F.kl_div(log_q, p, reduction=\"none\")  # P · (log P − log Q)"
   ]
  },
  {
   "cell_type": "code",
   "execution_count": null,
   "id": "78c78db4",
   "metadata": {},
   "outputs": [
    {
     "data": {
      "text/plain": [
       "torch.Size([20, 16])"
      ]
     },
     "execution_count": 30,
     "metadata": {},
     "output_type": "execute_result"
    }
   ],
   "source": []
  },
  {
   "cell_type": "code",
   "execution_count": null,
   "id": "f806fd2e",
   "metadata": {},
   "outputs": [
    {
     "name": "stdout",
     "output_type": "stream",
     "text": [
      "Comparison of final logits:\n",
      "Base model:        tensor([-1.1999, 12.4515, -1.2318,  1.7649, -1.2817,  0.4664,  1.9224,  2.4540,\n",
      "        -5.4099, -1.6787, -1.3501, -1.1428, -1.1227, -1.1139, -1.1096, -1.1913,\n",
      "        -1.1318, -1.3384, -1.2797, -1.2876], device='cuda:0',\n",
      "       grad_fn=<SelectBackward0>)\n",
      "SPD regular:       tensor([-1.1999, 12.4515, -1.2318,  1.7649, -1.2817,  0.4664,  1.9224,  2.4540,\n",
      "        -5.4099, -1.6787, -1.3501, -1.1428, -1.1227, -1.1139, -1.1096, -1.1913,\n",
      "        -1.1318, -1.3384, -1.2797, -1.2876], device='cuda:0',\n",
      "       grad_fn=<SelectBackward0>)\n",
      "SPD components:    tensor([-5.1217,  6.3578, -5.0756,  2.4950, -5.1846,  2.9255, 10.2382, -0.7096,\n",
      "        -1.2910,  3.2660, -5.1271, -5.0458, -5.0832, -5.0587, -4.9952, -5.0590,\n",
      "        -4.9853, -5.1255, -5.0658, -5.1396], device='cuda:0',\n",
      "       grad_fn=<SelectBackward0>)\n",
      "\n",
      "Are base and SPD regular identical? True\n",
      "Are SPD regular and components identical? False\n"
     ]
    }
   ],
   "source": [
    "test = torch.tensor([[ 1,  5,  5,  10 , 5, 1,  4,  0]]).cuda()\n",
    "\n",
    "# 1. Base model forward\n",
    "base_out = base_model.forward(test)\n",
    "\n",
    "# 2. SPD model regular forward (should be identical to base)\n",
    "spd_out = model(test)  # Uses original weights\n",
    "\n",
    "# 3. SPD model with components (uses A @ B decomposition)\n",
    "components = {k.removeprefix(\"components.\").replace(\"-\", \".\"): v.cuda() for k, v in model.components.items()}\n",
    "component_out = model.forward_with_components(test, components=components)\n",
    "\n",
    "print(\"Comparison of final logits:\")\n",
    "print(f\"Base model:        {base_out[0, -1]}\")\n",
    "print(f\"SPD regular:       {spd_out[0, -1]}\")  \n",
    "print(f\"SPD components:    {component_out[0, -1]}\")\n",
    "\n",
    "print(f\"\\nAre base and SPD regular identical? {torch.allclose(base_out, spd_out, atol=1e-6)}\")\n",
    "print(f\"Are SPD regular and components identical? {torch.allclose(spd_out, component_out, atol=1e-6)}\")"
   ]
  },
  {
   "cell_type": "code",
   "execution_count": null,
   "id": "1d3a902c",
   "metadata": {},
   "outputs": [
    {
     "name": "stdout",
     "output_type": "stream",
     "text": [
      "torch.Size([1, 8]) torch.Size([16, 16])\n",
      "tensor([[[1.0000e+00, 0.0000e+00, 0.0000e+00, 0.0000e+00, 0.0000e+00,\n",
      "          0.0000e+00, 0.0000e+00, 0.0000e+00],\n",
      "         [4.8180e-01, 5.1820e-01, 0.0000e+00, 0.0000e+00, 0.0000e+00,\n",
      "          0.0000e+00, 0.0000e+00, 0.0000e+00],\n",
      "         [3.1735e-01, 3.4132e-01, 3.4132e-01, 0.0000e+00, 0.0000e+00,\n",
      "          0.0000e+00, 0.0000e+00, 0.0000e+00],\n",
      "         [3.6259e-01, 3.1870e-01, 3.1870e-01, 1.1589e-10, 0.0000e+00,\n",
      "          0.0000e+00, 0.0000e+00, 0.0000e+00],\n",
      "         [1.3405e-11, 1.4418e-11, 1.4418e-11, 1.0000e+00, 1.4418e-11,\n",
      "          0.0000e+00, 0.0000e+00, 0.0000e+00],\n",
      "         [1.0910e-11, 1.1783e-11, 1.1783e-11, 1.0000e+00, 1.1783e-11,\n",
      "          1.0910e-11, 0.0000e+00, 0.0000e+00],\n",
      "         [1.1048e-11, 1.1931e-11, 1.1931e-11, 1.0000e+00, 1.1931e-11,\n",
      "          1.1048e-11, 1.0666e-11, 0.0000e+00],\n",
      "         [7.5299e-09, 8.0462e-09, 8.0462e-09, 1.0000e+00, 8.0462e-09,\n",
      "          7.5299e-09, 7.4094e-09, 1.6845e-07]]], device='cuda:0',\n",
      "       grad_fn=<SoftmaxBackward0>)\n",
      "tensor([-3.2958, -2.3729, -0.7737,  2.4028,  0.3793, -0.2801, -2.0956,  1.0342,\n",
      "        -1.2233, -1.2937,  2.3865,  0.2426,  0.3037, -0.1614, -2.0324, -0.5992],\n",
      "       device='cuda:0', grad_fn=<SelectBackward0>)\n"
     ]
    }
   ],
   "source": [
    "#Compare component recon with component model\n",
    "embed = model.model.token_embedding(test)\n",
    "print(test.shape, model.components.attention.weight.shape)\n",
    "scores = einops.einsum(embed, model.components.attention.weight, embed, \n",
    "                                \"batch seq1 d_model, d_model d_model, batch seq2 d_model -> batch seq1 seq2\")\n",
    "            \n",
    "seq_len = embed.shape[1]\n",
    "causal_mask = torch.triu(torch.ones(seq_len, seq_len, device='cuda'), diagonal=1).bool()\n",
    "scores = scores.masked_fill(causal_mask, float('-inf'))\n",
    "            \n",
    "patterns = scores.softmax(dim=-1)\n",
    "print(patterns)\n",
    "z = einops.einsum(patterns, embed, \"batch seq1 seq2, batch seq2 d_model -> batch seq1 d_model\")\n",
    "gt_out = einops.einsum(z, model.components.attention.ov, \"batch seq d_model, d_model d_model -> batch seq d_model\")\n",
    "print(gt_out[0, -1])"
   ]
  },
  {
   "cell_type": "code",
   "execution_count": null,
   "id": "266ba897",
   "metadata": {},
   "outputs": [
    {
     "data": {
      "text/plain": [
       "torch.Size([16, 16])"
      ]
     },
     "execution_count": 61,
     "metadata": {},
     "output_type": "execute_result"
    }
   ],
   "source": []
  },
  {
   "cell_type": "code",
   "execution_count": 59,
   "id": "52cac59d",
   "metadata": {},
   "outputs": [
    {
     "data": {
      "text/plain": [
       "tensor([[True, True, True, True, True, True, True, True, True, True, True, True,\n",
       "         True, True, True, True],\n",
       "        [True, True, True, True, True, True, True, True, True, True, True, True,\n",
       "         True, True, True, True],\n",
       "        [True, True, True, True, True, True, True, True, True, True, True, True,\n",
       "         True, True, True, True],\n",
       "        [True, True, True, True, True, True, True, True, True, True, True, True,\n",
       "         True, True, True, True],\n",
       "        [True, True, True, True, True, True, True, True, True, True, True, True,\n",
       "         True, True, True, True],\n",
       "        [True, True, True, True, True, True, True, True, True, True, True, True,\n",
       "         True, True, True, True],\n",
       "        [True, True, True, True, True, True, True, True, True, True, True, True,\n",
       "         True, True, True, True],\n",
       "        [True, True, True, True, True, True, True, True, True, True, True, True,\n",
       "         True, True, True, True],\n",
       "        [True, True, True, True, True, True, True, True, True, True, True, True,\n",
       "         True, True, True, True],\n",
       "        [True, True, True, True, True, True, True, True, True, True, True, True,\n",
       "         True, True, True, True],\n",
       "        [True, True, True, True, True, True, True, True, True, True, True, True,\n",
       "         True, True, True, True],\n",
       "        [True, True, True, True, True, True, True, True, True, True, True, True,\n",
       "         True, True, True, True],\n",
       "        [True, True, True, True, True, True, True, True, True, True, True, True,\n",
       "         True, True, True, True],\n",
       "        [True, True, True, True, True, True, True, True, True, True, True, True,\n",
       "         True, True, True, True],\n",
       "        [True, True, True, True, True, True, True, True, True, True, True, True,\n",
       "         True, True, True, True],\n",
       "        [True, True, True, True, True, True, True, True, True, True, True, True,\n",
       "         True, True, True, True]], device='cuda:0')"
      ]
     },
     "execution_count": 59,
     "metadata": {},
     "output_type": "execute_result"
    }
   ],
   "source": [
    "model.components.attention.weight == recon_qk"
   ]
  },
  {
   "cell_type": "code",
   "execution_count": 16,
   "id": "6e677a28",
   "metadata": {},
   "outputs": [
    {
     "name": "stdout",
     "output_type": "stream",
     "text": [
      "tensor([-3.2958, -2.3729, -0.7737,  2.4028,  0.3793, -0.2801, -2.0956,  1.0342,\n",
      "        -1.2233, -1.2937,  2.3865,  0.2426,  0.3037, -0.1614, -2.0324, -0.5992],\n",
      "       device='cuda:0', grad_fn=<SelectBackward0>)\n"
     ]
    }
   ],
   "source": [
    "query_acts = einops.einsum(embed, model.components.attention.A, \"batch seq d_model, d_model C -> batch seq C\")\n",
    "key_acts = einops.einsum(embed, model.components.attention.B, \"batch seq d_model, C d_model -> batch seq C\")\n",
    "component_acts = einops.einsum(query_acts, key_acts, \"batch seqQ C, batch seqK C -> batch seqQ seqK C\")\n",
    "  \n",
    " \n",
    "        # Sum over components to get final attention scores\n",
    "scores = component_acts.sum(dim=-1)  # [batch, seqQ, seqK]\n",
    "        \n",
    "\n",
    "scores = model.components.attention.causal_mask(scores)\n",
    "        \n",
    "\n",
    "patt = scores.softmax(dim=-1)\n",
    "z = einops.einsum(patt, embed, \"batch seq1 seq2, batch seq2 d_model -> batch seq1 d_model\")\n",
    "out = einops.einsum(z, model.components.attention.ov, \"batch seq d_model, d_model d_model -> batch seq d_model\")\n",
    "print(out[0, -1])"
   ]
  },
  {
   "cell_type": "code",
   "execution_count": 22,
   "id": "72725cf8",
   "metadata": {},
   "outputs": [
    {
     "name": "stdout",
     "output_type": "stream",
     "text": [
      "False\n"
     ]
    }
   ],
   "source": [
    "recon_qk = einops.einsum(model.components.attention.A, model.components.attention.B, \"d_modelQ C, C d_model -> d_modelQ d_model\")\n",
    "qk = base_model.attention.weight\n",
    "print(torch.allclose(recon_qk, qk, atol=1e-6))"
   ]
  },
  {
   "cell_type": "code",
   "execution_count": 33,
   "id": "7f2f2ebb",
   "metadata": {},
   "outputs": [
    {
     "data": {
      "text/plain": [
       "tensor(0.0010, device='cuda:0', grad_fn=<MeanBackward0>)"
      ]
     },
     "execution_count": 33,
     "metadata": {},
     "output_type": "execute_result"
    }
   ],
   "source": [
    "((recon_qk - qk)**2).mean()"
   ]
  },
  {
   "cell_type": "code",
   "execution_count": 31,
   "id": "563813c9",
   "metadata": {},
   "outputs": [
    {
     "data": {
      "text/plain": [
       "tensor(0.0010, device='cuda:0', grad_fn=<DivBackward0>)"
      ]
     },
     "execution_count": 31,
     "metadata": {},
     "output_type": "execute_result"
    }
   ],
   "source": [
    "from spd.losses import calc_faithfulness_loss\n",
    "calc_faithfulness_loss(components, base_model, 16**2, device='cuda')"
   ]
  }
 ],
 "metadata": {
  "kernelspec": {
   "display_name": "myvenv",
   "language": "python",
   "name": "python3"
  },
  "language_info": {
   "codemirror_mode": {
    "name": "ipython",
    "version": 3
   },
   "file_extension": ".py",
   "mimetype": "text/x-python",
   "name": "python",
   "nbconvert_exporter": "python",
   "pygments_lexer": "ipython3",
   "version": "3.10.13"
  }
 },
 "nbformat": 4,
 "nbformat_minor": 5
}
